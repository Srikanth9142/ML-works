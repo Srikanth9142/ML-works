{
  "nbformat": 4,
  "nbformat_minor": 0,
  "metadata": {
    "colab": {
      "name": "whole MFCC LC .ipynb",
      "provenance": [],
      "collapsed_sections": [],
      "toc_visible": true,
      "include_colab_link": true
    },
    "kernelspec": {
      "name": "python3",
      "display_name": "Python 3"
    },
    "accelerator": "GPU"
  },
  "cells": [
    {
      "cell_type": "markdown",
      "metadata": {
        "id": "view-in-github",
        "colab_type": "text"
      },
      "source": [
        "<a href=\"https://colab.research.google.com/github/Srikanth9142/ML-works/blob/master/two%20language%20classification.ipynb\" target=\"_parent\"><img src=\"https://colab.research.google.com/assets/colab-badge.svg\" alt=\"Open In Colab\"/></a>"
      ]
    },
    {
      "cell_type": "code",
      "metadata": {
        "id": "aE7oejOazVXg",
        "colab_type": "code",
        "colab": {}
      },
      "source": [
        "import os \n",
        "import scipy.io.wavfile as wav\n",
        "import scipy.io.wavfile\n",
        "import contextlib\n",
        "import wave\n",
        "import numpy as np\n",
        "from tqdm import tqdm"
      ],
      "execution_count": 0,
      "outputs": []
    },
    {
      "cell_type": "code",
      "metadata": {
        "id": "9AXOhQXsRYC2",
        "colab_type": "code",
        "colab": {
          "base_uri": "https://localhost:8080/",
          "height": 80
        },
        "outputId": "cd3e056d-cfb2-4645-a4ac-7549a2b3006e"
      },
      "source": [
        "from keras.optimizers import Adam\n",
        "from keras import applications\n",
        "from keras.models import Sequential\n",
        "from keras.layers import Activation\n",
        "from keras.layers import Dense, Dropout, Activation, Flatten, Add, BatchNormalization,AveragePooling2D\n",
        "from keras.layers import Convolution2D, MaxPooling2D\n",
        "from keras.layers import GlobalAveragePooling2D,Dropout,Dense\n",
        "from keras.models import Model"
      ],
      "execution_count": 4,
      "outputs": [
        {
          "output_type": "stream",
          "text": [
            "Using TensorFlow backend.\n"
          ],
          "name": "stderr"
        },
        {
          "output_type": "display_data",
          "data": {
            "text/html": [
              "<p style=\"color: red;\">\n",
              "The default version of TensorFlow in Colab will soon switch to TensorFlow 2.x.<br>\n",
              "We recommend you <a href=\"https://www.tensorflow.org/guide/migrate\" target=\"_blank\">upgrade</a> now \n",
              "or ensure your notebook will continue to use TensorFlow 1.x via the <code>%tensorflow_version 1.x</code> magic:\n",
              "<a href=\"https://colab.research.google.com/notebooks/tensorflow_version.ipynb\" target=\"_blank\">more info</a>.</p>\n"
            ],
            "text/plain": [
              "<IPython.core.display.HTML object>"
            ]
          },
          "metadata": {
            "tags": []
          }
        }
      ]
    },
    {
      "cell_type": "code",
      "metadata": {
        "id": "-rJvZIgNO93F",
        "colab_type": "code",
        "outputId": "e91478e8-85a6-4b43-a97c-4929762aaabb",
        "colab": {
          "base_uri": "https://localhost:8080/",
          "height": 122
        }
      },
      "source": [
        "from google.colab import drive\n",
        "drive.mount('/content/drive')"
      ],
      "execution_count": 5,
      "outputs": [
        {
          "output_type": "stream",
          "text": [
            "Go to this URL in a browser: https://accounts.google.com/o/oauth2/auth?client_id=947318989803-6bn6qk8qdgf4n4g3pfee6491hc0brc4i.apps.googleusercontent.com&redirect_uri=urn%3aietf%3awg%3aoauth%3a2.0%3aoob&response_type=code&scope=email%20https%3a%2f%2fwww.googleapis.com%2fauth%2fdocs.test%20https%3a%2f%2fwww.googleapis.com%2fauth%2fdrive%20https%3a%2f%2fwww.googleapis.com%2fauth%2fdrive.photos.readonly%20https%3a%2f%2fwww.googleapis.com%2fauth%2fpeopleapi.readonly\n",
            "\n",
            "Enter your authorization code:\n",
            "··········\n",
            "Mounted at /content/drive\n"
          ],
          "name": "stdout"
        }
      ]
    },
    {
      "cell_type": "code",
      "metadata": {
        "id": "sIT8qOM8_I5g",
        "colab_type": "code",
        "outputId": "73e1794a-493b-4ea9-a63a-5fd86e1b4ac2",
        "colab": {
          "base_uri": "https://localhost:8080/",
          "height": 190
        }
      },
      "source": [
        "pip install python_speech_features"
      ],
      "execution_count": 6,
      "outputs": [
        {
          "output_type": "stream",
          "text": [
            "Collecting python_speech_features\n",
            "  Downloading https://files.pythonhosted.org/packages/ff/d1/94c59e20a2631985fbd2124c45177abaa9e0a4eee8ba8a305aa26fc02a8e/python_speech_features-0.6.tar.gz\n",
            "Building wheels for collected packages: python-speech-features\n",
            "  Building wheel for python-speech-features (setup.py) ... \u001b[?25l\u001b[?25hdone\n",
            "  Created wheel for python-speech-features: filename=python_speech_features-0.6-cp36-none-any.whl size=5887 sha256=47f754626ac3d3c214dca774860dbcfb6d3c0ac60ea9c5ef6d5e2c220015efb6\n",
            "  Stored in directory: /root/.cache/pip/wheels/3c/42/7c/f60e9d1b40015cd69b213ad90f7c18a9264cd745b9888134be\n",
            "Successfully built python-speech-features\n",
            "Installing collected packages: python-speech-features\n",
            "Successfully installed python-speech-features-0.6\n"
          ],
          "name": "stdout"
        }
      ]
    },
    {
      "cell_type": "code",
      "metadata": {
        "id": "MOpOF25vAzt7",
        "colab_type": "code",
        "colab": {}
      },
      "source": [
        "from python_speech_features import mfcc"
      ],
      "execution_count": 0,
      "outputs": []
    },
    {
      "cell_type": "markdown",
      "metadata": {
        "id": "Ajketx3k0i69",
        "colab_type": "text"
      },
      "source": [
        "This is attempt2 of Language Classification using data from [link text](http://festvox.org/h2r_indic/) and using default mfcc from python_speech_features"
      ]
    },
    {
      "cell_type": "markdown",
      "metadata": {
        "id": "NJ9pjUWt0hRQ",
        "colab_type": "text"
      },
      "source": [
        ""
      ]
    },
    {
      "cell_type": "code",
      "metadata": {
        "id": "OXd7w5zk2UqY",
        "colab_type": "code",
        "colab": {}
      },
      "source": [
        "pre_emphasis = 0.97\n",
        "frame_size = 0.025\n",
        "frame_stride = 0.01\n",
        "NFFT = 512\n",
        "nfilt = 40\n",
        "num_ceps = 12\n",
        "cep_lifter =22"
      ],
      "execution_count": 0,
      "outputs": []
    },
    {
      "cell_type": "code",
      "metadata": {
        "id": "_lhnG9Ux2WDr",
        "colab_type": "code",
        "colab": {}
      },
      "source": [
        "def length_audio(folder_name,file_name):\n",
        "  file_path='/content/drive/My Drive/LC attempt2/'+str(folder_name)+\"/\"+str(file_name)\n",
        "  sample_rate, signal = scipy.io.wavfile.read(file_path)\n",
        "  with contextlib.closing(wave.open(file_path,'r')) as f:\n",
        "      frames = f.getnframes()\n",
        "      rate = f.getframerate()\n",
        "      duration = frames / float(rate)\n",
        "  return int(duration)"
      ],
      "execution_count": 0,
      "outputs": []
    },
    {
      "cell_type": "code",
      "metadata": {
        "id": "wYzZjJUU2apL",
        "colab_type": "code",
        "colab": {}
      },
      "source": [
        "telugu_train_list = os.listdir('/content/drive/My Drive/LC attempt2/TELUGU_TRAIN')\n",
        "telugu_test_list = os.listdir('/content/drive/My Drive/LC attempt2/TELUGU_TEST')\n",
        "hindi_train_list = os.listdir('/content/drive/My Drive/LC attempt2/HINDI_TRAIN')\n",
        "hindi_test_list = os.listdir('/content/drive/My Drive/LC attempt2/HINDI_TEST')"
      ],
      "execution_count": 0,
      "outputs": []
    },
    {
      "cell_type": "code",
      "metadata": {
        "id": "VhEQOzqR-Z5G",
        "colab_type": "code",
        "outputId": "1ef6e959-a751-4d16-a0b9-4f7c0016d543",
        "colab": {
          "base_uri": "https://localhost:8080/",
          "height": 85
        }
      },
      "source": [
        "print(len(telugu_train_list))\n",
        "print(len(telugu_test_list))\n",
        "print(len(hindi_train_list))\n",
        "print(len(hindi_test_list))"
      ],
      "execution_count": 11,
      "outputs": [
        {
          "output_type": "stream",
          "text": [
            "926\n",
            "309\n",
            "2145\n",
            "715\n"
          ],
          "name": "stdout"
        }
      ]
    },
    {
      "cell_type": "code",
      "metadata": {
        "id": "L7n3WCaB_kWt",
        "colab_type": "code",
        "outputId": "8bd2eaa9-73a1-4986-f0d3-3e5434a23429",
        "colab": {
          "base_uri": "https://localhost:8080/",
          "height": 34
        }
      },
      "source": [
        "mfcc_array=[]\n",
        "for k in tqdm(range(len(telugu_train_list))):\n",
        "  #len_audio = length_audio('TELUGU_TRAIN',telugu_train_list[k])\n",
        "  rate,signal = wav.read('/content/drive/My Drive/LC attempt2/TELUGU_TRAIN/'+telugu_train_list[k])\n",
        "  mfcc_features = mfcc(signal,rate)\n",
        "  mfcc_array.append(mfcc_features)"
      ],
      "execution_count": 12,
      "outputs": [
        {
          "output_type": "stream",
          "text": [
            "100%|██████████| 926/926 [05:47<00:00,  3.31it/s]\n"
          ],
          "name": "stderr"
        }
      ]
    },
    {
      "cell_type": "code",
      "metadata": {
        "id": "5jDQCjTAEDxt",
        "colab_type": "code",
        "outputId": "440c68bf-f334-4077-ac5c-5508c64d4a41",
        "colab": {
          "base_uri": "https://localhost:8080/",
          "height": 34
        }
      },
      "source": [
        "print(len(mfcc_array))"
      ],
      "execution_count": 13,
      "outputs": [
        {
          "output_type": "stream",
          "text": [
            "926\n"
          ],
          "name": "stdout"
        }
      ]
    },
    {
      "cell_type": "code",
      "metadata": {
        "id": "Js1KfnDeN87N",
        "colab_type": "code",
        "outputId": "e21f8878-407e-4c2a-9e0b-170aaa47a7ed",
        "colab": {
          "base_uri": "https://localhost:8080/",
          "height": 34
        }
      },
      "source": [
        "\n",
        "for k in tqdm(range(926)):\n",
        "  #len_audio = length_audio('HINDI_TRAIN',hindi_train_list[k])\n",
        "  rate,signal = wav.read('/content/drive/My Drive/LC attempt2/HINDI_TRAIN/'+hindi_train_list[k])\n",
        "  mfcc_features = mfcc(signal,rate)\n",
        "  mfcc_array.append(mfcc_features)\n"
      ],
      "execution_count": 14,
      "outputs": [
        {
          "output_type": "stream",
          "text": [
            "100%|██████████| 926/926 [04:50<00:00,  3.37it/s]\n"
          ],
          "name": "stderr"
        }
      ]
    },
    {
      "cell_type": "code",
      "metadata": {
        "id": "aWQWGv0IOmc0",
        "colab_type": "code",
        "outputId": "6a03eaa7-773f-4547-cef8-af2d81cae590",
        "colab": {
          "base_uri": "https://localhost:8080/",
          "height": 34
        }
      },
      "source": [
        "len(mfcc_array)"
      ],
      "execution_count": 15,
      "outputs": [
        {
          "output_type": "execute_result",
          "data": {
            "text/plain": [
              "1852"
            ]
          },
          "metadata": {
            "tags": []
          },
          "execution_count": 15
        }
      ]
    },
    {
      "cell_type": "code",
      "metadata": {
        "id": "L64GZkDjpn2b",
        "colab_type": "code",
        "colab": {}
      },
      "source": [
        "\n",
        "y_train=np.zeros((1852,2))\n",
        "for i in range(1852):\n",
        "  if(i<926):\n",
        "    y_train[i][0] = 1\n",
        "    y_train[i][1] = 0\n",
        "  else:\n",
        "    y_train[i][0] = 0\n",
        "    y_train[i][1] = 1"
      ],
      "execution_count": 0,
      "outputs": []
    },
    {
      "cell_type": "code",
      "metadata": {
        "id": "7ENkz2O1pzAz",
        "colab_type": "code",
        "outputId": "1efe2fe0-7523-4173-f30d-c80467d709b9",
        "colab": {
          "base_uri": "https://localhost:8080/",
          "height": 136
        }
      },
      "source": [
        "y_train"
      ],
      "execution_count": 17,
      "outputs": [
        {
          "output_type": "execute_result",
          "data": {
            "text/plain": [
              "array([[1., 0.],\n",
              "       [1., 0.],\n",
              "       [1., 0.],\n",
              "       ...,\n",
              "       [0., 1.],\n",
              "       [0., 1.],\n",
              "       [0., 1.]])"
            ]
          },
          "metadata": {
            "tags": []
          },
          "execution_count": 17
        }
      ]
    },
    {
      "cell_type": "code",
      "metadata": {
        "id": "w03UtBb4KMHm",
        "colab_type": "code",
        "outputId": "ee8406af-cd6b-4f21-f394-2dbf37464245",
        "colab": {
          "base_uri": "https://localhost:8080/",
          "height": 34
        }
      },
      "source": [
        "type(y_train)"
      ],
      "execution_count": 18,
      "outputs": [
        {
          "output_type": "execute_result",
          "data": {
            "text/plain": [
              "numpy.ndarray"
            ]
          },
          "metadata": {
            "tags": []
          },
          "execution_count": 18
        }
      ]
    },
    {
      "cell_type": "code",
      "metadata": {
        "id": "k9Zt-SQNKbz4",
        "colab_type": "code",
        "outputId": "ba05f2dc-11b0-4c1e-82ef-e9d4561445aa",
        "colab": {
          "base_uri": "https://localhost:8080/",
          "height": 34
        }
      },
      "source": [
        "X_train = np.zeros((1852,199,13))\n",
        "for i in tqdm(range(len(mfcc_array))):\n",
        "  for j in range(199):\n",
        "    for k in range(13):\n",
        "      X_train[i][j][k] = mfcc_array[i][j][k]"
      ],
      "execution_count": 19,
      "outputs": [
        {
          "output_type": "stream",
          "text": [
            "100%|██████████| 1852/1852 [00:03<00:00, 478.37it/s]\n"
          ],
          "name": "stderr"
        }
      ]
    },
    {
      "cell_type": "code",
      "metadata": {
        "id": "o9K0sk92M8vz",
        "colab_type": "code",
        "outputId": "1b8009f0-1d27-4af0-af35-e1f82f6f68b3",
        "colab": {
          "base_uri": "https://localhost:8080/",
          "height": 34
        }
      },
      "source": [
        "type(X_train)\n",
        "X_train.shape"
      ],
      "execution_count": 20,
      "outputs": [
        {
          "output_type": "execute_result",
          "data": {
            "text/plain": [
              "(1852, 199, 13)"
            ]
          },
          "metadata": {
            "tags": []
          },
          "execution_count": 20
        }
      ]
    },
    {
      "cell_type": "code",
      "metadata": {
        "id": "s4fEjwGJNBSs",
        "colab_type": "code",
        "outputId": "ffa0d81c-9ae5-4e25-c220-1b2bf70f2fef",
        "colab": {
          "base_uri": "https://localhost:8080/",
          "height": 34
        }
      },
      "source": [
        "mfcc_test_array=[]\n",
        "for k in tqdm(range(309)):\n",
        "  #len_audio = length_audio('TELUGU_TRAIN',telugu_train_list[k])\n",
        "  rate,signal = wav.read('/content/drive/My Drive/LC attempt2/TELUGU_TEST/'+telugu_test_list[k])\n",
        "  mfcc_features = mfcc(signal,rate)\n",
        "  mfcc_test_array.append(mfcc_features)"
      ],
      "execution_count": 21,
      "outputs": [
        {
          "output_type": "stream",
          "text": [
            "100%|██████████| 309/309 [01:43<00:00,  2.87it/s]\n"
          ],
          "name": "stderr"
        }
      ]
    },
    {
      "cell_type": "code",
      "metadata": {
        "id": "OkvSDcO9NaPU",
        "colab_type": "code",
        "colab": {}
      },
      "source": [
        "#199X13 -->309  618"
      ],
      "execution_count": 0,
      "outputs": []
    },
    {
      "cell_type": "code",
      "metadata": {
        "id": "nxTBnP6qOWcD",
        "colab_type": "code",
        "outputId": "fdfdef93-19d5-4817-9699-533250bd767e",
        "colab": {
          "base_uri": "https://localhost:8080/",
          "height": 34
        }
      },
      "source": [
        "for k in tqdm(range(309)):\n",
        "  #len_audio = length_audio('TELUGU_TRAIN',telugu_train_list[k])\n",
        "  rate,signal = wav.read('/content/drive/My Drive/LC attempt2/HINDI_TEST/'+hindi_test_list[k])\n",
        "  mfcc_features = mfcc(signal,rate)\n",
        "  mfcc_test_array.append(mfcc_features)"
      ],
      "execution_count": 22,
      "outputs": [
        {
          "output_type": "stream",
          "text": [
            "100%|██████████| 309/309 [01:37<00:00,  3.43it/s]\n"
          ],
          "name": "stderr"
        }
      ]
    },
    {
      "cell_type": "code",
      "metadata": {
        "id": "5ZziIKZ5O2uS",
        "colab_type": "code",
        "outputId": "0ceeb511-f7e8-4362-a1df-3bbcb3be1a8e",
        "colab": {
          "base_uri": "https://localhost:8080/",
          "height": 34
        }
      },
      "source": [
        "len(mfcc_test_array)"
      ],
      "execution_count": 23,
      "outputs": [
        {
          "output_type": "execute_result",
          "data": {
            "text/plain": [
              "618"
            ]
          },
          "metadata": {
            "tags": []
          },
          "execution_count": 23
        }
      ]
    },
    {
      "cell_type": "code",
      "metadata": {
        "id": "M3_wUO3WP6HK",
        "colab_type": "code",
        "outputId": "1854e326-697a-48be-8fe4-a571aec3d685",
        "colab": {
          "base_uri": "https://localhost:8080/",
          "height": 34
        }
      },
      "source": [
        "x_test = np.zeros((618,199,13))\n",
        "for i in tqdm(range(len(mfcc_test_array))):\n",
        "  for j in range(199):\n",
        "    for k in range(13):\n",
        "      x_test[i][j][k] = mfcc_test_array[i][j][k]"
      ],
      "execution_count": 24,
      "outputs": [
        {
          "output_type": "stream",
          "text": [
            "100%|██████████| 618/618 [00:01<00:00, 465.59it/s]\n"
          ],
          "name": "stderr"
        }
      ]
    },
    {
      "cell_type": "code",
      "metadata": {
        "id": "a1WW_gMFQTcT",
        "colab_type": "code",
        "outputId": "9d877d06-d4fd-4ad3-e892-0eb3c6151c92",
        "colab": {
          "base_uri": "https://localhost:8080/",
          "height": 34
        }
      },
      "source": [
        "type(x_test)"
      ],
      "execution_count": 25,
      "outputs": [
        {
          "output_type": "execute_result",
          "data": {
            "text/plain": [
              "numpy.ndarray"
            ]
          },
          "metadata": {
            "tags": []
          },
          "execution_count": 25
        }
      ]
    },
    {
      "cell_type": "code",
      "metadata": {
        "id": "atWCr7oIQjY0",
        "colab_type": "code",
        "colab": {}
      },
      "source": [
        "y_test=[]\n",
        "for i in range(309):\n",
        "  y_test.append([1,0])\n",
        "for i in range(309):\n",
        "  y_test.append([0,1])\n",
        "y_test_reshaped = np.zeros((618,2))\n",
        "for i in range(309):\n",
        "  y_test_reshaped[i][0] = 1\n",
        "  y_test_reshaped[i][1] = 0\n",
        "for i in range(309,618):\n",
        "  y_test_reshaped[i][0] = 0\n",
        "  y_test_reshaped[i][1] =1"
      ],
      "execution_count": 0,
      "outputs": []
    },
    {
      "cell_type": "code",
      "metadata": {
        "id": "3v3gYSXMQ1oS",
        "colab_type": "code",
        "outputId": "fbe0c58c-feee-4334-a4ce-dcdfb5ec34b1",
        "colab": {
          "base_uri": "https://localhost:8080/",
          "height": 51
        }
      },
      "source": [
        "y_test = np.asarray(y_test)\n",
        "type(y_test)\n",
        "print(y_test_reshaped.shape)\n",
        "print(y_train.shape)"
      ],
      "execution_count": 39,
      "outputs": [
        {
          "output_type": "stream",
          "text": [
            "(618, 2)\n",
            "(1852, 2)\n"
          ],
          "name": "stdout"
        }
      ]
    },
    {
      "cell_type": "code",
      "metadata": {
        "id": "Ckdks_LUY12t",
        "colab_type": "code",
        "outputId": "de86d84b-e559-4669-901a-3fc25425e314",
        "colab": {
          "base_uri": "https://localhost:8080/",
          "height": 51
        }
      },
      "source": [
        "X_train_reshaped = X_train.reshape(X_train.shape[0],199,13,1)\n",
        "print(X_train_reshaped.shape)\n",
        "x_test_reshaped = x_test.reshape(x_test.shape[0],199,13,1)\n",
        "print(x_test_reshaped.shape)"
      ],
      "execution_count": 28,
      "outputs": [
        {
          "output_type": "stream",
          "text": [
            "(1852, 199, 13, 1)\n",
            "(618, 199, 13, 1)\n"
          ],
          "name": "stdout"
        }
      ]
    },
    {
      "cell_type": "code",
      "metadata": {
        "id": "CIvgzdyZSwI2",
        "colab_type": "code",
        "colab": {}
      },
      "source": [
        "from keras.layers import Convolution2D, MaxPooling2D\n",
        "from keras.layers.convolutional import Conv2D\n"
      ],
      "execution_count": 0,
      "outputs": []
    },
    {
      "cell_type": "code",
      "metadata": {
        "id": "MJhE0MBNQ5Yo",
        "colab_type": "code",
        "colab": {}
      },
      "source": [
        "####Trying with resnet50  "
      ],
      "execution_count": 0,
      "outputs": []
    },
    {
      "cell_type": "code",
      "metadata": {
        "id": "X1JgH8rZRC1i",
        "colab_type": "code",
        "colab": {}
      },
      "source": [
        "model = Sequential()\n",
        "model.add(Conv2D(100,kernel_size=(3, 3),activation='relu',input_shape=(199,13,1)))\n",
        "model.add(Dropout(0.25))\n",
        "model.add(Dense(50, activation='relu'))\n",
        "model.add(Dense(25,activation='relu'))\n",
        "model.add(Dense(13,activation='relu'))\n",
        "model.add(Dense(5,activation='relu'))\n",
        "model.add(Flatten())\n",
        "model.add(Dense(2,activation='softmax'))\n",
        "adam=Adam(lr=0.0001)\n",
        "model.compile(optimizer=adam,loss='categorical_crossentropy',metrics=['accuracy'])"
      ],
      "execution_count": 0,
      "outputs": []
    },
    {
      "cell_type": "code",
      "metadata": {
        "id": "D-XkM7uASqjh",
        "colab_type": "code",
        "outputId": "fba49736-a529-4e56-862b-13fb726e265a",
        "colab": {
          "base_uri": "https://localhost:8080/",
          "height": 425
        }
      },
      "source": [
        "model.summary()"
      ],
      "execution_count": 45,
      "outputs": [
        {
          "output_type": "stream",
          "text": [
            "Model: \"sequential_3\"\n",
            "_________________________________________________________________\n",
            "Layer (type)                 Output Shape              Param #   \n",
            "=================================================================\n",
            "conv2d_3 (Conv2D)            (None, 197, 11, 100)      1000      \n",
            "_________________________________________________________________\n",
            "dropout_3 (Dropout)          (None, 197, 11, 100)      0         \n",
            "_________________________________________________________________\n",
            "dense_11 (Dense)             (None, 197, 11, 50)       5050      \n",
            "_________________________________________________________________\n",
            "dense_12 (Dense)             (None, 197, 11, 25)       1275      \n",
            "_________________________________________________________________\n",
            "dense_13 (Dense)             (None, 197, 11, 13)       338       \n",
            "_________________________________________________________________\n",
            "dense_14 (Dense)             (None, 197, 11, 5)        70        \n",
            "_________________________________________________________________\n",
            "flatten_2 (Flatten)          (None, 10835)             0         \n",
            "_________________________________________________________________\n",
            "dense_15 (Dense)             (None, 2)                 21672     \n",
            "=================================================================\n",
            "Total params: 29,405\n",
            "Trainable params: 29,405\n",
            "Non-trainable params: 0\n",
            "_________________________________________________________________\n"
          ],
          "name": "stdout"
        }
      ]
    },
    {
      "cell_type": "code",
      "metadata": {
        "id": "gmHj_mtxBPm5",
        "colab_type": "code",
        "colab": {
          "base_uri": "https://localhost:8080/",
          "height": 136
        },
        "outputId": "9a5ff3b7-bdb4-482f-8330-fd3a12fc013b"
      },
      "source": [
        "print(y_train)"
      ],
      "execution_count": 49,
      "outputs": [
        {
          "output_type": "stream",
          "text": [
            "[[1. 0.]\n",
            " [1. 0.]\n",
            " [1. 0.]\n",
            " ...\n",
            " [0. 1.]\n",
            " [0. 1.]\n",
            " [0. 1.]]\n"
          ],
          "name": "stdout"
        }
      ]
    },
    {
      "cell_type": "code",
      "metadata": {
        "id": "yklnRp-3_nNw",
        "colab_type": "code",
        "colab": {
          "base_uri": "https://localhost:8080/",
          "height": 51
        },
        "outputId": "e73cda00-479f-4fe6-ab4a-2ffa4d7ad7a8"
      },
      "source": [
        "print(X_train_reshaped.shape)\n",
        "print(y_train.shape)"
      ],
      "execution_count": 46,
      "outputs": [
        {
          "output_type": "stream",
          "text": [
            "(1852, 199, 13, 1)\n",
            "(1852, 2)\n"
          ],
          "name": "stdout"
        }
      ]
    },
    {
      "cell_type": "code",
      "metadata": {
        "id": "Sf46ng9TXJmx",
        "colab_type": "code",
        "outputId": "d603927f-3d06-490f-cc74-a0a5a82fc583",
        "colab": {
          "base_uri": "https://localhost:8080/",
          "height": 751
        }
      },
      "source": [
        "model.fit(X_train_reshaped,y_train,epochs=20,validation_data=(x_test_reshaped,y_test_reshaped))"
      ],
      "execution_count": 47,
      "outputs": [
        {
          "output_type": "stream",
          "text": [
            "Train on 1852 samples, validate on 618 samples\n",
            "Epoch 1/20\n",
            "1852/1852 [==============================] - 7s 4ms/step - loss: 0.4602 - acc: 0.8051 - val_loss: 0.0476 - val_acc: 0.9968\n",
            "Epoch 2/20\n",
            "1852/1852 [==============================] - 1s 333us/step - loss: 0.0401 - acc: 0.9914 - val_loss: 0.0060 - val_acc: 1.0000\n",
            "Epoch 3/20\n",
            "1852/1852 [==============================] - 1s 361us/step - loss: 0.0124 - acc: 0.9978 - val_loss: 0.0015 - val_acc: 1.0000\n",
            "Epoch 4/20\n",
            "1852/1852 [==============================] - 1s 364us/step - loss: 0.0072 - acc: 0.9984 - val_loss: 8.6700e-04 - val_acc: 1.0000\n",
            "Epoch 5/20\n",
            "1852/1852 [==============================] - 1s 346us/step - loss: 0.0031 - acc: 1.0000 - val_loss: 4.7335e-04 - val_acc: 1.0000\n",
            "Epoch 6/20\n",
            "1852/1852 [==============================] - 1s 353us/step - loss: 0.0026 - acc: 0.9995 - val_loss: 3.1181e-04 - val_acc: 1.0000\n",
            "Epoch 7/20\n",
            "1852/1852 [==============================] - 1s 351us/step - loss: 0.0022 - acc: 0.9995 - val_loss: 1.5320e-04 - val_acc: 1.0000\n",
            "Epoch 8/20\n",
            "1852/1852 [==============================] - 1s 359us/step - loss: 0.0012 - acc: 1.0000 - val_loss: 1.3617e-04 - val_acc: 1.0000\n",
            "Epoch 9/20\n",
            "1852/1852 [==============================] - 1s 346us/step - loss: 0.0014 - acc: 0.9995 - val_loss: 8.7032e-05 - val_acc: 1.0000\n",
            "Epoch 10/20\n",
            "1852/1852 [==============================] - 1s 367us/step - loss: 5.5188e-04 - acc: 1.0000 - val_loss: 8.0123e-05 - val_acc: 1.0000\n",
            "Epoch 11/20\n",
            "1852/1852 [==============================] - 1s 351us/step - loss: 4.6652e-04 - acc: 1.0000 - val_loss: 6.2049e-05 - val_acc: 1.0000\n",
            "Epoch 12/20\n",
            "1852/1852 [==============================] - 1s 353us/step - loss: 5.2231e-04 - acc: 1.0000 - val_loss: 5.8001e-05 - val_acc: 1.0000\n",
            "Epoch 13/20\n",
            "1852/1852 [==============================] - 1s 374us/step - loss: 3.9673e-04 - acc: 1.0000 - val_loss: 4.2965e-05 - val_acc: 1.0000\n",
            "Epoch 14/20\n",
            "1852/1852 [==============================] - 1s 352us/step - loss: 5.3039e-04 - acc: 1.0000 - val_loss: 3.0611e-05 - val_acc: 1.0000\n",
            "Epoch 15/20\n",
            "1852/1852 [==============================] - 1s 361us/step - loss: 2.1733e-04 - acc: 1.0000 - val_loss: 3.3201e-05 - val_acc: 1.0000\n",
            "Epoch 16/20\n",
            "1852/1852 [==============================] - 1s 356us/step - loss: 1.9054e-04 - acc: 1.0000 - val_loss: 2.8255e-05 - val_acc: 1.0000\n",
            "Epoch 17/20\n",
            "1852/1852 [==============================] - 1s 340us/step - loss: 1.9916e-04 - acc: 1.0000 - val_loss: 2.4658e-05 - val_acc: 1.0000\n",
            "Epoch 18/20\n",
            "1852/1852 [==============================] - 1s 346us/step - loss: 1.9412e-04 - acc: 1.0000 - val_loss: 1.9651e-05 - val_acc: 1.0000\n",
            "Epoch 19/20\n",
            "1852/1852 [==============================] - 1s 356us/step - loss: 1.0973e-04 - acc: 1.0000 - val_loss: 1.8716e-05 - val_acc: 1.0000\n",
            "Epoch 20/20\n",
            "1852/1852 [==============================] - 1s 344us/step - loss: 1.2086e-04 - acc: 1.0000 - val_loss: 1.8095e-05 - val_acc: 1.0000\n"
          ],
          "name": "stdout"
        },
        {
          "output_type": "execute_result",
          "data": {
            "text/plain": [
              "<keras.callbacks.History at 0x7f575022c320>"
            ]
          },
          "metadata": {
            "tags": []
          },
          "execution_count": 47
        }
      ]
    },
    {
      "cell_type": "code",
      "metadata": {
        "id": "bD2UueYfXQBC",
        "colab_type": "code",
        "colab": {}
      },
      "source": [
        "result = model.predict(x_test_reshaped) ##Means TElugu"
      ],
      "execution_count": 0,
      "outputs": []
    },
    {
      "cell_type": "code",
      "metadata": {
        "id": "HC17EyGbdqpC",
        "colab_type": "code",
        "outputId": "2e18461e-1f8a-4b9d-992e-a3970f64880c",
        "colab": {
          "base_uri": "https://localhost:8080/",
          "height": 136
        }
      },
      "source": [
        "result"
      ],
      "execution_count": 51,
      "outputs": [
        {
          "output_type": "execute_result",
          "data": {
            "text/plain": [
              "array([[1.0000000e+00, 2.4138371e-08],\n",
              "       [9.9999988e-01, 9.2545413e-08],\n",
              "       [1.0000000e+00, 6.9303372e-09],\n",
              "       ...,\n",
              "       [9.2170080e-07, 9.9999905e-01],\n",
              "       [2.2159403e-08, 1.0000000e+00],\n",
              "       [1.4267719e-09, 1.0000000e+00]], dtype=float32)"
            ]
          },
          "metadata": {
            "tags": []
          },
          "execution_count": 51
        }
      ]
    },
    {
      "cell_type": "code",
      "metadata": {
        "id": "fLwKH_f6d6eB",
        "colab_type": "code",
        "outputId": "e68db55a-2a1f-4c1d-c902-d4f6d18f9f96",
        "colab": {
          "base_uri": "https://localhost:8080/",
          "height": 34
        }
      },
      "source": [
        "result.shape"
      ],
      "execution_count": 52,
      "outputs": [
        {
          "output_type": "execute_result",
          "data": {
            "text/plain": [
              "(618, 2)"
            ]
          },
          "metadata": {
            "tags": []
          },
          "execution_count": 52
        }
      ]
    },
    {
      "cell_type": "code",
      "metadata": {
        "id": "6J4LC2spd8eN",
        "colab_type": "code",
        "outputId": "c1643feb-c352-4628-e403-2f93815a830d",
        "colab": {
          "base_uri": "https://localhost:8080/",
          "height": 85
        }
      },
      "source": [
        "prediction(result)"
      ],
      "execution_count": 55,
      "outputs": [
        {
          "output_type": "stream",
          "text": [
            "[309.0078345435679, 308.9921667754347]\n",
            "Accent:  telugu\n",
            "50.00% -> telugu\n",
            "50.00% -> hindi\n"
          ],
          "name": "stdout"
        }
      ]
    },
    {
      "cell_type": "code",
      "metadata": {
        "id": "XGZ_dFIOeTFT",
        "colab_type": "code",
        "colab": {}
      },
      "source": [
        "def prediction(targ):\n",
        "    accents = ['telugu','hindi']\n",
        "    np.set_printoptions(formatter={'float_kind':'{:.1f}'.format})\n",
        "    #np.set_printoptions(formatter={'float_kind':'{:.1f}'.format})\n",
        "    l=[]\n",
        "    out_len = len(targ)\n",
        "    in_len = len(targ[0])\n",
        "    for i in range(in_len):\n",
        "        sumi = 0\n",
        "        for j in range(out_len):\n",
        "            sumi+=targ[j][i]\n",
        "        l.append(sumi)\n",
        "    print(l)\n",
        "    maximum = -1\n",
        "    max_ind = -1\n",
        "    for i in range(len(l)):\n",
        "        if(l[i] > maximum):\n",
        "            maximum = l[i]\n",
        "            max_ind = i+1\n",
        "    # print(maximum, max_ind)\n",
        "    print(\"Accent: \",accents[max_ind-1])\n",
        "    for i in l:\n",
        "        if i!=0:\n",
        "            per = (i/float(out_len))*100\n",
        "            if(per>1):\n",
        "                print(\"{1:.2f}% -> {0}\".format(accents[l.index(i)],per))"
      ],
      "execution_count": 0,
      "outputs": []
    },
    {
      "cell_type": "code",
      "metadata": {
        "id": "MyGc8I4wehlR",
        "colab_type": "code",
        "colab": {}
      },
      "source": [
        "###Rough by srikanth\n",
        "filename = 'modifiedtharak.wav'\n",
        "leng = length_audio('Manual_Testing',filename)\n",
        "rate,signal=wav.read('/content/drive/My Drive/LC attempt2/Manual_Testing/'+filename)\n"
      ],
      "execution_count": 0,
      "outputs": []
    },
    {
      "cell_type": "code",
      "metadata": {
        "id": "eRlCYKqsjKPT",
        "colab_type": "code",
        "outputId": "1d3d64a8-daf8-4787-db9e-2e6f2b8a4da5",
        "colab": {
          "base_uri": "https://localhost:8080/",
          "height": 34
        }
      },
      "source": [
        "a = 32000\n",
        "len(signal[a:a+a])"
      ],
      "execution_count": 57,
      "outputs": [
        {
          "output_type": "execute_result",
          "data": {
            "text/plain": [
              "28075"
            ]
          },
          "metadata": {
            "tags": []
          },
          "execution_count": 57
        }
      ]
    },
    {
      "cell_type": "code",
      "metadata": {
        "id": "zM3MwGiVjLVk",
        "colab_type": "code",
        "colab": {}
      },
      "source": [
        "\n",
        "b=0\n",
        "a=32000\n",
        "count=0\n",
        "manual_mfcc_array=[]\n",
        "while(b<len(signal)):\n",
        "  count+=1\n",
        "  manual_mfcc_array.append(mfcc(signal[b:a],rate))\n",
        "  b+=32000\n",
        "  a+=32000\n",
        "\n"
      ],
      "execution_count": 0,
      "outputs": []
    },
    {
      "cell_type": "code",
      "metadata": {
        "id": "N11AA810jTaV",
        "colab_type": "code",
        "outputId": "c3b5796f-e1d4-48f4-e12b-e7b5bd612c5a",
        "colab": {
          "base_uri": "https://localhost:8080/",
          "height": 34
        }
      },
      "source": [
        "len(manual_mfcc_array[0])\n",
        "\n"
      ],
      "execution_count": 59,
      "outputs": [
        {
          "output_type": "execute_result",
          "data": {
            "text/plain": [
              "199"
            ]
          },
          "metadata": {
            "tags": []
          },
          "execution_count": 59
        }
      ]
    },
    {
      "cell_type": "code",
      "metadata": {
        "id": "2ssNE239j89z",
        "colab_type": "code",
        "colab": {}
      },
      "source": [
        "input_arr = np.zeros((count,199,13))\n",
        "for i in range(1):\n",
        "  for j in range(199):\n",
        "    for k in range(13):\n",
        "      input_arr[i][j][k] = manual_mfcc_array[i][j][k]\n",
        "input_arr_modified = input_arr.reshape(input_arr.shape[0],199,13,1)"
      ],
      "execution_count": 0,
      "outputs": []
    },
    {
      "cell_type": "code",
      "metadata": {
        "id": "bZnGEksbpQA_",
        "colab_type": "code",
        "colab": {}
      },
      "source": [
        "result1=model.predict(input_arr_modified)"
      ],
      "execution_count": 0,
      "outputs": []
    },
    {
      "cell_type": "code",
      "metadata": {
        "id": "XYgxM9Cup7rS",
        "colab_type": "code",
        "outputId": "5be95a70-a4cc-433d-c41a-7caacefa3a0d",
        "colab": {
          "base_uri": "https://localhost:8080/",
          "height": 51
        }
      },
      "source": [
        "result1"
      ],
      "execution_count": 62,
      "outputs": [
        {
          "output_type": "execute_result",
          "data": {
            "text/plain": [
              "array([[0.0, 1.0],\n",
              "       [0.5, 0.5]], dtype=float32)"
            ]
          },
          "metadata": {
            "tags": []
          },
          "execution_count": 62
        }
      ]
    },
    {
      "cell_type": "code",
      "metadata": {
        "id": "E-Uq3IHHrBXB",
        "colab_type": "code",
        "outputId": "74b600cc-92a7-4466-fef4-c2c6ff0692f5",
        "colab": {
          "base_uri": "https://localhost:8080/",
          "height": 85
        }
      },
      "source": [
        "prediction(result1)"
      ],
      "execution_count": 63,
      "outputs": [
        {
          "output_type": "stream",
          "text": [
            "[0.5331561325442635, 1.466843843460083]\n",
            "Accent:  hindi\n",
            "26.66% -> telugu\n",
            "73.34% -> hindi\n"
          ],
          "name": "stdout"
        }
      ]
    },
    {
      "cell_type": "code",
      "metadata": {
        "id": "QYKB_EaqUs4U",
        "colab_type": "code",
        "colab": {}
      },
      "source": [
        ""
      ],
      "execution_count": 0,
      "outputs": []
    }
  ]
}