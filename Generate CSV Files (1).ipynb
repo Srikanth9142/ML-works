{
 "cells": [
  {
   "cell_type": "code",
   "execution_count": 1,
   "metadata": {},
   "outputs": [],
   "source": [
    "import pandas as pd"
   ]
  },
  {
   "cell_type": "code",
   "execution_count": 55,
   "metadata": {},
   "outputs": [],
   "source": [
    "telugu_train=[]\n",
    "telugu_values=[1]*1557\n",
    "for i in range(1,1557+1):\n",
    "    telugu_train.append(\"telugu\"+str(i)+\".png\")"
   ]
  },
  {
   "cell_type": "code",
   "execution_count": 20,
   "metadata": {},
   "outputs": [
    {
     "name": "stdout",
     "output_type": "stream",
     "text": [
      "1557\n"
     ]
    }
   ],
   "source": [
    "print(len(telugu_values))"
   ]
  },
  {
   "cell_type": "code",
   "execution_count": 21,
   "metadata": {},
   "outputs": [],
   "source": [
    "dicti = {'language':telugu_train,'id':telugu_values}"
   ]
  },
  {
   "cell_type": "raw",
   "metadata": {},
   "source": []
  },
  {
   "cell_type": "code",
   "execution_count": 22,
   "metadata": {},
   "outputs": [],
   "source": [
    "df = pd.DataFrame.from_dict(dicti)"
   ]
  },
  {
   "cell_type": "code",
   "execution_count": 23,
   "metadata": {},
   "outputs": [],
   "source": [
    "df.to_csv(\"F:/telugu_train.csv\",index=False)"
   ]
  },
  {
   "cell_type": "code",
   "execution_count": 56,
   "metadata": {},
   "outputs": [],
   "source": [
    "###bengali train\n",
    "bengali_train=[]\n",
    "bengali_values=[0]*1143\n",
    "for i in range(1,1143+1):\n",
    "    bengali_train.append(\"bengali\"+str(i)+\".png\")\n"
   ]
  },
  {
   "cell_type": "code",
   "execution_count": 28,
   "metadata": {},
   "outputs": [],
   "source": [
    "bengali_train_dict = {'language':bengali_train,'id':bengali_values}"
   ]
  },
  {
   "cell_type": "code",
   "execution_count": 29,
   "metadata": {},
   "outputs": [],
   "source": [
    "bengali_train_df = pd.DataFrame.from_dict(bengali_train_dict)"
   ]
  },
  {
   "cell_type": "code",
   "execution_count": 31,
   "metadata": {},
   "outputs": [],
   "source": [
    "bengali_train_df.to_csv(\"F:/bengali_train.csv\",index=False)"
   ]
  },
  {
   "cell_type": "code",
   "execution_count": 32,
   "metadata": {},
   "outputs": [
    {
     "name": "stdout",
     "output_type": "stream",
     "text": [
      "['bengali1.png', 'bengali2.png', 'bengali3.png', 'bengali4.png', 'bengali5.png', 'bengali6.png', 'bengali7.png', 'bengali8.png', 'bengali9.png', 'bengali10.png', 'bengali11.png', 'bengali12.png', 'bengali13.png', 'bengali14.png', 'bengali15.png', 'bengali16.png', 'bengali17.png', 'bengali18.png', 'bengali19.png', 'bengali20.png', 'bengali21.png', 'bengali22.png', 'bengali23.png', 'bengali24.png', 'bengali25.png', 'bengali26.png', 'bengali27.png', 'bengali28.png', 'bengali29.png', 'bengali30.png', 'bengali31.png', 'bengali32.png', 'bengali33.png', 'bengali34.png', 'bengali35.png', 'bengali36.png', 'bengali37.png', 'bengali38.png', 'bengali39.png', 'bengali40.png', 'bengali41.png', 'bengali42.png', 'bengali43.png', 'bengali44.png', 'bengali45.png', 'bengali46.png', 'bengali47.png', 'bengali48.png', 'bengali49.png', 'bengali50.png', 'bengali51.png', 'bengali52.png', 'bengali53.png', 'bengali54.png', 'bengali55.png', 'bengali56.png', 'bengali57.png', 'bengali58.png', 'bengali59.png', 'bengali60.png', 'bengali61.png', 'bengali62.png', 'bengali63.png', 'bengali64.png', 'bengali65.png', 'bengali66.png', 'bengali67.png', 'bengali68.png', 'bengali69.png', 'bengali70.png', 'bengali71.png', 'bengali72.png', 'bengali73.png', 'bengali74.png', 'bengali75.png', 'bengali76.png', 'bengali77.png', 'bengali78.png', 'bengali79.png', 'bengali80.png', 'bengali81.png', 'bengali82.png', 'bengali83.png', 'bengali84.png', 'bengali85.png', 'bengali86.png', 'bengali87.png', 'bengali88.png', 'bengali89.png', 'bengali90.png', 'bengali91.png', 'bengali92.png', 'bengali93.png', 'bengali94.png', 'bengali95.png', 'bengali96.png', 'bengali97.png', 'bengali98.png', 'bengali99.png', 'bengali100.png', 'bengali101.png', 'bengali102.png', 'bengali103.png', 'bengali104.png', 'bengali105.png', 'bengali106.png', 'bengali107.png', 'bengali108.png', 'bengali109.png', 'bengali110.png', 'bengali111.png', 'bengali112.png', 'bengali113.png', 'bengali114.png', 'bengali115.png', 'bengali116.png', 'bengali117.png', 'bengali118.png', 'bengali119.png', 'bengali120.png', 'bengali121.png', 'bengali122.png', 'bengali123.png', 'bengali124.png', 'bengali125.png', 'bengali126.png', 'bengali127.png', 'bengali128.png', 'bengali129.png', 'bengali130.png', 'bengali131.png', 'bengali132.png', 'bengali133.png', 'bengali134.png', 'bengali135.png', 'bengali136.png', 'bengali137.png', 'bengali138.png', 'bengali139.png', 'bengali140.png', 'bengali141.png', 'bengali142.png', 'bengali143.png', 'bengali144.png', 'bengali145.png', 'bengali146.png', 'bengali147.png', 'bengali148.png', 'bengali149.png', 'bengali150.png', 'bengali151.png', 'bengali152.png', 'bengali153.png', 'bengali154.png', 'bengali155.png', 'bengali156.png', 'bengali157.png', 'bengali158.png', 'bengali159.png', 'bengali160.png', 'bengali161.png', 'bengali162.png', 'bengali163.png', 'bengali164.png', 'bengali165.png', 'bengali166.png', 'bengali167.png', 'bengali168.png', 'bengali169.png', 'bengali170.png', 'bengali171.png', 'bengali172.png', 'bengali173.png', 'bengali174.png', 'bengali175.png', 'bengali176.png', 'bengali177.png', 'bengali178.png', 'bengali179.png', 'bengali180.png', 'bengali181.png', 'bengali182.png', 'bengali183.png', 'bengali184.png', 'bengali185.png', 'bengali186.png', 'bengali187.png', 'bengali188.png', 'bengali189.png', 'bengali190.png', 'bengali191.png', 'bengali192.png', 'bengali193.png', 'bengali194.png', 'bengali195.png', 'bengali196.png', 'bengali197.png', 'bengali198.png', 'bengali199.png', 'bengali200.png', 'bengali201.png', 'bengali202.png', 'bengali203.png', 'bengali204.png', 'bengali205.png', 'bengali206.png', 'bengali207.png', 'bengali208.png', 'bengali209.png', 'bengali210.png', 'bengali211.png', 'bengali212.png', 'bengali213.png', 'bengali214.png', 'bengali215.png', 'bengali216.png', 'bengali217.png', 'bengali218.png', 'bengali219.png', 'bengali220.png', 'bengali221.png', 'bengali222.png', 'bengali223.png', 'bengali224.png', 'bengali225.png', 'bengali226.png', 'bengali227.png', 'bengali228.png', 'bengali229.png', 'bengali230.png', 'bengali231.png', 'bengali232.png', 'bengali233.png', 'bengali234.png', 'bengali235.png', 'bengali236.png', 'bengali237.png', 'bengali238.png', 'bengali239.png', 'bengali240.png', 'bengali241.png', 'bengali242.png', 'bengali243.png', 'bengali244.png', 'bengali245.png', 'bengali246.png', 'bengali247.png', 'bengali248.png', 'bengali249.png', 'bengali250.png', 'bengali251.png', 'bengali252.png', 'bengali253.png', 'bengali254.png', 'bengali255.png', 'bengali256.png', 'bengali257.png', 'bengali258.png', 'bengali259.png', 'bengali260.png', 'bengali261.png', 'bengali262.png', 'bengali263.png', 'bengali264.png', 'bengali265.png', 'bengali266.png', 'bengali267.png', 'bengali268.png', 'bengali269.png', 'bengali270.png', 'bengali271.png', 'bengali272.png', 'bengali273.png', 'bengali274.png', 'bengali275.png', 'bengali276.png', 'bengali277.png', 'bengali278.png', 'bengali279.png', 'bengali280.png', 'bengali281.png', 'bengali282.png', 'bengali283.png', 'bengali284.png', 'bengali285.png', 'bengali286.png', 'bengali287.png', 'bengali288.png', 'bengali289.png', 'bengali290.png', 'bengali291.png', 'bengali292.png', 'bengali293.png', 'bengali294.png', 'bengali295.png', 'bengali296.png', 'bengali297.png', 'bengali298.png', 'bengali299.png', 'bengali300.png', 'bengali301.png', 'bengali302.png', 'bengali303.png', 'bengali304.png', 'bengali305.png', 'bengali306.png', 'bengali307.png', 'bengali308.png', 'bengali309.png', 'bengali310.png', 'bengali311.png', 'bengali312.png', 'bengali313.png', 'bengali314.png', 'bengali315.png', 'bengali316.png', 'bengali317.png', 'bengali318.png', 'bengali319.png', 'bengali320.png', 'bengali321.png', 'bengali322.png', 'bengali323.png', 'bengali324.png', 'bengali325.png', 'bengali326.png', 'bengali327.png', 'bengali328.png', 'bengali329.png', 'bengali330.png', 'bengali331.png', 'bengali332.png', 'bengali333.png', 'bengali334.png', 'bengali335.png', 'bengali336.png', 'bengali337.png', 'bengali338.png', 'bengali339.png', 'bengali340.png', 'bengali341.png', 'bengali342.png', 'bengali343.png', 'bengali344.png', 'bengali345.png', 'bengali346.png', 'bengali347.png', 'bengali348.png', 'bengali349.png', 'bengali350.png', 'bengali351.png', 'bengali352.png', 'bengali353.png', 'bengali354.png', 'bengali355.png', 'bengali356.png', 'bengali357.png', 'bengali358.png', 'bengali359.png', 'bengali360.png', 'bengali361.png', 'bengali362.png', 'bengali363.png', 'bengali364.png', 'bengali365.png', 'bengali366.png', 'bengali367.png', 'bengali368.png', 'bengali369.png', 'bengali370.png', 'bengali371.png', 'bengali372.png', 'bengali373.png', 'bengali374.png', 'bengali375.png', 'bengali376.png', 'bengali377.png', 'bengali378.png', 'bengali379.png', 'bengali380.png', 'bengali381.png', 'bengali382.png', 'bengali383.png', 'bengali384.png', 'bengali385.png', 'bengali386.png', 'bengali387.png', 'bengali388.png', 'bengali389.png', 'bengali390.png', 'bengali391.png', 'bengali392.png', 'bengali393.png', 'bengali394.png', 'bengali395.png', 'bengali396.png', 'bengali397.png', 'bengali398.png', 'bengali399.png', 'bengali400.png', 'bengali401.png', 'bengali402.png', 'bengali403.png', 'bengali404.png', 'bengali405.png', 'bengali406.png', 'bengali407.png', 'bengali408.png', 'bengali409.png', 'bengali410.png', 'bengali411.png', 'bengali412.png', 'bengali413.png', 'bengali414.png', 'bengali415.png', 'bengali416.png', 'bengali417.png', 'bengali418.png', 'bengali419.png', 'bengali420.png', 'bengali421.png', 'bengali422.png', 'bengali423.png', 'bengali424.png', 'bengali425.png', 'bengali426.png', 'bengali427.png', 'bengali428.png', 'bengali429.png', 'bengali430.png', 'bengali431.png', 'bengali432.png', 'bengali433.png', 'bengali434.png', 'bengali435.png', 'bengali436.png', 'bengali437.png', 'bengali438.png', 'bengali439.png', 'bengali440.png', 'bengali441.png', 'bengali442.png', 'bengali443.png', 'bengali444.png', 'bengali445.png', 'bengali446.png', 'bengali447.png', 'bengali448.png', 'bengali449.png', 'bengali450.png', 'bengali451.png', 'bengali452.png', 'bengali453.png', 'bengali454.png', 'bengali455.png', 'bengali456.png', 'bengali457.png', 'bengali458.png', 'bengali459.png', 'bengali460.png', 'bengali461.png', 'bengali462.png', 'bengali463.png', 'bengali464.png', 'bengali465.png', 'bengali466.png', 'bengali467.png', 'bengali468.png', 'bengali469.png', 'bengali470.png', 'bengali471.png', 'bengali472.png', 'bengali473.png', 'bengali474.png', 'bengali475.png', 'bengali476.png', 'bengali477.png', 'bengali478.png', 'bengali479.png', 'bengali480.png', 'bengali481.png', 'bengali482.png', 'bengali483.png', 'bengali484.png', 'bengali485.png', 'bengali486.png', 'bengali487.png', 'bengali488.png', 'bengali489.png', 'bengali490.png', 'bengali491.png', 'bengali492.png', 'bengali493.png', 'bengali494.png', 'bengali495.png', 'bengali496.png', 'bengali497.png', 'bengali498.png', 'bengali499.png', 'bengali500.png', 'bengali501.png']\n"
     ]
    }
   ],
   "source": [
    "###testing bengali\n",
    "bengali_test=[]\n",
    "bengali_test_values=[0]*501\n",
    "for i in range(1,501+1):\n",
    "    bengali_test.append(\"bengali\"+str(i)+\".png\")\n",
    "print(bengali_test)"
   ]
  },
  {
   "cell_type": "code",
   "execution_count": 33,
   "metadata": {},
   "outputs": [],
   "source": [
    "bengali_test_dict = {'language':bengali_test,'id':bengali_test_values}"
   ]
  },
  {
   "cell_type": "code",
   "execution_count": 34,
   "metadata": {},
   "outputs": [],
   "source": [
    "bengali_test_df = pd.DataFrame.from_dict(bengali_test_dict)"
   ]
  },
  {
   "cell_type": "code",
   "execution_count": 35,
   "metadata": {},
   "outputs": [],
   "source": [
    "bengali_test_df.to_csv(\"F:/bengali_test.csv\",index=False)"
   ]
  },
  {
   "cell_type": "code",
   "execution_count": 36,
   "metadata": {},
   "outputs": [
    {
     "name": "stdout",
     "output_type": "stream",
     "text": [
      "['telugu1.png', 'telugu2.png', 'telugu3.png', 'telugu4.png', 'telugu5.png', 'telugu6.png', 'telugu7.png', 'telugu8.png', 'telugu9.png', 'telugu10.png', 'telugu11.png', 'telugu12.png', 'telugu13.png', 'telugu14.png', 'telugu15.png', 'telugu16.png', 'telugu17.png', 'telugu18.png', 'telugu19.png', 'telugu20.png', 'telugu21.png', 'telugu22.png', 'telugu23.png', 'telugu24.png', 'telugu25.png', 'telugu26.png', 'telugu27.png', 'telugu28.png', 'telugu29.png', 'telugu30.png', 'telugu31.png', 'telugu32.png', 'telugu33.png', 'telugu34.png', 'telugu35.png', 'telugu36.png', 'telugu37.png', 'telugu38.png', 'telugu39.png', 'telugu40.png', 'telugu41.png', 'telugu42.png', 'telugu43.png', 'telugu44.png', 'telugu45.png', 'telugu46.png', 'telugu47.png', 'telugu48.png', 'telugu49.png', 'telugu50.png', 'telugu51.png', 'telugu52.png', 'telugu53.png', 'telugu54.png', 'telugu55.png', 'telugu56.png', 'telugu57.png', 'telugu58.png', 'telugu59.png', 'telugu60.png', 'telugu61.png', 'telugu62.png', 'telugu63.png', 'telugu64.png', 'telugu65.png', 'telugu66.png', 'telugu67.png', 'telugu68.png', 'telugu69.png', 'telugu70.png', 'telugu71.png', 'telugu72.png', 'telugu73.png', 'telugu74.png', 'telugu75.png', 'telugu76.png', 'telugu77.png', 'telugu78.png', 'telugu79.png', 'telugu80.png', 'telugu81.png', 'telugu82.png', 'telugu83.png', 'telugu84.png', 'telugu85.png', 'telugu86.png', 'telugu87.png', 'telugu88.png', 'telugu89.png', 'telugu90.png', 'telugu91.png', 'telugu92.png', 'telugu93.png', 'telugu94.png', 'telugu95.png', 'telugu96.png', 'telugu97.png', 'telugu98.png', 'telugu99.png', 'telugu100.png', 'telugu101.png', 'telugu102.png', 'telugu103.png', 'telugu104.png', 'telugu105.png', 'telugu106.png', 'telugu107.png', 'telugu108.png', 'telugu109.png', 'telugu110.png', 'telugu111.png', 'telugu112.png', 'telugu113.png', 'telugu114.png', 'telugu115.png', 'telugu116.png', 'telugu117.png', 'telugu118.png', 'telugu119.png', 'telugu120.png', 'telugu121.png', 'telugu122.png', 'telugu123.png', 'telugu124.png', 'telugu125.png', 'telugu126.png', 'telugu127.png', 'telugu128.png', 'telugu129.png', 'telugu130.png', 'telugu131.png', 'telugu132.png', 'telugu133.png', 'telugu134.png', 'telugu135.png', 'telugu136.png', 'telugu137.png', 'telugu138.png', 'telugu139.png', 'telugu140.png', 'telugu141.png', 'telugu142.png', 'telugu143.png', 'telugu144.png', 'telugu145.png', 'telugu146.png', 'telugu147.png', 'telugu148.png', 'telugu149.png', 'telugu150.png', 'telugu151.png', 'telugu152.png', 'telugu153.png', 'telugu154.png', 'telugu155.png', 'telugu156.png', 'telugu157.png', 'telugu158.png', 'telugu159.png', 'telugu160.png', 'telugu161.png', 'telugu162.png', 'telugu163.png', 'telugu164.png', 'telugu165.png', 'telugu166.png', 'telugu167.png', 'telugu168.png', 'telugu169.png', 'telugu170.png', 'telugu171.png', 'telugu172.png', 'telugu173.png', 'telugu174.png', 'telugu175.png', 'telugu176.png', 'telugu177.png', 'telugu178.png', 'telugu179.png', 'telugu180.png', 'telugu181.png', 'telugu182.png', 'telugu183.png', 'telugu184.png', 'telugu185.png', 'telugu186.png', 'telugu187.png', 'telugu188.png', 'telugu189.png', 'telugu190.png', 'telugu191.png', 'telugu192.png', 'telugu193.png', 'telugu194.png', 'telugu195.png', 'telugu196.png', 'telugu197.png', 'telugu198.png', 'telugu199.png', 'telugu200.png', 'telugu201.png', 'telugu202.png', 'telugu203.png', 'telugu204.png', 'telugu205.png', 'telugu206.png', 'telugu207.png', 'telugu208.png', 'telugu209.png', 'telugu210.png', 'telugu211.png', 'telugu212.png', 'telugu213.png', 'telugu214.png', 'telugu215.png', 'telugu216.png', 'telugu217.png', 'telugu218.png', 'telugu219.png', 'telugu220.png', 'telugu221.png', 'telugu222.png', 'telugu223.png', 'telugu224.png', 'telugu225.png', 'telugu226.png', 'telugu227.png', 'telugu228.png', 'telugu229.png', 'telugu230.png', 'telugu231.png', 'telugu232.png', 'telugu233.png', 'telugu234.png', 'telugu235.png', 'telugu236.png', 'telugu237.png', 'telugu238.png', 'telugu239.png', 'telugu240.png', 'telugu241.png', 'telugu242.png', 'telugu243.png', 'telugu244.png', 'telugu245.png', 'telugu246.png', 'telugu247.png', 'telugu248.png', 'telugu249.png', 'telugu250.png', 'telugu251.png', 'telugu252.png', 'telugu253.png', 'telugu254.png', 'telugu255.png', 'telugu256.png', 'telugu257.png', 'telugu258.png', 'telugu259.png', 'telugu260.png', 'telugu261.png', 'telugu262.png', 'telugu263.png', 'telugu264.png', 'telugu265.png', 'telugu266.png', 'telugu267.png', 'telugu268.png', 'telugu269.png', 'telugu270.png', 'telugu271.png', 'telugu272.png', 'telugu273.png', 'telugu274.png', 'telugu275.png', 'telugu276.png', 'telugu277.png', 'telugu278.png', 'telugu279.png', 'telugu280.png', 'telugu281.png', 'telugu282.png', 'telugu283.png', 'telugu284.png', 'telugu285.png', 'telugu286.png', 'telugu287.png', 'telugu288.png', 'telugu289.png', 'telugu290.png', 'telugu291.png', 'telugu292.png', 'telugu293.png', 'telugu294.png', 'telugu295.png', 'telugu296.png', 'telugu297.png', 'telugu298.png', 'telugu299.png', 'telugu300.png', 'telugu301.png', 'telugu302.png', 'telugu303.png', 'telugu304.png', 'telugu305.png', 'telugu306.png', 'telugu307.png', 'telugu308.png', 'telugu309.png', 'telugu310.png', 'telugu311.png', 'telugu312.png', 'telugu313.png', 'telugu314.png', 'telugu315.png', 'telugu316.png', 'telugu317.png', 'telugu318.png', 'telugu319.png', 'telugu320.png', 'telugu321.png', 'telugu322.png', 'telugu323.png', 'telugu324.png', 'telugu325.png', 'telugu326.png', 'telugu327.png', 'telugu328.png', 'telugu329.png', 'telugu330.png', 'telugu331.png', 'telugu332.png', 'telugu333.png', 'telugu334.png', 'telugu335.png', 'telugu336.png', 'telugu337.png', 'telugu338.png', 'telugu339.png', 'telugu340.png', 'telugu341.png', 'telugu342.png', 'telugu343.png', 'telugu344.png', 'telugu345.png', 'telugu346.png', 'telugu347.png', 'telugu348.png', 'telugu349.png', 'telugu350.png', 'telugu351.png', 'telugu352.png', 'telugu353.png', 'telugu354.png', 'telugu355.png', 'telugu356.png', 'telugu357.png', 'telugu358.png', 'telugu359.png', 'telugu360.png', 'telugu361.png', 'telugu362.png', 'telugu363.png', 'telugu364.png', 'telugu365.png', 'telugu366.png', 'telugu367.png', 'telugu368.png', 'telugu369.png', 'telugu370.png', 'telugu371.png', 'telugu372.png', 'telugu373.png', 'telugu374.png', 'telugu375.png', 'telugu376.png', 'telugu377.png', 'telugu378.png', 'telugu379.png', 'telugu380.png', 'telugu381.png', 'telugu382.png', 'telugu383.png', 'telugu384.png', 'telugu385.png', 'telugu386.png', 'telugu387.png', 'telugu388.png', 'telugu389.png', 'telugu390.png', 'telugu391.png', 'telugu392.png', 'telugu393.png', 'telugu394.png', 'telugu395.png', 'telugu396.png', 'telugu397.png', 'telugu398.png', 'telugu399.png', 'telugu400.png', 'telugu401.png', 'telugu402.png', 'telugu403.png', 'telugu404.png', 'telugu405.png', 'telugu406.png', 'telugu407.png', 'telugu408.png', 'telugu409.png', 'telugu410.png', 'telugu411.png', 'telugu412.png', 'telugu413.png', 'telugu414.png', 'telugu415.png', 'telugu416.png', 'telugu417.png', 'telugu418.png', 'telugu419.png', 'telugu420.png', 'telugu421.png', 'telugu422.png', 'telugu423.png', 'telugu424.png', 'telugu425.png', 'telugu426.png', 'telugu427.png', 'telugu428.png', 'telugu429.png', 'telugu430.png', 'telugu431.png', 'telugu432.png', 'telugu433.png', 'telugu434.png', 'telugu435.png', 'telugu436.png', 'telugu437.png', 'telugu438.png', 'telugu439.png', 'telugu440.png', 'telugu441.png', 'telugu442.png', 'telugu443.png', 'telugu444.png', 'telugu445.png', 'telugu446.png', 'telugu447.png', 'telugu448.png', 'telugu449.png', 'telugu450.png', 'telugu451.png', 'telugu452.png', 'telugu453.png', 'telugu454.png', 'telugu455.png', 'telugu456.png', 'telugu457.png', 'telugu458.png', 'telugu459.png', 'telugu460.png', 'telugu461.png', 'telugu462.png', 'telugu463.png', 'telugu464.png', 'telugu465.png', 'telugu466.png', 'telugu467.png', 'telugu468.png', 'telugu469.png', 'telugu470.png', 'telugu471.png', 'telugu472.png', 'telugu473.png', 'telugu474.png', 'telugu475.png', 'telugu476.png', 'telugu477.png', 'telugu478.png', 'telugu479.png', 'telugu480.png', 'telugu481.png', 'telugu482.png', 'telugu483.png', 'telugu484.png', 'telugu485.png', 'telugu486.png', 'telugu487.png', 'telugu488.png', 'telugu489.png', 'telugu490.png', 'telugu491.png', 'telugu492.png', 'telugu493.png', 'telugu494.png', 'telugu495.png', 'telugu496.png', 'telugu497.png', 'telugu498.png', 'telugu499.png', 'telugu500.png', 'telugu501.png', 'telugu502.png', 'telugu503.png', 'telugu504.png', 'telugu505.png', 'telugu506.png', 'telugu507.png', 'telugu508.png', 'telugu509.png', 'telugu510.png', 'telugu511.png', 'telugu512.png', 'telugu513.png', 'telugu514.png', 'telugu515.png', 'telugu516.png', 'telugu517.png', 'telugu518.png', 'telugu519.png', 'telugu520.png', 'telugu521.png', 'telugu522.png', 'telugu523.png', 'telugu524.png', 'telugu525.png', 'telugu526.png', 'telugu527.png', 'telugu528.png', 'telugu529.png', 'telugu530.png', 'telugu531.png', 'telugu532.png', 'telugu533.png', 'telugu534.png', 'telugu535.png', 'telugu536.png', 'telugu537.png', 'telugu538.png', 'telugu539.png', 'telugu540.png', 'telugu541.png', 'telugu542.png', 'telugu543.png', 'telugu544.png', 'telugu545.png', 'telugu546.png', 'telugu547.png', 'telugu548.png', 'telugu549.png', 'telugu550.png', 'telugu551.png', 'telugu552.png', 'telugu553.png', 'telugu554.png', 'telugu555.png', 'telugu556.png', 'telugu557.png', 'telugu558.png', 'telugu559.png', 'telugu560.png', 'telugu561.png', 'telugu562.png', 'telugu563.png', 'telugu564.png', 'telugu565.png', 'telugu566.png', 'telugu567.png', 'telugu568.png', 'telugu569.png', 'telugu570.png', 'telugu571.png', 'telugu572.png', 'telugu573.png', 'telugu574.png', 'telugu575.png', 'telugu576.png', 'telugu577.png', 'telugu578.png', 'telugu579.png', 'telugu580.png', 'telugu581.png', 'telugu582.png', 'telugu583.png', 'telugu584.png', 'telugu585.png', 'telugu586.png', 'telugu587.png', 'telugu588.png', 'telugu589.png', 'telugu590.png', 'telugu591.png', 'telugu592.png', 'telugu593.png', 'telugu594.png', 'telugu595.png', 'telugu596.png', 'telugu597.png', 'telugu598.png', 'telugu599.png', 'telugu600.png', 'telugu601.png', 'telugu602.png', 'telugu603.png', 'telugu604.png', 'telugu605.png', 'telugu606.png', 'telugu607.png', 'telugu608.png', 'telugu609.png', 'telugu610.png', 'telugu611.png', 'telugu612.png', 'telugu613.png', 'telugu614.png', 'telugu615.png', 'telugu616.png', 'telugu617.png', 'telugu618.png', 'telugu619.png', 'telugu620.png', 'telugu621.png', 'telugu622.png', 'telugu623.png', 'telugu624.png', 'telugu625.png', 'telugu626.png', 'telugu627.png', 'telugu628.png', 'telugu629.png', 'telugu630.png', 'telugu631.png', 'telugu632.png', 'telugu633.png', 'telugu634.png', 'telugu635.png', 'telugu636.png', 'telugu637.png', 'telugu638.png', 'telugu639.png', 'telugu640.png']\n"
     ]
    }
   ],
   "source": [
    "telugu_test=[]\n",
    "telugu_test_values=[1]*640\n",
    "for i in range(1,640+1):\n",
    "    telugu_test.append(\"telugu\"+str(i)+\".png\")\n",
    "print(telugu_test)"
   ]
  },
  {
   "cell_type": "code",
   "execution_count": 37,
   "metadata": {},
   "outputs": [],
   "source": [
    "telugu_test_dict = {'language':telugu_test,'id':telugu_test_values}"
   ]
  },
  {
   "cell_type": "code",
   "execution_count": 39,
   "metadata": {},
   "outputs": [],
   "source": [
    "telugu_test_df = pd.DataFrame.from_dict(telugu_test_dict)"
   ]
  },
  {
   "cell_type": "code",
   "execution_count": 40,
   "metadata": {},
   "outputs": [],
   "source": [
    "telugu_test_df.to_csv(\"F:/telugu_test.csv\",index=False)"
   ]
  },
  {
   "cell_type": "code",
   "execution_count": 50,
   "metadata": {},
   "outputs": [],
   "source": [
    "###concatinate training dataframes\n",
    "train_list = [df,bengali_train_df]\n",
    "training_df = pd.concat(train_list)\n",
    "training_df.to_csv(\"F:/training.csv\",index=False)"
   ]
  },
  {
   "cell_type": "code",
   "execution_count": 51,
   "metadata": {},
   "outputs": [],
   "source": [
    "test_list = [telugu_test_df,bengali_test_df]\n",
    "testing_df = pd.concat(test_list)\n"
   ]
  },
  {
   "cell_type": "code",
   "execution_count": 52,
   "metadata": {},
   "outputs": [
    {
     "data": {
      "text/plain": [
       "1141"
      ]
     },
     "execution_count": 52,
     "metadata": {},
     "output_type": "execute_result"
    }
   ],
   "source": [
    "len(testing_df)"
   ]
  },
  {
   "cell_type": "code",
   "execution_count": 54,
   "metadata": {},
   "outputs": [],
   "source": [
    "testing_df.to_csv(\"F:/testing.csv\",index=False)"
   ]
  },
  {
   "cell_type": "code",
   "execution_count": null,
   "metadata": {},
   "outputs": [],
   "source": []
  }
 ],
 "metadata": {
  "kernelspec": {
   "display_name": "Python 3",
   "language": "python",
   "name": "python3"
  },
  "language_info": {
   "codemirror_mode": {
    "name": "ipython",
    "version": 3
   },
   "file_extension": ".py",
   "mimetype": "text/x-python",
   "name": "python",
   "nbconvert_exporter": "python",
   "pygments_lexer": "ipython3",
   "version": "3.7.3"
  }
 },
 "nbformat": 4,
 "nbformat_minor": 2
}
