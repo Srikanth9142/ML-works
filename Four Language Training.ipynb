{
  "nbformat": 4,
  "nbformat_minor": 0,
  "metadata": {
    "colab": {
      "name": "Untitled",
      "provenance": [],
      "collapsed_sections": [],
      "toc_visible": true,
      "authorship_tag": "ABX9TyN+TirzNZfPem+ZpaVJaiTc",
      "include_colab_link": true
    },
    "kernelspec": {
      "name": "python3",
      "display_name": "Python 3"
    }
  },
  "cells": [
    {
      "cell_type": "markdown",
      "metadata": {
        "id": "view-in-github",
        "colab_type": "text"
      },
      "source": [
        "<a href=\"https://colab.research.google.com/github/Srikanth9142/ML-works/blob/master/Four%20Language%20Training.ipynb\" target=\"_parent\"><img src=\"https://colab.research.google.com/assets/colab-badge.svg\" alt=\"Open In Colab\"/></a>"
      ]
    },
    {
      "cell_type": "code",
      "metadata": {
        "id": "aaptaagfu_yc",
        "colab_type": "code",
        "colab": {
          "base_uri": "https://localhost:8080/",
          "height": 316
        },
        "outputId": "0167b497-6e01-4842-89ed-a869197ea0c6"
      },
      "source": [
        "from google.colab import drive\n",
        "drive.mount('/content/drive',force_remount=True)\n"
      ],
      "execution_count": null,
      "outputs": [
        {
          "output_type": "error",
          "ename": "OSError",
          "evalue": "ignored",
          "traceback": [
            "\u001b[0;31m---------------------------------------------------------------------------\u001b[0m",
            "\u001b[0;31mOSError\u001b[0m                                   Traceback (most recent call last)",
            "\u001b[0;32m<ipython-input-92-636f7e70c0f3>\u001b[0m in \u001b[0;36m<module>\u001b[0;34m()\u001b[0m\n\u001b[1;32m      1\u001b[0m \u001b[0;32mfrom\u001b[0m \u001b[0mgoogle\u001b[0m\u001b[0;34m.\u001b[0m\u001b[0mcolab\u001b[0m \u001b[0;32mimport\u001b[0m \u001b[0mdrive\u001b[0m\u001b[0;34m\u001b[0m\u001b[0;34m\u001b[0m\u001b[0m\n\u001b[0;32m----> 2\u001b[0;31m \u001b[0mdrive\u001b[0m\u001b[0;34m.\u001b[0m\u001b[0mmount\u001b[0m\u001b[0;34m(\u001b[0m\u001b[0;34m'/content/drive'\u001b[0m\u001b[0;34m,\u001b[0m\u001b[0mforce_remount\u001b[0m\u001b[0;34m=\u001b[0m\u001b[0;32mTrue\u001b[0m\u001b[0;34m)\u001b[0m\u001b[0;34m\u001b[0m\u001b[0;34m\u001b[0m\u001b[0m\n\u001b[0m",
            "\u001b[0;32m/usr/local/lib/python3.6/dist-packages/google/colab/drive.py\u001b[0m in \u001b[0;36mmount\u001b[0;34m(mountpoint, force_remount, timeout_ms, use_metadata_server)\u001b[0m\n\u001b[1;32m    150\u001b[0m     \u001b[0;32mif\u001b[0m \u001b[0m_os\u001b[0m\u001b[0;34m.\u001b[0m\u001b[0mpath\u001b[0m\u001b[0;34m.\u001b[0m\u001b[0mislink\u001b[0m\u001b[0;34m(\u001b[0m\u001b[0mmountpoint\u001b[0m\u001b[0;34m)\u001b[0m\u001b[0;34m:\u001b[0m\u001b[0;34m\u001b[0m\u001b[0;34m\u001b[0m\u001b[0m\n\u001b[1;32m    151\u001b[0m       \u001b[0;32mraise\u001b[0m \u001b[0mValueError\u001b[0m\u001b[0;34m(\u001b[0m\u001b[0;34m'Mountpoint must not be a symlink'\u001b[0m\u001b[0;34m)\u001b[0m\u001b[0;34m\u001b[0m\u001b[0;34m\u001b[0m\u001b[0m\n\u001b[0;32m--> 152\u001b[0;31m     \u001b[0;32mif\u001b[0m \u001b[0m_os\u001b[0m\u001b[0;34m.\u001b[0m\u001b[0mpath\u001b[0m\u001b[0;34m.\u001b[0m\u001b[0misdir\u001b[0m\u001b[0;34m(\u001b[0m\u001b[0mmountpoint\u001b[0m\u001b[0;34m)\u001b[0m \u001b[0;32mand\u001b[0m \u001b[0m_os\u001b[0m\u001b[0;34m.\u001b[0m\u001b[0mlistdir\u001b[0m\u001b[0;34m(\u001b[0m\u001b[0mmountpoint\u001b[0m\u001b[0;34m)\u001b[0m\u001b[0;34m:\u001b[0m\u001b[0;34m\u001b[0m\u001b[0;34m\u001b[0m\u001b[0m\n\u001b[0m\u001b[1;32m    153\u001b[0m       \u001b[0;32mraise\u001b[0m \u001b[0mValueError\u001b[0m\u001b[0;34m(\u001b[0m\u001b[0;34m'Mountpoint must not already contain files'\u001b[0m\u001b[0;34m)\u001b[0m\u001b[0;34m\u001b[0m\u001b[0;34m\u001b[0m\u001b[0m\n\u001b[1;32m    154\u001b[0m     \u001b[0;32mif\u001b[0m \u001b[0;32mnot\u001b[0m \u001b[0m_os\u001b[0m\u001b[0;34m.\u001b[0m\u001b[0mpath\u001b[0m\u001b[0;34m.\u001b[0m\u001b[0misdir\u001b[0m\u001b[0;34m(\u001b[0m\u001b[0mmountpoint\u001b[0m\u001b[0;34m)\u001b[0m \u001b[0;32mand\u001b[0m \u001b[0m_os\u001b[0m\u001b[0;34m.\u001b[0m\u001b[0mpath\u001b[0m\u001b[0;34m.\u001b[0m\u001b[0mexists\u001b[0m\u001b[0;34m(\u001b[0m\u001b[0mmountpoint\u001b[0m\u001b[0;34m)\u001b[0m\u001b[0;34m:\u001b[0m\u001b[0;34m\u001b[0m\u001b[0;34m\u001b[0m\u001b[0m\n",
            "\u001b[0;31mOSError\u001b[0m: [Errno 107] Transport endpoint is not connected: '/content/drive'"
          ]
        }
      ]
    },
    {
      "cell_type": "code",
      "metadata": {
        "id": "hhDMZiAJyH6S",
        "colab_type": "code",
        "colab": {}
      },
      "source": [
        "#not working\n",
        "!unzip -uq 'drive/My Drive/copyclassifiers/Languages.zip' -d 'drive/My Drive/copyclassifiers/Dataset' "
      ],
      "execution_count": null,
      "outputs": []
    },
    {
      "cell_type": "code",
      "metadata": {
        "id": "wGCeHQnZyrC8",
        "colab_type": "code",
        "colab": {
          "base_uri": "https://localhost:8080/",
          "height": 34
        },
        "outputId": "5b30363e-4a4d-4652-94a4-f389badfa221"
      },
      "source": [
        "!unzip -q 'drive/My Drive/copyclassifiers/Languages.zip'\n",
        "%ls"
      ],
      "execution_count": null,
      "outputs": [
        {
          "output_type": "stream",
          "text": [
            "\u001b[0m\u001b[01;34mdrive\u001b[0m/  \u001b[01;34mLanguages\u001b[0m/  \u001b[01;34msample_data\u001b[0m/\n"
          ],
          "name": "stdout"
        }
      ]
    },
    {
      "cell_type": "code",
      "metadata": {
        "id": "iM27IWc-sX1c",
        "colab_type": "code",
        "colab": {
          "base_uri": "https://localhost:8080/",
          "height": 35
        },
        "outputId": "0c63fcfd-d7ae-48d2-ba9b-2e487e0fd373"
      },
      "source": [
        "pwd"
      ],
      "execution_count": null,
      "outputs": [
        {
          "output_type": "execute_result",
          "data": {
            "application/vnd.google.colaboratory.intrinsic+json": {
              "type": "string"
            },
            "text/plain": [
              "'/content/Languages'"
            ]
          },
          "metadata": {
            "tags": []
          },
          "execution_count": 94
        }
      ]
    },
    {
      "cell_type": "code",
      "metadata": {
        "id": "xIpUQ13e2chd",
        "colab_type": "code",
        "colab": {
          "base_uri": "https://localhost:8080/",
          "height": 51
        },
        "outputId": "e90d6f4b-7e10-4b83-8400-31130045c27e"
      },
      "source": [
        "cd Languages/"
      ],
      "execution_count": null,
      "outputs": [
        {
          "output_type": "stream",
          "text": [
            "[Errno 2] No such file or directory: 'Languages/'\n",
            "/content/Languages\n"
          ],
          "name": "stdout"
        }
      ]
    },
    {
      "cell_type": "code",
      "metadata": {
        "id": "N8dyh2Im2ypP",
        "colab_type": "code",
        "colab": {
          "base_uri": "https://localhost:8080/",
          "height": 190
        },
        "outputId": "4a427b56-0a0c-4725-db12-261363b615ee"
      },
      "source": [
        "!pip install python_speech_features"
      ],
      "execution_count": null,
      "outputs": [
        {
          "output_type": "stream",
          "text": [
            "Collecting python_speech_features\n",
            "  Downloading https://files.pythonhosted.org/packages/ff/d1/94c59e20a2631985fbd2124c45177abaa9e0a4eee8ba8a305aa26fc02a8e/python_speech_features-0.6.tar.gz\n",
            "Building wheels for collected packages: python-speech-features\n",
            "  Building wheel for python-speech-features (setup.py) ... \u001b[?25l\u001b[?25hdone\n",
            "  Created wheel for python-speech-features: filename=python_speech_features-0.6-cp36-none-any.whl size=5887 sha256=dcc12276b3e1d8491c8f5046598bc17c3527d070c79c59d95c82b98170dcfd1a\n",
            "  Stored in directory: /root/.cache/pip/wheels/3c/42/7c/f60e9d1b40015cd69b213ad90f7c18a9264cd745b9888134be\n",
            "Successfully built python-speech-features\n",
            "Installing collected packages: python-speech-features\n",
            "Successfully installed python-speech-features-0.6\n"
          ],
          "name": "stdout"
        }
      ]
    },
    {
      "cell_type": "markdown",
      "metadata": {
        "id": "5i-9NFC13LnJ",
        "colab_type": "text"
      },
      "source": [
        "Imports"
      ]
    },
    {
      "cell_type": "code",
      "metadata": {
        "id": "GE3JzywQ3EAM",
        "colab_type": "code",
        "colab": {}
      },
      "source": [
        "from python_speech_features import mfcc,delta,logfbank\n",
        "import numpy\n",
        "import scipy.io.wavfile\n",
        "import matplotlib.pyplot as plt\n",
        "import matplotlib.cm as cm\n",
        "import numpy as np\n",
        "import wave\n",
        "import contextlib\n",
        "from scipy.fftpack import dct\n",
        "import scipy.io.wavfile as wav\n",
        "import os\n",
        "import csv"
      ],
      "execution_count": null,
      "outputs": []
    },
    {
      "cell_type": "markdown",
      "metadata": {
        "id": "O-Sa-mUe4MXe",
        "colab_type": "text"
      },
      "source": [
        "some constants\n"
      ]
    },
    {
      "cell_type": "code",
      "metadata": {
        "id": "iiFS-3C-3M_4",
        "colab_type": "code",
        "colab": {}
      },
      "source": [
        "pre_emphasis = 0.97\n",
        "frame_size = 0.025\n",
        "frame_stride = 0.01\n",
        "NFFT = 512\n",
        "nfilt = 40\n",
        "num_ceps = 12\n",
        "cep_lifter =22"
      ],
      "execution_count": null,
      "outputs": []
    },
    {
      "cell_type": "markdown",
      "metadata": {
        "id": "yaKBrhzN4UB4",
        "colab_type": "text"
      },
      "source": [
        "This fn returns the length of audio clip passed to it"
      ]
    },
    {
      "cell_type": "code",
      "metadata": {
        "id": "H8p_8FLM4QND",
        "colab_type": "code",
        "colab": {}
      },
      "source": [
        "def length_audio(folder_name,file_name):\n",
        "  file_path='/content/Languages/'+str(folder_name)+'/'+str(folder_name)+'_Train/'+str(filename)\n",
        "  sample_rate, signal = scipy.io.wavfile.read(file_path)\n",
        "  with contextlib.closing(wave.open(file_path,'r')) as f:\n",
        "      frames = f.getnframes()\n",
        "      rate = f.getframerate()\n",
        "      duration = frames / float(rate)\n",
        "  return int(duration)"
      ],
      "execution_count": null,
      "outputs": []
    },
    {
      "cell_type": "code",
      "metadata": {
        "id": "8d0dVNKr41R7",
        "colab_type": "code",
        "colab": {}
      },
      "source": [
        "telugu_train_list = os.listdir('/content/Languages/Telugu/Telugu_Train')\n",
        "bengali_train_list = os.listdir('/content/Languages/Bengali/Bengali_Train')\n",
        "gujarathi_train_list = os.listdir('/content/Languages/Gujarathi/Gujarathi_Train')\n",
        "tamil_train_list = os.listdir('/content/Languages/Tamil/Tamil_Train')\n"
      ],
      "execution_count": null,
      "outputs": []
    },
    {
      "cell_type": "markdown",
      "metadata": {
        "id": "c23PwZDt7Qvf",
        "colab_type": "text"
      },
      "source": [
        "Checking Number of files in Each Language (Training)"
      ]
    },
    {
      "cell_type": "code",
      "metadata": {
        "id": "cEaiMqL66JMV",
        "colab_type": "code",
        "colab": {
          "base_uri": "https://localhost:8080/",
          "height": 85
        },
        "outputId": "3f1b39e2-b91f-4a37-eb60-829d076430ae"
      },
      "source": [
        "print(\"Telugu: \"+str(len(telugu_train_list))+\" Audios\")\n",
        "print(\"Bengali: \"+str(len(bengali_train_list))+\" Audios\")\n",
        "print(\"Gujarathi: \"+str(len(gujarathi_train_list))+\" Audios\")\n",
        "print(\"Tamil: \"+str(len(tamil_train_list))+\" Audios\")"
      ],
      "execution_count": null,
      "outputs": [
        {
          "output_type": "stream",
          "text": [
            "Telugu: 3600 Audios\n",
            "Bengali: 2700 Audios\n",
            "Gujarathi: 3472 Audios\n",
            "Tamil: 3500 Audios\n"
          ],
          "name": "stdout"
        }
      ]
    },
    {
      "cell_type": "code",
      "metadata": {
        "id": "lWVA5jdeFluI",
        "colab_type": "code",
        "colab": {}
      },
      "source": [
        "telugu_test_list = os.listdir('/content/Languages/Telugu/Telugu_Test')\n",
        "bengali_test_list = os.listdir('/content/Languages/Bengali/Bengali_Test')\n",
        "gujarathi_test_list = os.listdir('/content/Languages/Gujarathi/Gujarathi_Test')\n",
        "tamil_test_list = os.listdir('/content/Languages/Tamil/Tamil_Test')\n"
      ],
      "execution_count": null,
      "outputs": []
    },
    {
      "cell_type": "markdown",
      "metadata": {
        "id": "k8WA3jCXL6nl",
        "colab_type": "text"
      },
      "source": [
        "Checking Number of files in Each Language(Test)"
      ]
    },
    {
      "cell_type": "code",
      "metadata": {
        "id": "OVji_92XL3on",
        "colab_type": "code",
        "colab": {
          "base_uri": "https://localhost:8080/",
          "height": 85
        },
        "outputId": "af90a00a-5ec1-4b69-9213-da51f3fef29c"
      },
      "source": [
        "print(\"Telugu: \"+str(len(telugu_test_list))+\" Audios\")\n",
        "print(\"Bengali: \"+str(len(bengali_test_list))+\" Audios\")\n",
        "print(\"Gujarathi: \"+str(len(gujarathi_test_list))+\" Audios\")\n",
        "print(\"Tamil: \"+str(len(tamil_test_list))+\" Audios\")"
      ],
      "execution_count": null,
      "outputs": [
        {
          "output_type": "stream",
          "text": [
            "Telugu: 848 Audios\n",
            "Bengali: 557 Audios\n",
            "Gujarathi: 800 Audios\n",
            "Tamil: 791 Audios\n"
          ],
          "name": "stdout"
        }
      ]
    },
    {
      "cell_type": "markdown",
      "metadata": {
        "id": "xO4b-l8HRxkg",
        "colab_type": "text"
      },
      "source": [
        "Load the training.csv as training_dictionary"
      ]
    },
    {
      "cell_type": "code",
      "metadata": {
        "id": "J6U7NMliMHRc",
        "colab_type": "code",
        "colab": {}
      },
      "source": [
        "training_dictionary = {}\n",
        "reader = csv.reader(open('/content/drive/My Drive/copyclassifiers/training.csv','r'))\n",
        "for k,v in reader:\n",
        "  training_dictionary[k]=v\n",
        "del training_dictionary['language']"
      ],
      "execution_count": null,
      "outputs": []
    },
    {
      "cell_type": "markdown",
      "metadata": {
        "id": "pLg57ZG3S1pO",
        "colab_type": "text"
      },
      "source": [
        "Load the testing.csv as testing_dictionary"
      ]
    },
    {
      "cell_type": "code",
      "metadata": {
        "id": "kvYEFG91Stjk",
        "colab_type": "code",
        "colab": {}
      },
      "source": [
        "testing_dictionary = {}\n",
        "reader = csv.reader(open('/content/drive/My Drive/copyclassifiers/testing.csv','r'))\n",
        "for k,v in reader:\n",
        "  testing_dictionary[k]=v\n",
        "del testing_dictionary['language']"
      ],
      "execution_count": null,
      "outputs": []
    },
    {
      "cell_type": "markdown",
      "metadata": {
        "id": "ngtIs4wDTN1P",
        "colab_type": "text"
      },
      "source": [
        "checking length of the audio\n",
        "### Data Observation"
      ]
    },
    {
      "cell_type": "code",
      "metadata": {
        "id": "lX9Za1NJTJFP",
        "colab_type": "code",
        "colab": {
          "base_uri": "https://localhost:8080/",
          "height": 102
        },
        "outputId": "8c9e493e-d4e7-49b6-dc81-a2e52a367db1"
      },
      "source": [
        "greater_count = 0\n",
        "lesser_count = 0\n",
        "equal_count = 0\n",
        "min_length=100\n",
        "max_length=0\n",
        "less_list=[]\n",
        "maxi_audio=''\n",
        "mini_audio=''\n",
        "three_sec_audio=[]\n",
        "two_sec_audio=[]\n",
        "languages_list = ['Telugu','Bengali','Gujarathi','Tamil']\n",
        "language_contents = [3600,2700,3472,3500]\n",
        "for i in range(len(languages_list)):\n",
        "  for j in range(1,language_contents[i]+1):\n",
        "    filename = languages_list[i]+str(j)+'.wav'\n",
        "    audio_length = length_audio(languages_list[i],filename)\n",
        "    if(audio_length<min_length):\n",
        "      min_length=audio_length\n",
        "      mini_audio=filename\n",
        "    if(audio_length>max_length):\n",
        "      max_length=audio_length\n",
        "      maxi_audio = filename\n",
        "    if(audio_length>2):\n",
        "      greater_count+=1\n",
        "      if(audio_length==3):\n",
        "        three_sec_audio.append(filename)\n",
        "    elif(audio_length<2):\n",
        "      lesser_count+=1\n",
        "      less_list.append(filename)\n",
        "    else:\n",
        "      equal_count+=1\n",
        "      two_sec_audio.append(filename)\n",
        "\n",
        "print(\"Files More than 2 sec: \"+str(greater_count))\n",
        "print(\"Files Less than 2 sec: \"+str(lesser_count))\n",
        "print(\"Files Equal to 2 sec: \"+str(equal_count))\n",
        "print(\"Minimum: \"+str(mini_audio)+' '+str(min_length)+' sec')\n",
        "print(\"Maximum: \"+str(maxi_audio)+' '+str(max_length)+' sec ')\n"
      ],
      "execution_count": null,
      "outputs": [
        {
          "output_type": "stream",
          "text": [
            "Files More than 2 sec: 12309\n",
            "Files Less than 2 sec: 53\n",
            "Files Equal to 2 sec: 910\n",
            "Minimum: Telugu516.wav 1 sec\n",
            "Maximum: Gujarathi1026.wav 20 sec \n"
          ],
          "name": "stdout"
        }
      ]
    },
    {
      "cell_type": "code",
      "metadata": {
        "id": "wmimIvuw29d8",
        "colab_type": "code",
        "colab": {
          "base_uri": "https://localhost:8080/",
          "height": 54
        },
        "outputId": "ae7e6fb8-6a42-4eab-e761-568bdc532ffb"
      },
      "source": [
        "print(two_sec_audio)"
      ],
      "execution_count": null,
      "outputs": [
        {
          "output_type": "stream",
          "text": [
            "['Telugu9.wav', 'Telugu11.wav', 'Telugu42.wav', 'Telugu45.wav', 'Telugu62.wav', 'Telugu87.wav', 'Telugu152.wav', 'Telugu318.wav', 'Telugu322.wav', 'Telugu323.wav', 'Telugu362.wav', 'Telugu365.wav', 'Telugu378.wav', 'Telugu383.wav', 'Telugu390.wav', 'Telugu393.wav', 'Telugu394.wav', 'Telugu401.wav', 'Telugu404.wav', 'Telugu405.wav', 'Telugu406.wav', 'Telugu410.wav', 'Telugu411.wav', 'Telugu412.wav', 'Telugu413.wav', 'Telugu416.wav', 'Telugu428.wav', 'Telugu432.wav', 'Telugu443.wav', 'Telugu446.wav', 'Telugu447.wav', 'Telugu448.wav', 'Telugu450.wav', 'Telugu451.wav', 'Telugu457.wav', 'Telugu459.wav', 'Telugu460.wav', 'Telugu461.wav', 'Telugu462.wav', 'Telugu463.wav', 'Telugu464.wav', 'Telugu466.wav', 'Telugu471.wav', 'Telugu473.wav', 'Telugu475.wav', 'Telugu476.wav', 'Telugu479.wav', 'Telugu485.wav', 'Telugu486.wav', 'Telugu487.wav', 'Telugu488.wav', 'Telugu489.wav', 'Telugu490.wav', 'Telugu493.wav', 'Telugu494.wav', 'Telugu495.wav', 'Telugu496.wav', 'Telugu497.wav', 'Telugu501.wav', 'Telugu502.wav', 'Telugu505.wav', 'Telugu506.wav', 'Telugu508.wav', 'Telugu510.wav', 'Telugu511.wav', 'Telugu512.wav', 'Telugu518.wav', 'Telugu521.wav', 'Telugu523.wav', 'Telugu525.wav', 'Telugu527.wav', 'Telugu529.wav', 'Telugu532.wav', 'Telugu533.wav', 'Telugu535.wav', 'Telugu537.wav', 'Telugu538.wav', 'Telugu541.wav', 'Telugu542.wav', 'Telugu543.wav', 'Telugu545.wav', 'Telugu546.wav', 'Telugu548.wav', 'Telugu549.wav', 'Telugu550.wav', 'Telugu552.wav', 'Telugu554.wav', 'Telugu555.wav', 'Telugu556.wav', 'Telugu558.wav', 'Telugu559.wav', 'Telugu560.wav', 'Telugu563.wav', 'Telugu565.wav', 'Telugu566.wav', 'Telugu586.wav', 'Telugu623.wav', 'Telugu642.wav', 'Telugu711.wav', 'Telugu715.wav', 'Telugu717.wav', 'Telugu723.wav', 'Telugu724.wav', 'Telugu726.wav', 'Telugu727.wav', 'Telugu729.wav', 'Telugu732.wav', 'Telugu733.wav', 'Telugu736.wav', 'Telugu738.wav', 'Telugu742.wav', 'Telugu743.wav', 'Telugu745.wav', 'Telugu749.wav', 'Telugu750.wav', 'Telugu752.wav', 'Telugu753.wav', 'Telugu756.wav', 'Telugu757.wav', 'Telugu758.wav', 'Telugu759.wav', 'Telugu761.wav', 'Telugu763.wav', 'Telugu765.wav', 'Telugu767.wav', 'Telugu768.wav', 'Telugu769.wav', 'Telugu772.wav', 'Telugu782.wav', 'Telugu783.wav', 'Telugu786.wav', 'Telugu793.wav', 'Telugu795.wav', 'Telugu800.wav', 'Telugu804.wav', 'Telugu811.wav', 'Telugu815.wav', 'Telugu816.wav', 'Telugu817.wav', 'Telugu820.wav', 'Telugu821.wav', 'Telugu824.wav', 'Telugu825.wav', 'Telugu835.wav', 'Telugu836.wav', 'Telugu841.wav', 'Telugu846.wav', 'Telugu850.wav', 'Telugu852.wav', 'Telugu854.wav', 'Telugu856.wav', 'Telugu857.wav', 'Telugu858.wav', 'Telugu860.wav', 'Telugu862.wav', 'Telugu863.wav', 'Telugu866.wav', 'Telugu869.wav', 'Telugu874.wav', 'Telugu876.wav', 'Telugu877.wav', 'Telugu880.wav', 'Telugu881.wav', 'Telugu882.wav', 'Telugu884.wav', 'Telugu886.wav', 'Telugu887.wav', 'Telugu890.wav', 'Telugu892.wav', 'Telugu895.wav', 'Telugu897.wav', 'Telugu900.wav', 'Telugu901.wav', 'Telugu903.wav', 'Telugu904.wav', 'Telugu905.wav', 'Telugu909.wav', 'Telugu912.wav', 'Telugu914.wav', 'Telugu915.wav', 'Telugu918.wav', 'Telugu924.wav', 'Telugu925.wav', 'Telugu928.wav', 'Telugu930.wav', 'Telugu931.wav', 'Telugu932.wav', 'Telugu935.wav', 'Telugu936.wav', 'Telugu937.wav', 'Telugu943.wav', 'Telugu944.wav', 'Telugu951.wav', 'Telugu952.wav', 'Telugu956.wav', 'Telugu960.wav', 'Telugu963.wav', 'Telugu965.wav', 'Telugu966.wav', 'Telugu968.wav', 'Telugu969.wav', 'Telugu971.wav', 'Telugu972.wav', 'Telugu973.wav', 'Telugu976.wav', 'Telugu977.wav', 'Telugu980.wav', 'Telugu982.wav', 'Telugu983.wav', 'Telugu1080.wav', 'Telugu1086.wav', 'Telugu1091.wav', 'Telugu1094.wav', 'Telugu1104.wav', 'Telugu1112.wav', 'Telugu1114.wav', 'Telugu1128.wav', 'Telugu1129.wav', 'Telugu1146.wav', 'Telugu1149.wav', 'Telugu1154.wav', 'Telugu1162.wav', 'Telugu1167.wav', 'Telugu1168.wav', 'Telugu1173.wav', 'Telugu1177.wav', 'Telugu1184.wav', 'Telugu1197.wav', 'Telugu1216.wav', 'Telugu1217.wav', 'Telugu1222.wav', 'Telugu1224.wav', 'Telugu1226.wav', 'Telugu1228.wav', 'Telugu1232.wav', 'Telugu1233.wav', 'Telugu1236.wav', 'Telugu1237.wav', 'Telugu1240.wav', 'Telugu1248.wav', 'Telugu1250.wav', 'Telugu1251.wav', 'Telugu1258.wav', 'Telugu1259.wav', 'Telugu1261.wav', 'Telugu1271.wav', 'Telugu1273.wav', 'Telugu1278.wav', 'Telugu1281.wav', 'Telugu1287.wav', 'Telugu1292.wav', 'Telugu1293.wav', 'Telugu1536.wav', 'Telugu1540.wav', 'Telugu1550.wav', 'Telugu1556.wav', 'Telugu1562.wav', 'Telugu1578.wav', 'Telugu1597.wav', 'Telugu1599.wav', 'Telugu1603.wav', 'Telugu1616.wav', 'Telugu1619.wav', 'Telugu1622.wav', 'Telugu1623.wav', 'Telugu1769.wav', 'Telugu1774.wav', 'Telugu1779.wav', 'Telugu1783.wav', 'Telugu1785.wav', 'Telugu1789.wav', 'Telugu1794.wav', 'Telugu1795.wav', 'Telugu1802.wav', 'Telugu1809.wav', 'Telugu1810.wav', 'Telugu1815.wav', 'Telugu1825.wav', 'Telugu1828.wav', 'Telugu1830.wav', 'Telugu1834.wav', 'Telugu1835.wav', 'Telugu1837.wav', 'Telugu1840.wav', 'Telugu1843.wav', 'Telugu1846.wav', 'Telugu1847.wav', 'Telugu1850.wav', 'Telugu1852.wav', 'Telugu1853.wav', 'Telugu1854.wav', 'Telugu1856.wav', 'Telugu1868.wav', 'Telugu1870.wav', 'Telugu1872.wav', 'Telugu1873.wav', 'Telugu1878.wav', 'Telugu1891.wav', 'Telugu1892.wav', 'Telugu1895.wav', 'Telugu1902.wav', 'Telugu1903.wav', 'Telugu1906.wav', 'Telugu1908.wav', 'Telugu1909.wav', 'Telugu1911.wav', 'Telugu1914.wav', 'Telugu1929.wav', 'Telugu1932.wav', 'Telugu1934.wav', 'Telugu1935.wav', 'Telugu1941.wav', 'Telugu1953.wav', 'Telugu1958.wav', 'Telugu1965.wav', 'Telugu1973.wav', 'Telugu1978.wav', 'Telugu1979.wav', 'Telugu1982.wav', 'Telugu2005.wav', 'Telugu2016.wav', 'Telugu2022.wav', 'Telugu2023.wav', 'Telugu2024.wav', 'Telugu2028.wav', 'Telugu2030.wav', 'Telugu2032.wav', 'Telugu2033.wav', 'Telugu2037.wav', 'Telugu2072.wav', 'Telugu2080.wav', 'Telugu2081.wav', 'Telugu2083.wav', 'Telugu2084.wav', 'Telugu2086.wav', 'Telugu2105.wav', 'Telugu2106.wav', 'Telugu2109.wav', 'Telugu2116.wav', 'Telugu2119.wav', 'Telugu2327.wav', 'Telugu2334.wav', 'Telugu2336.wav', 'Telugu2340.wav', 'Telugu2341.wav', 'Telugu2343.wav', 'Telugu2353.wav', 'Telugu2355.wav', 'Telugu2356.wav', 'Telugu2362.wav', 'Telugu2371.wav', 'Telugu2372.wav', 'Telugu2373.wav', 'Telugu2376.wav', 'Telugu2380.wav', 'Telugu2385.wav', 'Telugu2387.wav', 'Telugu2388.wav', 'Telugu2389.wav', 'Telugu2396.wav', 'Telugu2398.wav', 'Telugu2399.wav', 'Telugu2402.wav', 'Telugu2403.wav', 'Telugu2426.wav', 'Telugu2477.wav', 'Telugu2484.wav', 'Telugu2490.wav', 'Telugu2496.wav', 'Telugu2498.wav', 'Telugu2525.wav', 'Telugu2792.wav', 'Telugu2793.wav', 'Telugu2795.wav', 'Telugu2802.wav', 'Telugu2804.wav', 'Telugu2806.wav', 'Telugu2809.wav', 'Telugu2810.wav', 'Telugu2812.wav', 'Telugu2813.wav', 'Telugu2816.wav', 'Telugu2821.wav', 'Telugu2835.wav', 'Telugu2836.wav', 'Telugu2843.wav', 'Telugu2847.wav', 'Telugu2849.wav', 'Telugu2853.wav', 'Telugu2863.wav', 'Telugu2864.wav', 'Telugu2866.wav', 'Telugu2868.wav', 'Telugu2877.wav', 'Telugu2884.wav', 'Telugu2891.wav', 'Telugu2950.wav', 'Telugu2951.wav', 'Telugu2953.wav', 'Telugu2955.wav', 'Telugu2957.wav', 'Telugu2959.wav', 'Telugu2960.wav', 'Telugu2961.wav', 'Telugu2963.wav', 'Telugu2967.wav', 'Telugu2971.wav', 'Telugu2973.wav', 'Telugu2974.wav', 'Telugu2976.wav', 'Telugu2978.wav', 'Telugu2985.wav', 'Telugu2986.wav', 'Telugu2987.wav', 'Telugu2988.wav', 'Telugu2991.wav', 'Telugu2993.wav', 'Telugu2995.wav', 'Telugu2997.wav', 'Telugu3040.wav', 'Telugu3063.wav', 'Telugu3081.wav', 'Telugu3110.wav', 'Telugu3115.wav', 'Telugu3129.wav', 'Telugu3130.wav', 'Telugu3131.wav', 'Telugu3133.wav', 'Telugu3135.wav', 'Telugu3137.wav', 'Telugu3145.wav', 'Telugu3147.wav', 'Telugu3148.wav', 'Telugu3149.wav', 'Telugu3153.wav', 'Telugu3154.wav', 'Telugu3159.wav', 'Telugu3161.wav', 'Telugu3163.wav', 'Telugu3168.wav', 'Telugu3169.wav', 'Telugu3174.wav', 'Telugu3178.wav', 'Telugu3180.wav', 'Telugu3183.wav', 'Telugu3185.wav', 'Telugu3187.wav', 'Telugu3189.wav', 'Telugu3190.wav', 'Telugu3195.wav', 'Telugu3197.wav', 'Telugu3199.wav', 'Telugu3201.wav', 'Telugu3203.wav', 'Telugu3204.wav', 'Telugu3205.wav', 'Telugu3209.wav', 'Telugu3214.wav', 'Telugu3215.wav', 'Telugu3218.wav', 'Telugu3222.wav', 'Telugu3223.wav', 'Telugu3232.wav', 'Telugu3233.wav', 'Telugu3235.wav', 'Telugu3236.wav', 'Telugu3237.wav', 'Telugu3244.wav', 'Telugu3249.wav', 'Telugu3250.wav', 'Telugu3252.wav', 'Telugu3255.wav', 'Telugu3256.wav', 'Telugu3258.wav', 'Telugu3259.wav', 'Telugu3262.wav', 'Telugu3263.wav', 'Telugu3270.wav', 'Telugu3273.wav', 'Telugu3276.wav', 'Telugu3277.wav', 'Telugu3278.wav', 'Telugu3279.wav', 'Telugu3280.wav', 'Telugu3281.wav', 'Telugu3283.wav', 'Telugu3284.wav', 'Telugu3287.wav', 'Telugu3291.wav', 'Telugu3294.wav', 'Telugu3298.wav', 'Telugu3299.wav', 'Telugu3304.wav', 'Telugu3305.wav', 'Telugu3308.wav', 'Telugu3312.wav', 'Telugu3313.wav', 'Telugu3314.wav', 'Telugu3317.wav', 'Telugu3318.wav', 'Telugu3320.wav', 'Telugu3322.wav', 'Telugu3323.wav', 'Telugu3324.wav', 'Telugu3325.wav', 'Telugu3328.wav', 'Telugu3330.wav', 'Telugu3339.wav', 'Telugu3340.wav', 'Telugu3343.wav', 'Telugu3345.wav', 'Telugu3349.wav', 'Telugu3382.wav', 'Telugu3383.wav', 'Telugu3384.wav', 'Telugu3394.wav', 'Telugu3404.wav', 'Telugu3405.wav', 'Telugu3406.wav', 'Telugu3415.wav', 'Telugu3427.wav', 'Telugu3429.wav', 'Telugu3432.wav', 'Telugu3442.wav', 'Telugu3445.wav', 'Telugu3448.wav', 'Telugu3500.wav', 'Telugu3501.wav', 'Telugu3505.wav', 'Telugu3510.wav', 'Telugu3545.wav', 'Telugu3551.wav', 'Telugu3560.wav', 'Telugu3563.wav', 'Telugu3572.wav', 'Telugu3594.wav', 'Telugu3598.wav', 'Bengali9.wav', 'Bengali52.wav', 'Bengali70.wav', 'Bengali132.wav', 'Bengali136.wav', 'Bengali213.wav', 'Bengali246.wav', 'Bengali275.wav', 'Bengali324.wav', 'Bengali327.wav', 'Bengali414.wav', 'Bengali427.wav', 'Bengali456.wav', 'Bengali463.wav', 'Bengali469.wav', 'Bengali484.wav', 'Bengali488.wav', 'Bengali502.wav', 'Bengali508.wav', 'Bengali517.wav', 'Bengali524.wav', 'Bengali558.wav', 'Bengali585.wav', 'Bengali595.wav', 'Bengali612.wav', 'Bengali643.wav', 'Bengali652.wav', 'Bengali701.wav', 'Bengali715.wav', 'Bengali716.wav', 'Bengali724.wav', 'Bengali743.wav', 'Bengali753.wav', 'Bengali754.wav', 'Bengali783.wav', 'Bengali801.wav', 'Bengali825.wav', 'Bengali828.wav', 'Bengali832.wav', 'Bengali865.wav', 'Bengali890.wav', 'Bengali902.wav', 'Bengali915.wav', 'Bengali934.wav', 'Bengali947.wav', 'Bengali963.wav', 'Bengali966.wav', 'Bengali977.wav', 'Bengali979.wav', 'Bengali1003.wav', 'Bengali1014.wav', 'Bengali1015.wav', 'Bengali1026.wav', 'Bengali1036.wav', 'Bengali1064.wav', 'Bengali1074.wav', 'Bengali1083.wav', 'Bengali1097.wav', 'Bengali1100.wav', 'Bengali1104.wav', 'Bengali1110.wav', 'Bengali1124.wav', 'Bengali1130.wav', 'Bengali1133.wav', 'Bengali1156.wav', 'Bengali1184.wav', 'Bengali1215.wav', 'Bengali1217.wav', 'Bengali1224.wav', 'Bengali1233.wav', 'Bengali1237.wav', 'Bengali1243.wav', 'Bengali1258.wav', 'Bengali1279.wav', 'Bengali1280.wav', 'Bengali1309.wav', 'Bengali1314.wav', 'Bengali1315.wav', 'Bengali1338.wav', 'Bengali1342.wav', 'Bengali1347.wav', 'Bengali1351.wav', 'Bengali1355.wav', 'Bengali1358.wav', 'Bengali1364.wav', 'Bengali1376.wav', 'Bengali1386.wav', 'Bengali1404.wav', 'Bengali1442.wav', 'Bengali1461.wav', 'Bengali1464.wav', 'Bengali1465.wav', 'Bengali1467.wav', 'Bengali1468.wav', 'Bengali1473.wav', 'Bengali1475.wav', 'Bengali1498.wav', 'Bengali1501.wav', 'Bengali1503.wav', 'Bengali1510.wav', 'Bengali1533.wav', 'Bengali1537.wav', 'Bengali1540.wav', 'Bengali1541.wav', 'Bengali1543.wav', 'Bengali1547.wav', 'Bengali1552.wav', 'Bengali1555.wav', 'Bengali1558.wav', 'Bengali1560.wav', 'Bengali1567.wav', 'Bengali1595.wav', 'Bengali1598.wav', 'Bengali1600.wav', 'Bengali1605.wav', 'Bengali1610.wav', 'Bengali1616.wav', 'Bengali1617.wav', 'Bengali1624.wav', 'Bengali1629.wav', 'Bengali1630.wav', 'Bengali1664.wav', 'Bengali1693.wav', 'Bengali1706.wav', 'Bengali1710.wav', 'Bengali1711.wav', 'Bengali1725.wav', 'Bengali1741.wav', 'Bengali1750.wav', 'Bengali1841.wav', 'Bengali1844.wav', 'Bengali1857.wav', 'Bengali1863.wav', 'Bengali1866.wav', 'Bengali1875.wav', 'Bengali1890.wav', 'Bengali1916.wav', 'Bengali1922.wav', 'Bengali1923.wav', 'Bengali1929.wav', 'Bengali1930.wav', 'Bengali1932.wav', 'Bengali1942.wav', 'Bengali1944.wav', 'Bengali1946.wav', 'Bengali1959.wav', 'Bengali1969.wav', 'Bengali1971.wav', 'Bengali1972.wav', 'Bengali1979.wav', 'Bengali1993.wav', 'Bengali1996.wav', 'Bengali2018.wav', 'Bengali2049.wav', 'Bengali2050.wav', 'Bengali2060.wav', 'Bengali2077.wav', 'Bengali2082.wav', 'Bengali2084.wav', 'Bengali2087.wav', 'Bengali2095.wav', 'Bengali2103.wav', 'Bengali2114.wav', 'Bengali2119.wav', 'Bengali2127.wav', 'Bengali2129.wav', 'Bengali2131.wav', 'Bengali2132.wav', 'Bengali2137.wav', 'Bengali2151.wav', 'Bengali2161.wav', 'Bengali2168.wav', 'Bengali2180.wav', 'Bengali2182.wav', 'Bengali2198.wav', 'Bengali2206.wav', 'Bengali2218.wav', 'Bengali2242.wav', 'Bengali2264.wav', 'Bengali2271.wav', 'Bengali2297.wav', 'Bengali2369.wav', 'Bengali2387.wav', 'Bengali2412.wav', 'Bengali2424.wav', 'Bengali2426.wav', 'Bengali2441.wav', 'Bengali2445.wav', 'Bengali2469.wav', 'Bengali2485.wav', 'Bengali2511.wav', 'Bengali2552.wav', 'Bengali2562.wav', 'Bengali2568.wav', 'Bengali2631.wav', 'Bengali2644.wav', 'Bengali2667.wav', 'Bengali2668.wav', 'Bengali2680.wav', 'Gujarathi1359.wav', 'Gujarathi1388.wav', 'Gujarathi1417.wav', 'Gujarathi1498.wav', 'Gujarathi1704.wav', 'Gujarathi1706.wav', 'Gujarathi1707.wav', 'Gujarathi1710.wav', 'Gujarathi1712.wav', 'Gujarathi1715.wav', 'Gujarathi1717.wav', 'Gujarathi1718.wav', 'Gujarathi1719.wav', 'Gujarathi1720.wav', 'Gujarathi1721.wav', 'Gujarathi1722.wav', 'Gujarathi1725.wav', 'Gujarathi1726.wav', 'Gujarathi1727.wav', 'Gujarathi1729.wav', 'Gujarathi1730.wav', 'Gujarathi1733.wav', 'Gujarathi1734.wav', 'Gujarathi1736.wav', 'Gujarathi1737.wav', 'Gujarathi1738.wav', 'Gujarathi1740.wav', 'Gujarathi1743.wav', 'Gujarathi1746.wav', 'Gujarathi1747.wav', 'Gujarathi1748.wav', 'Gujarathi1749.wav', 'Gujarathi1753.wav', 'Gujarathi1756.wav', 'Gujarathi1759.wav', 'Gujarathi1760.wav', 'Gujarathi1761.wav', 'Gujarathi1762.wav', 'Gujarathi1763.wav', 'Gujarathi1764.wav', 'Gujarathi1765.wav', 'Gujarathi1769.wav', 'Gujarathi1770.wav', 'Gujarathi1935.wav', 'Gujarathi1946.wav', 'Gujarathi1984.wav', 'Gujarathi2486.wav', 'Gujarathi2491.wav', 'Gujarathi2513.wav', 'Gujarathi2520.wav', 'Gujarathi2571.wav', 'Tamil77.wav', 'Tamil78.wav', 'Tamil79.wav', 'Tamil80.wav', 'Tamil81.wav', 'Tamil86.wav', 'Tamil87.wav', 'Tamil88.wav', 'Tamil94.wav', 'Tamil97.wav', 'Tamil101.wav', 'Tamil102.wav', 'Tamil106.wav', 'Tamil107.wav', 'Tamil116.wav', 'Tamil122.wav', 'Tamil124.wav', 'Tamil125.wav', 'Tamil126.wav', 'Tamil129.wav', 'Tamil130.wav', 'Tamil134.wav', 'Tamil135.wav', 'Tamil137.wav', 'Tamil143.wav', 'Tamil144.wav', 'Tamil149.wav', 'Tamil150.wav', 'Tamil155.wav', 'Tamil156.wav', 'Tamil157.wav', 'Tamil160.wav', 'Tamil164.wav', 'Tamil166.wav', 'Tamil167.wav', 'Tamil169.wav', 'Tamil173.wav', 'Tamil176.wav', 'Tamil179.wav', 'Tamil182.wav', 'Tamil183.wav', 'Tamil184.wav', 'Tamil185.wav', 'Tamil186.wav', 'Tamil537.wav', 'Tamil550.wav', 'Tamil564.wav', 'Tamil567.wav', 'Tamil584.wav', 'Tamil585.wav', 'Tamil590.wav', 'Tamil593.wav', 'Tamil907.wav', 'Tamil909.wav', 'Tamil971.wav', 'Tamil1030.wav', 'Tamil1043.wav', 'Tamil1072.wav', 'Tamil1076.wav', 'Tamil1084.wav', 'Tamil1099.wav', 'Tamil1112.wav', 'Tamil1118.wav', 'Tamil1127.wav', 'Tamil1135.wav', 'Tamil1146.wav', 'Tamil1168.wav', 'Tamil1360.wav', 'Tamil1365.wav', 'Tamil1368.wav', 'Tamil1369.wav', 'Tamil1374.wav', 'Tamil1400.wav', 'Tamil1407.wav', 'Tamil1416.wav', 'Tamil1749.wav', 'Tamil1848.wav', 'Tamil1855.wav', 'Tamil1869.wav', 'Tamil1880.wav', 'Tamil1885.wav', 'Tamil1931.wav', 'Tamil1950.wav', 'Tamil1954.wav', 'Tamil2005.wav', 'Tamil2013.wav', 'Tamil2047.wav', 'Tamil2050.wav', 'Tamil2088.wav', 'Tamil2096.wav', 'Tamil2337.wav', 'Tamil2356.wav', 'Tamil2367.wav', 'Tamil2487.wav', 'Tamil2490.wav', 'Tamil2496.wav', 'Tamil2498.wav', 'Tamil2499.wav', 'Tamil2500.wav', 'Tamil2510.wav', 'Tamil2515.wav', 'Tamil2518.wav', 'Tamil2531.wav', 'Tamil2532.wav', 'Tamil2539.wav', 'Tamil2544.wav', 'Tamil2554.wav', 'Tamil2559.wav', 'Tamil2560.wav', 'Tamil2561.wav', 'Tamil2735.wav', 'Tamil2792.wav', 'Tamil2801.wav', 'Tamil2814.wav', 'Tamil2820.wav', 'Tamil2847.wav', 'Tamil2871.wav', 'Tamil2879.wav', 'Tamil2883.wav', 'Tamil2887.wav', 'Tamil2895.wav', 'Tamil3074.wav', 'Tamil3076.wav']\n"
          ],
          "name": "stdout"
        }
      ]
    },
    {
      "cell_type": "code",
      "metadata": {
        "id": "jLZmV15g3DDi",
        "colab_type": "code",
        "colab": {
          "base_uri": "https://localhost:8080/",
          "height": 54
        },
        "outputId": "3aeea5d2-f2be-4f98-d078-24d1d87e6f40"
      },
      "source": [
        "print(three_sec_audio)"
      ],
      "execution_count": null,
      "outputs": [
        {
          "output_type": "stream",
          "text": [
            "['Telugu1.wav', 'Telugu7.wav', 'Telugu14.wav', 'Telugu21.wav', 'Telugu25.wav', 'Telugu26.wav', 'Telugu31.wav', 'Telugu32.wav', 'Telugu37.wav', 'Telugu59.wav', 'Telugu64.wav', 'Telugu66.wav', 'Telugu69.wav', 'Telugu70.wav', 'Telugu78.wav', 'Telugu79.wav', 'Telugu88.wav', 'Telugu95.wav', 'Telugu101.wav', 'Telugu108.wav', 'Telugu131.wav', 'Telugu136.wav', 'Telugu140.wav', 'Telugu143.wav', 'Telugu145.wav', 'Telugu148.wav', 'Telugu151.wav', 'Telugu154.wav', 'Telugu157.wav', 'Telugu160.wav', 'Telugu177.wav', 'Telugu179.wav', 'Telugu182.wav', 'Telugu194.wav', 'Telugu197.wav', 'Telugu215.wav', 'Telugu225.wav', 'Telugu227.wav', 'Telugu236.wav', 'Telugu241.wav', 'Telugu242.wav', 'Telugu247.wav', 'Telugu264.wav', 'Telugu287.wav', 'Telugu313.wav', 'Telugu320.wav', 'Telugu329.wav', 'Telugu333.wav', 'Telugu334.wav', 'Telugu338.wav', 'Telugu339.wav', 'Telugu344.wav', 'Telugu358.wav', 'Telugu366.wav', 'Telugu379.wav', 'Telugu380.wav', 'Telugu381.wav', 'Telugu382.wav', 'Telugu385.wav', 'Telugu386.wav', 'Telugu387.wav', 'Telugu391.wav', 'Telugu395.wav', 'Telugu396.wav', 'Telugu399.wav', 'Telugu400.wav', 'Telugu402.wav', 'Telugu403.wav', 'Telugu408.wav', 'Telugu409.wav', 'Telugu414.wav', 'Telugu415.wav', 'Telugu417.wav', 'Telugu418.wav', 'Telugu419.wav', 'Telugu420.wav', 'Telugu422.wav', 'Telugu423.wav', 'Telugu424.wav', 'Telugu426.wav', 'Telugu427.wav', 'Telugu429.wav', 'Telugu431.wav', 'Telugu433.wav', 'Telugu434.wav', 'Telugu436.wav', 'Telugu437.wav', 'Telugu439.wav', 'Telugu440.wav', 'Telugu441.wav', 'Telugu442.wav', 'Telugu444.wav', 'Telugu445.wav', 'Telugu453.wav', 'Telugu454.wav', 'Telugu455.wav', 'Telugu456.wav', 'Telugu458.wav', 'Telugu465.wav', 'Telugu468.wav', 'Telugu470.wav', 'Telugu472.wav', 'Telugu474.wav', 'Telugu477.wav', 'Telugu478.wav', 'Telugu480.wav', 'Telugu483.wav', 'Telugu484.wav', 'Telugu492.wav', 'Telugu500.wav', 'Telugu503.wav', 'Telugu507.wav', 'Telugu509.wav', 'Telugu514.wav', 'Telugu515.wav', 'Telugu520.wav', 'Telugu522.wav', 'Telugu524.wav', 'Telugu526.wav', 'Telugu531.wav', 'Telugu534.wav', 'Telugu536.wav', 'Telugu539.wav', 'Telugu544.wav', 'Telugu551.wav', 'Telugu553.wav', 'Telugu557.wav', 'Telugu564.wav', 'Telugu573.wav', 'Telugu575.wav', 'Telugu576.wav', 'Telugu588.wav', 'Telugu590.wav', 'Telugu594.wav', 'Telugu596.wav', 'Telugu611.wav', 'Telugu612.wav', 'Telugu615.wav', 'Telugu619.wav', 'Telugu624.wav', 'Telugu627.wav', 'Telugu629.wav', 'Telugu633.wav', 'Telugu634.wav', 'Telugu636.wav', 'Telugu637.wav', 'Telugu646.wav', 'Telugu709.wav', 'Telugu710.wav', 'Telugu712.wav', 'Telugu714.wav', 'Telugu716.wav', 'Telugu719.wav', 'Telugu720.wav', 'Telugu722.wav', 'Telugu725.wav', 'Telugu730.wav', 'Telugu731.wav', 'Telugu734.wav', 'Telugu737.wav', 'Telugu739.wav', 'Telugu741.wav', 'Telugu744.wav', 'Telugu746.wav', 'Telugu747.wav', 'Telugu748.wav', 'Telugu751.wav', 'Telugu754.wav', 'Telugu755.wav', 'Telugu762.wav', 'Telugu764.wav', 'Telugu766.wav', 'Telugu771.wav', 'Telugu773.wav', 'Telugu774.wav', 'Telugu775.wav', 'Telugu776.wav', 'Telugu777.wav', 'Telugu778.wav', 'Telugu779.wav', 'Telugu780.wav', 'Telugu784.wav', 'Telugu785.wav', 'Telugu787.wav', 'Telugu788.wav', 'Telugu789.wav', 'Telugu790.wav', 'Telugu791.wav', 'Telugu792.wav', 'Telugu794.wav', 'Telugu796.wav', 'Telugu797.wav', 'Telugu798.wav', 'Telugu799.wav', 'Telugu801.wav', 'Telugu805.wav', 'Telugu806.wav', 'Telugu807.wav', 'Telugu808.wav', 'Telugu809.wav', 'Telugu810.wav', 'Telugu812.wav', 'Telugu813.wav', 'Telugu814.wav', 'Telugu818.wav', 'Telugu819.wav', 'Telugu822.wav', 'Telugu823.wav', 'Telugu826.wav', 'Telugu828.wav', 'Telugu830.wav', 'Telugu831.wav', 'Telugu832.wav', 'Telugu833.wav', 'Telugu834.wav', 'Telugu837.wav', 'Telugu838.wav', 'Telugu840.wav', 'Telugu842.wav', 'Telugu844.wav', 'Telugu845.wav', 'Telugu847.wav', 'Telugu853.wav', 'Telugu859.wav', 'Telugu861.wav', 'Telugu864.wav', 'Telugu867.wav', 'Telugu868.wav', 'Telugu872.wav', 'Telugu875.wav', 'Telugu878.wav', 'Telugu879.wav', 'Telugu883.wav', 'Telugu885.wav', 'Telugu888.wav', 'Telugu889.wav', 'Telugu891.wav', 'Telugu902.wav', 'Telugu906.wav', 'Telugu907.wav', 'Telugu908.wav', 'Telugu910.wav', 'Telugu911.wav', 'Telugu913.wav', 'Telugu917.wav', 'Telugu919.wav', 'Telugu923.wav', 'Telugu926.wav', 'Telugu933.wav', 'Telugu934.wav', 'Telugu938.wav', 'Telugu939.wav', 'Telugu940.wav', 'Telugu941.wav', 'Telugu942.wav', 'Telugu945.wav', 'Telugu946.wav', 'Telugu947.wav', 'Telugu949.wav', 'Telugu953.wav', 'Telugu954.wav', 'Telugu957.wav', 'Telugu959.wav', 'Telugu961.wav', 'Telugu964.wav', 'Telugu967.wav', 'Telugu970.wav', 'Telugu975.wav', 'Telugu978.wav', 'Telugu1026.wav', 'Telugu1031.wav', 'Telugu1051.wav', 'Telugu1064.wav', 'Telugu1065.wav', 'Telugu1066.wav', 'Telugu1070.wav', 'Telugu1077.wav', 'Telugu1079.wav', 'Telugu1081.wav', 'Telugu1083.wav', 'Telugu1084.wav', 'Telugu1085.wav', 'Telugu1087.wav', 'Telugu1088.wav', 'Telugu1090.wav', 'Telugu1093.wav', 'Telugu1096.wav', 'Telugu1097.wav', 'Telugu1100.wav', 'Telugu1101.wav', 'Telugu1106.wav', 'Telugu1107.wav', 'Telugu1109.wav', 'Telugu1110.wav', 'Telugu1111.wav', 'Telugu1116.wav', 'Telugu1117.wav', 'Telugu1118.wav', 'Telugu1120.wav', 'Telugu1136.wav', 'Telugu1137.wav', 'Telugu1139.wav', 'Telugu1141.wav', 'Telugu1144.wav', 'Telugu1150.wav', 'Telugu1153.wav', 'Telugu1157.wav', 'Telugu1161.wav', 'Telugu1163.wav', 'Telugu1166.wav', 'Telugu1175.wav', 'Telugu1178.wav', 'Telugu1180.wav', 'Telugu1182.wav', 'Telugu1186.wav', 'Telugu1194.wav', 'Telugu1195.wav', 'Telugu1196.wav', 'Telugu1199.wav', 'Telugu1202.wav', 'Telugu1203.wav', 'Telugu1214.wav', 'Telugu1218.wav', 'Telugu1221.wav', 'Telugu1223.wav', 'Telugu1225.wav', 'Telugu1234.wav', 'Telugu1235.wav', 'Telugu1238.wav', 'Telugu1239.wav', 'Telugu1241.wav', 'Telugu1242.wav', 'Telugu1244.wav', 'Telugu1246.wav', 'Telugu1249.wav', 'Telugu1253.wav', 'Telugu1254.wav', 'Telugu1255.wav', 'Telugu1262.wav', 'Telugu1263.wav', 'Telugu1265.wav', 'Telugu1266.wav', 'Telugu1267.wav', 'Telugu1268.wav', 'Telugu1270.wav', 'Telugu1272.wav', 'Telugu1274.wav', 'Telugu1275.wav', 'Telugu1276.wav', 'Telugu1279.wav', 'Telugu1280.wav', 'Telugu1284.wav', 'Telugu1285.wav', 'Telugu1286.wav', 'Telugu1288.wav', 'Telugu1289.wav', 'Telugu1290.wav', 'Telugu1294.wav', 'Telugu1295.wav', 'Telugu1319.wav', 'Telugu1437.wav', 'Telugu1534.wav', 'Telugu1535.wav', 'Telugu1537.wav', 'Telugu1538.wav', 'Telugu1539.wav', 'Telugu1544.wav', 'Telugu1546.wav', 'Telugu1549.wav', 'Telugu1554.wav', 'Telugu1555.wav', 'Telugu1557.wav', 'Telugu1558.wav', 'Telugu1561.wav', 'Telugu1564.wav', 'Telugu1565.wav', 'Telugu1566.wav', 'Telugu1567.wav', 'Telugu1569.wav', 'Telugu1571.wav', 'Telugu1575.wav', 'Telugu1577.wav', 'Telugu1580.wav', 'Telugu1581.wav', 'Telugu1585.wav', 'Telugu1589.wav', 'Telugu1591.wav', 'Telugu1595.wav', 'Telugu1596.wav', 'Telugu1598.wav', 'Telugu1600.wav', 'Telugu1601.wav', 'Telugu1604.wav', 'Telugu1607.wav', 'Telugu1608.wav', 'Telugu1609.wav', 'Telugu1611.wav', 'Telugu1612.wav', 'Telugu1617.wav', 'Telugu1625.wav', 'Telugu1626.wav', 'Telugu1627.wav', 'Telugu1632.wav', 'Telugu1633.wav', 'Telugu1634.wav', 'Telugu1767.wav', 'Telugu1771.wav', 'Telugu1772.wav', 'Telugu1776.wav', 'Telugu1777.wav', 'Telugu1778.wav', 'Telugu1780.wav', 'Telugu1782.wav', 'Telugu1790.wav', 'Telugu1792.wav', 'Telugu1793.wav', 'Telugu1796.wav', 'Telugu1797.wav', 'Telugu1799.wav', 'Telugu1804.wav', 'Telugu1805.wav', 'Telugu1806.wav', 'Telugu1807.wav', 'Telugu1811.wav', 'Telugu1812.wav', 'Telugu1813.wav', 'Telugu1814.wav', 'Telugu1816.wav', 'Telugu1818.wav', 'Telugu1819.wav', 'Telugu1820.wav', 'Telugu1821.wav', 'Telugu1822.wav', 'Telugu1824.wav', 'Telugu1826.wav', 'Telugu1827.wav', 'Telugu1829.wav', 'Telugu1831.wav', 'Telugu1833.wav', 'Telugu1839.wav', 'Telugu1841.wav', 'Telugu1845.wav', 'Telugu1848.wav', 'Telugu1851.wav', 'Telugu1855.wav', 'Telugu1857.wav', 'Telugu1858.wav', 'Telugu1861.wav', 'Telugu1862.wav', 'Telugu1863.wav', 'Telugu1864.wav', 'Telugu1867.wav', 'Telugu1869.wav', 'Telugu1874.wav', 'Telugu1875.wav', 'Telugu1877.wav', 'Telugu1879.wav', 'Telugu1880.wav', 'Telugu1885.wav', 'Telugu1886.wav', 'Telugu1887.wav', 'Telugu1888.wav', 'Telugu1890.wav', 'Telugu1893.wav', 'Telugu1896.wav', 'Telugu1897.wav', 'Telugu1900.wav', 'Telugu1901.wav', 'Telugu1904.wav', 'Telugu1905.wav', 'Telugu1907.wav', 'Telugu1912.wav', 'Telugu1915.wav', 'Telugu1916.wav', 'Telugu1917.wav', 'Telugu1919.wav', 'Telugu1921.wav', 'Telugu1924.wav', 'Telugu1925.wav', 'Telugu1928.wav', 'Telugu1936.wav', 'Telugu1938.wav', 'Telugu1939.wav', 'Telugu1940.wav', 'Telugu1945.wav', 'Telugu1947.wav', 'Telugu1948.wav', 'Telugu1951.wav', 'Telugu1955.wav', 'Telugu1959.wav', 'Telugu1960.wav', 'Telugu1961.wav', 'Telugu1964.wav', 'Telugu1966.wav', 'Telugu1967.wav', 'Telugu1970.wav', 'Telugu1974.wav', 'Telugu1980.wav', 'Telugu1981.wav', 'Telugu1984.wav', 'Telugu1985.wav', 'Telugu1988.wav', 'Telugu1989.wav', 'Telugu1991.wav', 'Telugu1993.wav', 'Telugu1994.wav', 'Telugu1995.wav', 'Telugu1996.wav', 'Telugu1997.wav', 'Telugu1998.wav', 'Telugu1999.wav', 'Telugu2000.wav', 'Telugu2001.wav', 'Telugu2004.wav', 'Telugu2006.wav', 'Telugu2007.wav', 'Telugu2009.wav', 'Telugu2017.wav', 'Telugu2018.wav', 'Telugu2019.wav', 'Telugu2020.wav', 'Telugu2021.wav', 'Telugu2025.wav', 'Telugu2031.wav', 'Telugu2034.wav', 'Telugu2036.wav', 'Telugu2038.wav', 'Telugu2040.wav', 'Telugu2042.wav', 'Telugu2045.wav', 'Telugu2046.wav', 'Telugu2049.wav', 'Telugu2052.wav', 'Telugu2053.wav', 'Telugu2055.wav', 'Telugu2056.wav', 'Telugu2057.wav', 'Telugu2060.wav', 'Telugu2063.wav', 'Telugu2064.wav', 'Telugu2066.wav', 'Telugu2067.wav', 'Telugu2068.wav', 'Telugu2070.wav', 'Telugu2071.wav', 'Telugu2076.wav', 'Telugu2077.wav', 'Telugu2087.wav', 'Telugu2089.wav', 'Telugu2090.wav', 'Telugu2093.wav', 'Telugu2100.wav', 'Telugu2103.wav', 'Telugu2104.wav', 'Telugu2110.wav', 'Telugu2111.wav', 'Telugu2114.wav', 'Telugu2115.wav', 'Telugu2117.wav', 'Telugu2120.wav', 'Telugu2122.wav', 'Telugu2123.wav', 'Telugu2124.wav', 'Telugu2125.wav', 'Telugu2126.wav', 'Telugu2127.wav', 'Telugu2128.wav', 'Telugu2129.wav', 'Telugu2130.wav', 'Telugu2131.wav', 'Telugu2133.wav', 'Telugu2134.wav', 'Telugu2137.wav', 'Telugu2138.wav', 'Telugu2139.wav', 'Telugu2140.wav', 'Telugu2141.wav', 'Telugu2142.wav', 'Telugu2147.wav', 'Telugu2154.wav', 'Telugu2157.wav', 'Telugu2195.wav', 'Telugu2202.wav', 'Telugu2216.wav', 'Telugu2219.wav', 'Telugu2231.wav', 'Telugu2232.wav', 'Telugu2256.wav', 'Telugu2277.wav', 'Telugu2285.wav', 'Telugu2287.wav', 'Telugu2288.wav', 'Telugu2289.wav', 'Telugu2299.wav', 'Telugu2323.wav', 'Telugu2325.wav', 'Telugu2326.wav', 'Telugu2328.wav', 'Telugu2329.wav', 'Telugu2330.wav', 'Telugu2332.wav', 'Telugu2333.wav', 'Telugu2337.wav', 'Telugu2338.wav', 'Telugu2339.wav', 'Telugu2342.wav', 'Telugu2344.wav', 'Telugu2345.wav', 'Telugu2346.wav', 'Telugu2347.wav', 'Telugu2349.wav', 'Telugu2350.wav', 'Telugu2351.wav', 'Telugu2352.wav', 'Telugu2358.wav', 'Telugu2360.wav', 'Telugu2361.wav', 'Telugu2363.wav', 'Telugu2364.wav', 'Telugu2365.wav', 'Telugu2366.wav', 'Telugu2368.wav', 'Telugu2369.wav', 'Telugu2374.wav', 'Telugu2375.wav', 'Telugu2377.wav', 'Telugu2378.wav', 'Telugu2379.wav', 'Telugu2382.wav', 'Telugu2383.wav', 'Telugu2384.wav', 'Telugu2390.wav', 'Telugu2393.wav', 'Telugu2394.wav', 'Telugu2395.wav', 'Telugu2397.wav', 'Telugu2400.wav', 'Telugu2406.wav', 'Telugu2407.wav', 'Telugu2409.wav', 'Telugu2411.wav', 'Telugu2412.wav', 'Telugu2414.wav', 'Telugu2415.wav', 'Telugu2420.wav', 'Telugu2422.wav', 'Telugu2432.wav', 'Telugu2434.wav', 'Telugu2437.wav', 'Telugu2438.wav', 'Telugu2443.wav', 'Telugu2449.wav', 'Telugu2458.wav', 'Telugu2459.wav', 'Telugu2461.wav', 'Telugu2462.wav', 'Telugu2465.wav', 'Telugu2468.wav', 'Telugu2479.wav', 'Telugu2483.wav', 'Telugu2485.wav', 'Telugu2489.wav', 'Telugu2495.wav', 'Telugu2497.wav', 'Telugu2501.wav', 'Telugu2510.wav', 'Telugu2512.wav', 'Telugu2513.wav', 'Telugu2516.wav', 'Telugu2517.wav', 'Telugu2521.wav', 'Telugu2526.wav', 'Telugu2528.wav', 'Telugu2530.wav', 'Telugu2533.wav', 'Telugu2534.wav', 'Telugu2536.wav', 'Telugu2537.wav', 'Telugu2547.wav', 'Telugu2553.wav', 'Telugu2561.wav', 'Telugu2562.wav', 'Telugu2563.wav', 'Telugu2565.wav', 'Telugu2566.wav', 'Telugu2567.wav', 'Telugu2568.wav', 'Telugu2569.wav', 'Telugu2575.wav', 'Telugu2579.wav', 'Telugu2607.wav', 'Telugu2652.wav', 'Telugu2674.wav', 'Telugu2715.wav', 'Telugu2716.wav', 'Telugu2719.wav', 'Telugu2726.wav', 'Telugu2732.wav', 'Telugu2734.wav', 'Telugu2735.wav', 'Telugu2743.wav', 'Telugu2790.wav', 'Telugu2791.wav', 'Telugu2794.wav', 'Telugu2796.wav', 'Telugu2797.wav', 'Telugu2798.wav', 'Telugu2799.wav', 'Telugu2800.wav', 'Telugu2801.wav', 'Telugu2805.wav', 'Telugu2811.wav', 'Telugu2815.wav', 'Telugu2817.wav', 'Telugu2818.wav', 'Telugu2819.wav', 'Telugu2820.wav', 'Telugu2822.wav', 'Telugu2823.wav', 'Telugu2824.wav', 'Telugu2825.wav', 'Telugu2828.wav', 'Telugu2829.wav', 'Telugu2830.wav', 'Telugu2831.wav', 'Telugu2832.wav', 'Telugu2833.wav', 'Telugu2838.wav', 'Telugu2839.wav', 'Telugu2840.wav', 'Telugu2841.wav', 'Telugu2842.wav', 'Telugu2848.wav', 'Telugu2850.wav', 'Telugu2851.wav', 'Telugu2852.wav', 'Telugu2856.wav', 'Telugu2859.wav', 'Telugu2860.wav', 'Telugu2862.wav', 'Telugu2865.wav', 'Telugu2869.wav', 'Telugu2871.wav', 'Telugu2872.wav', 'Telugu2873.wav', 'Telugu2874.wav', 'Telugu2876.wav', 'Telugu2879.wav', 'Telugu2880.wav', 'Telugu2881.wav', 'Telugu2882.wav', 'Telugu2883.wav', 'Telugu2886.wav', 'Telugu2887.wav', 'Telugu2888.wav', 'Telugu2890.wav', 'Telugu2892.wav', 'Telugu2896.wav', 'Telugu2949.wav', 'Telugu2952.wav', 'Telugu2954.wav', 'Telugu2956.wav', 'Telugu2958.wav', 'Telugu2964.wav', 'Telugu2968.wav', 'Telugu2972.wav', 'Telugu2977.wav', 'Telugu2979.wav', 'Telugu2982.wav', 'Telugu2984.wav', 'Telugu2989.wav', 'Telugu2990.wav', 'Telugu2994.wav', 'Telugu2996.wav', 'Telugu2998.wav', 'Telugu2999.wav', 'Telugu3017.wav', 'Telugu3036.wav', 'Telugu3045.wav', 'Telugu3047.wav', 'Telugu3049.wav', 'Telugu3050.wav', 'Telugu3052.wav', 'Telugu3053.wav', 'Telugu3054.wav', 'Telugu3062.wav', 'Telugu3064.wav', 'Telugu3067.wav', 'Telugu3068.wav', 'Telugu3070.wav', 'Telugu3077.wav', 'Telugu3080.wav', 'Telugu3088.wav', 'Telugu3090.wav', 'Telugu3091.wav', 'Telugu3098.wav', 'Telugu3101.wav', 'Telugu3102.wav', 'Telugu3106.wav', 'Telugu3107.wav', 'Telugu3109.wav', 'Telugu3112.wav', 'Telugu3114.wav', 'Telugu3119.wav', 'Telugu3122.wav', 'Telugu3123.wav', 'Telugu3124.wav', 'Telugu3125.wav', 'Telugu3126.wav', 'Telugu3127.wav', 'Telugu3128.wav', 'Telugu3132.wav', 'Telugu3134.wav', 'Telugu3136.wav', 'Telugu3139.wav', 'Telugu3140.wav', 'Telugu3141.wav', 'Telugu3142.wav', 'Telugu3143.wav', 'Telugu3144.wav', 'Telugu3146.wav', 'Telugu3150.wav', 'Telugu3151.wav', 'Telugu3152.wav', 'Telugu3156.wav', 'Telugu3157.wav', 'Telugu3158.wav', 'Telugu3160.wav', 'Telugu3162.wav', 'Telugu3164.wav', 'Telugu3165.wav', 'Telugu3167.wav', 'Telugu3171.wav', 'Telugu3172.wav', 'Telugu3173.wav', 'Telugu3175.wav', 'Telugu3176.wav', 'Telugu3177.wav', 'Telugu3179.wav', 'Telugu3181.wav', 'Telugu3182.wav', 'Telugu3184.wav', 'Telugu3186.wav', 'Telugu3188.wav', 'Telugu3191.wav', 'Telugu3192.wav', 'Telugu3193.wav', 'Telugu3194.wav', 'Telugu3196.wav', 'Telugu3198.wav', 'Telugu3200.wav', 'Telugu3202.wav', 'Telugu3206.wav', 'Telugu3207.wav', 'Telugu3208.wav', 'Telugu3210.wav', 'Telugu3213.wav', 'Telugu3216.wav', 'Telugu3219.wav', 'Telugu3220.wav', 'Telugu3221.wav', 'Telugu3226.wav', 'Telugu3227.wav', 'Telugu3229.wav', 'Telugu3230.wav', 'Telugu3231.wav', 'Telugu3234.wav', 'Telugu3238.wav', 'Telugu3240.wav', 'Telugu3241.wav', 'Telugu3242.wav', 'Telugu3245.wav', 'Telugu3246.wav', 'Telugu3247.wav', 'Telugu3248.wav', 'Telugu3251.wav', 'Telugu3253.wav', 'Telugu3257.wav', 'Telugu3265.wav', 'Telugu3266.wav', 'Telugu3267.wav', 'Telugu3268.wav', 'Telugu3269.wav', 'Telugu3274.wav', 'Telugu3275.wav', 'Telugu3282.wav', 'Telugu3285.wav', 'Telugu3286.wav', 'Telugu3290.wav', 'Telugu3292.wav', 'Telugu3293.wav', 'Telugu3295.wav', 'Telugu3297.wav', 'Telugu3300.wav', 'Telugu3301.wav', 'Telugu3302.wav', 'Telugu3303.wav', 'Telugu3307.wav', 'Telugu3309.wav', 'Telugu3310.wav', 'Telugu3311.wav', 'Telugu3315.wav', 'Telugu3316.wav', 'Telugu3319.wav', 'Telugu3326.wav', 'Telugu3327.wav', 'Telugu3329.wav', 'Telugu3331.wav', 'Telugu3333.wav', 'Telugu3334.wav', 'Telugu3335.wav', 'Telugu3337.wav', 'Telugu3338.wav', 'Telugu3341.wav', 'Telugu3344.wav', 'Telugu3346.wav', 'Telugu3347.wav', 'Telugu3348.wav', 'Telugu3350.wav', 'Telugu3351.wav', 'Telugu3355.wav', 'Telugu3359.wav', 'Telugu3362.wav', 'Telugu3363.wav', 'Telugu3366.wav', 'Telugu3367.wav', 'Telugu3369.wav', 'Telugu3373.wav', 'Telugu3374.wav', 'Telugu3375.wav', 'Telugu3376.wav', 'Telugu3379.wav', 'Telugu3380.wav', 'Telugu3385.wav', 'Telugu3396.wav', 'Telugu3397.wav', 'Telugu3398.wav', 'Telugu3400.wav', 'Telugu3403.wav', 'Telugu3408.wav', 'Telugu3410.wav', 'Telugu3416.wav', 'Telugu3420.wav', 'Telugu3421.wav', 'Telugu3424.wav', 'Telugu3425.wav', 'Telugu3428.wav', 'Telugu3434.wav', 'Telugu3435.wav', 'Telugu3436.wav', 'Telugu3438.wav', 'Telugu3440.wav', 'Telugu3443.wav', 'Telugu3449.wav', 'Telugu3450.wav', 'Telugu3452.wav', 'Telugu3456.wav', 'Telugu3457.wav', 'Telugu3458.wav', 'Telugu3461.wav', 'Telugu3462.wav', 'Telugu3464.wav', 'Telugu3466.wav', 'Telugu3467.wav', 'Telugu3470.wav', 'Telugu3475.wav', 'Telugu3476.wav', 'Telugu3478.wav', 'Telugu3480.wav', 'Telugu3481.wav', 'Telugu3483.wav', 'Telugu3485.wav', 'Telugu3486.wav', 'Telugu3487.wav', 'Telugu3488.wav', 'Telugu3489.wav', 'Telugu3492.wav', 'Telugu3493.wav', 'Telugu3496.wav', 'Telugu3498.wav', 'Telugu3503.wav', 'Telugu3504.wav', 'Telugu3512.wav', 'Telugu3519.wav', 'Telugu3527.wav', 'Telugu3529.wav', 'Telugu3542.wav', 'Telugu3548.wav', 'Telugu3550.wav', 'Telugu3556.wav', 'Telugu3562.wav', 'Telugu3566.wav', 'Telugu3575.wav', 'Telugu3577.wav', 'Telugu3578.wav', 'Telugu3586.wav', 'Telugu3587.wav', 'Telugu3591.wav', 'Telugu3595.wav', 'Bengali10.wav', 'Bengali11.wav', 'Bengali12.wav', 'Bengali16.wav', 'Bengali84.wav', 'Bengali90.wav', 'Bengali126.wav', 'Bengali138.wav', 'Bengali140.wav', 'Bengali161.wav', 'Bengali166.wav', 'Bengali180.wav', 'Bengali181.wav', 'Bengali202.wav', 'Bengali205.wav', 'Bengali212.wav', 'Bengali217.wav', 'Bengali227.wav', 'Bengali229.wav', 'Bengali248.wav', 'Bengali249.wav', 'Bengali252.wav', 'Bengali265.wav', 'Bengali268.wav', 'Bengali273.wav', 'Bengali282.wav', 'Bengali283.wav', 'Bengali301.wav', 'Bengali306.wav', 'Bengali316.wav', 'Bengali331.wav', 'Bengali339.wav', 'Bengali349.wav', 'Bengali352.wav', 'Bengali353.wav', 'Bengali378.wav', 'Bengali379.wav', 'Bengali400.wav', 'Bengali404.wav', 'Bengali413.wav', 'Bengali418.wav', 'Bengali422.wav', 'Bengali425.wav', 'Bengali428.wav', 'Bengali430.wav', 'Bengali447.wav', 'Bengali454.wav', 'Bengali461.wav', 'Bengali479.wav', 'Bengali487.wav', 'Bengali509.wav', 'Bengali536.wav', 'Bengali537.wav', 'Bengali539.wav', 'Bengali548.wav', 'Bengali555.wav', 'Bengali561.wav', 'Bengali562.wav', 'Bengali568.wav', 'Bengali571.wav', 'Bengali575.wav', 'Bengali579.wav', 'Bengali596.wav', 'Bengali603.wav', 'Bengali616.wav', 'Bengali628.wav', 'Bengali632.wav', 'Bengali641.wav', 'Bengali648.wav', 'Bengali651.wav', 'Bengali653.wav', 'Bengali657.wav', 'Bengali669.wav', 'Bengali685.wav', 'Bengali691.wav', 'Bengali718.wav', 'Bengali742.wav', 'Bengali745.wav', 'Bengali747.wav', 'Bengali751.wav', 'Bengali765.wav', 'Bengali776.wav', 'Bengali799.wav', 'Bengali815.wav', 'Bengali840.wav', 'Bengali846.wav', 'Bengali861.wav', 'Bengali862.wav', 'Bengali868.wav', 'Bengali883.wav', 'Bengali899.wav', 'Bengali901.wav', 'Bengali907.wav', 'Bengali918.wav', 'Bengali920.wav', 'Bengali922.wav', 'Bengali923.wav', 'Bengali925.wav', 'Bengali930.wav', 'Bengali971.wav', 'Bengali976.wav', 'Bengali978.wav', 'Bengali989.wav', 'Bengali1000.wav', 'Bengali1017.wav', 'Bengali1019.wav', 'Bengali1024.wav', 'Bengali1027.wav', 'Bengali1030.wav', 'Bengali1040.wav', 'Bengali1043.wav', 'Bengali1050.wav', 'Bengali1053.wav', 'Bengali1062.wav', 'Bengali1063.wav', 'Bengali1065.wav', 'Bengali1066.wav', 'Bengali1078.wav', 'Bengali1079.wav', 'Bengali1088.wav', 'Bengali1091.wav', 'Bengali1094.wav', 'Bengali1095.wav', 'Bengali1096.wav', 'Bengali1114.wav', 'Bengali1119.wav', 'Bengali1123.wav', 'Bengali1126.wav', 'Bengali1129.wav', 'Bengali1146.wav', 'Bengali1154.wav', 'Bengali1158.wav', 'Bengali1168.wav', 'Bengali1178.wav', 'Bengali1185.wav', 'Bengali1196.wav', 'Bengali1200.wav', 'Bengali1201.wav', 'Bengali1205.wav', 'Bengali1227.wav', 'Bengali1228.wav', 'Bengali1240.wav', 'Bengali1259.wav', 'Bengali1262.wav', 'Bengali1264.wav', 'Bengali1268.wav', 'Bengali1272.wav', 'Bengali1287.wav', 'Bengali1289.wav', 'Bengali1296.wav', 'Bengali1297.wav', 'Bengali1304.wav', 'Bengali1322.wav', 'Bengali1324.wav', 'Bengali1327.wav', 'Bengali1329.wav', 'Bengali1331.wav', 'Bengali1336.wav', 'Bengali1341.wav', 'Bengali1345.wav', 'Bengali1348.wav', 'Bengali1357.wav', 'Bengali1359.wav', 'Bengali1365.wav', 'Bengali1367.wav', 'Bengali1372.wav', 'Bengali1405.wav', 'Bengali1406.wav', 'Bengali1408.wav', 'Bengali1414.wav', 'Bengali1419.wav', 'Bengali1431.wav', 'Bengali1433.wav', 'Bengali1434.wav', 'Bengali1435.wav', 'Bengali1436.wav', 'Bengali1450.wav', 'Bengali1451.wav', 'Bengali1471.wav', 'Bengali1478.wav', 'Bengali1479.wav', 'Bengali1485.wav', 'Bengali1488.wav', 'Bengali1493.wav', 'Bengali1507.wav', 'Bengali1512.wav', 'Bengali1516.wav', 'Bengali1519.wav', 'Bengali1522.wav', 'Bengali1525.wav', 'Bengali1536.wav', 'Bengali1544.wav', 'Bengali1551.wav', 'Bengali1556.wav', 'Bengali1566.wav', 'Bengali1572.wav', 'Bengali1577.wav', 'Bengali1583.wav', 'Bengali1587.wav', 'Bengali1591.wav', 'Bengali1594.wav', 'Bengali1602.wav', 'Bengali1606.wav', 'Bengali1622.wav', 'Bengali1633.wav', 'Bengali1635.wav', 'Bengali1646.wav', 'Bengali1665.wav', 'Bengali1666.wav', 'Bengali1691.wav', 'Bengali1694.wav', 'Bengali1698.wav', 'Bengali1700.wav', 'Bengali1702.wav', 'Bengali1704.wav', 'Bengali1739.wav', 'Bengali1740.wav', 'Bengali1742.wav', 'Bengali1760.wav', 'Bengali1773.wav', 'Bengali1783.wav', 'Bengali1795.wav', 'Bengali1796.wav', 'Bengali1804.wav', 'Bengali1808.wav', 'Bengali1814.wav', 'Bengali1815.wav', 'Bengali1820.wav', 'Bengali1823.wav', 'Bengali1825.wav', 'Bengali1826.wav', 'Bengali1831.wav', 'Bengali1835.wav', 'Bengali1838.wav', 'Bengali1845.wav', 'Bengali1846.wav', 'Bengali1848.wav', 'Bengali1851.wav', 'Bengali1852.wav', 'Bengali1856.wav', 'Bengali1858.wav', 'Bengali1859.wav', 'Bengali1871.wav', 'Bengali1872.wav', 'Bengali1882.wav', 'Bengali1884.wav', 'Bengali1895.wav', 'Bengali1898.wav', 'Bengali1902.wav', 'Bengali1913.wav', 'Bengali1919.wav', 'Bengali1920.wav', 'Bengali1933.wav', 'Bengali1937.wav', 'Bengali1950.wav', 'Bengali1951.wav', 'Bengali1962.wav', 'Bengali1963.wav', 'Bengali1965.wav', 'Bengali1966.wav', 'Bengali1967.wav', 'Bengali1968.wav', 'Bengali1973.wav', 'Bengali1978.wav', 'Bengali1980.wav', 'Bengali1984.wav', 'Bengali1985.wav', 'Bengali1988.wav', 'Bengali1990.wav', 'Bengali1991.wav', 'Bengali2003.wav', 'Bengali2006.wav', 'Bengali2012.wav', 'Bengali2014.wav', 'Bengali2020.wav', 'Bengali2025.wav', 'Bengali2029.wav', 'Bengali2033.wav', 'Bengali2044.wav', 'Bengali2059.wav', 'Bengali2063.wav', 'Bengali2070.wav', 'Bengali2071.wav', 'Bengali2072.wav', 'Bengali2076.wav', 'Bengali2078.wav', 'Bengali2079.wav', 'Bengali2097.wav', 'Bengali2104.wav', 'Bengali2109.wav', 'Bengali2110.wav', 'Bengali2118.wav', 'Bengali2122.wav', 'Bengali2126.wav', 'Bengali2133.wav', 'Bengali2134.wav', 'Bengali2142.wav', 'Bengali2145.wav', 'Bengali2147.wav', 'Bengali2153.wav', 'Bengali2165.wav', 'Bengali2169.wav', 'Bengali2172.wav', 'Bengali2179.wav', 'Bengali2181.wav', 'Bengali2186.wav', 'Bengali2195.wav', 'Bengali2199.wav', 'Bengali2217.wav', 'Bengali2219.wav', 'Bengali2226.wav', 'Bengali2229.wav', 'Bengali2232.wav', 'Bengali2239.wav', 'Bengali2252.wav', 'Bengali2261.wav', 'Bengali2265.wav', 'Bengali2274.wav', 'Bengali2275.wav', 'Bengali2280.wav', 'Bengali2281.wav', 'Bengali2282.wav', 'Bengali2291.wav', 'Bengali2292.wav', 'Bengali2299.wav', 'Bengali2300.wav', 'Bengali2304.wav', 'Bengali2311.wav', 'Bengali2313.wav', 'Bengali2319.wav', 'Bengali2355.wav', 'Bengali2356.wav', 'Bengali2367.wav', 'Bengali2391.wav', 'Bengali2405.wav', 'Bengali2409.wav', 'Bengali2411.wav', 'Bengali2418.wav', 'Bengali2427.wav', 'Bengali2430.wav', 'Bengali2436.wav', 'Bengali2440.wav', 'Bengali2451.wav', 'Bengali2452.wav', 'Bengali2463.wav', 'Bengali2471.wav', 'Bengali2474.wav', 'Bengali2479.wav', 'Bengali2483.wav', 'Bengali2486.wav', 'Bengali2494.wav', 'Bengali2504.wav', 'Bengali2505.wav', 'Bengali2510.wav', 'Bengali2514.wav', 'Bengali2515.wav', 'Bengali2517.wav', 'Bengali2519.wav', 'Bengali2523.wav', 'Bengali2528.wav', 'Bengali2532.wav', 'Bengali2537.wav', 'Bengali2548.wav', 'Bengali2550.wav', 'Bengali2551.wav', 'Bengali2555.wav', 'Bengali2559.wav', 'Bengali2570.wav', 'Bengali2575.wav', 'Bengali2579.wav', 'Bengali2585.wav', 'Bengali2588.wav', 'Bengali2590.wav', 'Bengali2605.wav', 'Bengali2615.wav', 'Bengali2616.wav', 'Bengali2624.wav', 'Bengali2634.wav', 'Bengali2638.wav', 'Bengali2639.wav', 'Bengali2648.wav', 'Bengali2651.wav', 'Bengali2654.wav', 'Bengali2659.wav', 'Bengali2661.wav', 'Bengali2672.wav', 'Bengali2676.wav', 'Gujarathi42.wav', 'Gujarathi47.wav', 'Gujarathi69.wav', 'Gujarathi71.wav', 'Gujarathi81.wav', 'Gujarathi89.wav', 'Gujarathi92.wav', 'Gujarathi98.wav', 'Gujarathi118.wav', 'Gujarathi147.wav', 'Gujarathi171.wav', 'Gujarathi175.wav', 'Gujarathi194.wav', 'Gujarathi239.wav', 'Gujarathi278.wav', 'Gujarathi281.wav', 'Gujarathi294.wav', 'Gujarathi301.wav', 'Gujarathi307.wav', 'Gujarathi323.wav', 'Gujarathi324.wav', 'Gujarathi328.wav', 'Gujarathi336.wav', 'Gujarathi347.wav', 'Gujarathi349.wav', 'Gujarathi366.wav', 'Gujarathi370.wav', 'Gujarathi393.wav', 'Gujarathi435.wav', 'Gujarathi453.wav', 'Gujarathi465.wav', 'Gujarathi552.wav', 'Gujarathi615.wav', 'Gujarathi645.wav', 'Gujarathi647.wav', 'Gujarathi648.wav', 'Gujarathi673.wav', 'Gujarathi679.wav', 'Gujarathi685.wav', 'Gujarathi691.wav', 'Gujarathi703.wav', 'Gujarathi712.wav', 'Gujarathi715.wav', 'Gujarathi717.wav', 'Gujarathi719.wav', 'Gujarathi728.wav', 'Gujarathi738.wav', 'Gujarathi750.wav', 'Gujarathi756.wav', 'Gujarathi763.wav', 'Gujarathi817.wav', 'Gujarathi864.wav', 'Gujarathi930.wav', 'Gujarathi934.wav', 'Gujarathi935.wav', 'Gujarathi991.wav', 'Gujarathi998.wav', 'Gujarathi1158.wav', 'Gujarathi1199.wav', 'Gujarathi1342.wav', 'Gujarathi1344.wav', 'Gujarathi1353.wav', 'Gujarathi1361.wav', 'Gujarathi1362.wav', 'Gujarathi1366.wav', 'Gujarathi1381.wav', 'Gujarathi1383.wav', 'Gujarathi1386.wav', 'Gujarathi1392.wav', 'Gujarathi1402.wav', 'Gujarathi1404.wav', 'Gujarathi1406.wav', 'Gujarathi1409.wav', 'Gujarathi1410.wav', 'Gujarathi1414.wav', 'Gujarathi1419.wav', 'Gujarathi1423.wav', 'Gujarathi1430.wav', 'Gujarathi1432.wav', 'Gujarathi1434.wav', 'Gujarathi1437.wav', 'Gujarathi1438.wav', 'Gujarathi1447.wav', 'Gujarathi1455.wav', 'Gujarathi1457.wav', 'Gujarathi1459.wav', 'Gujarathi1462.wav', 'Gujarathi1463.wav', 'Gujarathi1465.wav', 'Gujarathi1468.wav', 'Gujarathi1471.wav', 'Gujarathi1474.wav', 'Gujarathi1479.wav', 'Gujarathi1480.wav', 'Gujarathi1481.wav', 'Gujarathi1493.wav', 'Gujarathi1504.wav', 'Gujarathi1514.wav', 'Gujarathi1516.wav', 'Gujarathi1523.wav', 'Gujarathi1527.wav', 'Gujarathi1528.wav', 'Gujarathi1532.wav', 'Gujarathi1533.wav', 'Gujarathi1534.wav', 'Gujarathi1548.wav', 'Gujarathi1554.wav', 'Gujarathi1556.wav', 'Gujarathi1557.wav', 'Gujarathi1565.wav', 'Gujarathi1569.wav', 'Gujarathi1573.wav', 'Gujarathi1587.wav', 'Gujarathi1590.wav', 'Gujarathi1593.wav', 'Gujarathi1594.wav', 'Gujarathi1600.wav', 'Gujarathi1605.wav', 'Gujarathi1606.wav', 'Gujarathi1610.wav', 'Gujarathi1611.wav', 'Gujarathi1613.wav', 'Gujarathi1615.wav', 'Gujarathi1616.wav', 'Gujarathi1630.wav', 'Gujarathi1633.wav', 'Gujarathi1638.wav', 'Gujarathi1644.wav', 'Gujarathi1645.wav', 'Gujarathi1650.wav', 'Gujarathi1652.wav', 'Gujarathi1653.wav', 'Gujarathi1655.wav', 'Gujarathi1673.wav', 'Gujarathi1675.wav', 'Gujarathi1679.wav', 'Gujarathi1685.wav', 'Gujarathi1696.wav', 'Gujarathi1701.wav', 'Gujarathi1708.wav', 'Gujarathi1709.wav', 'Gujarathi1711.wav', 'Gujarathi1713.wav', 'Gujarathi1714.wav', 'Gujarathi1723.wav', 'Gujarathi1724.wav', 'Gujarathi1728.wav', 'Gujarathi1732.wav', 'Gujarathi1735.wav', 'Gujarathi1739.wav', 'Gujarathi1741.wav', 'Gujarathi1742.wav', 'Gujarathi1744.wav', 'Gujarathi1745.wav', 'Gujarathi1750.wav', 'Gujarathi1751.wav', 'Gujarathi1752.wav', 'Gujarathi1755.wav', 'Gujarathi1758.wav', 'Gujarathi1766.wav', 'Gujarathi1768.wav', 'Gujarathi1771.wav', 'Gujarathi1775.wav', 'Gujarathi1881.wav', 'Gujarathi1907.wav', 'Gujarathi1914.wav', 'Gujarathi1930.wav', 'Gujarathi1931.wav', 'Gujarathi1943.wav', 'Gujarathi1950.wav', 'Gujarathi1951.wav', 'Gujarathi1953.wav', 'Gujarathi1958.wav', 'Gujarathi1963.wav', 'Gujarathi1965.wav', 'Gujarathi1970.wav', 'Gujarathi1971.wav', 'Gujarathi1978.wav', 'Gujarathi1980.wav', 'Gujarathi1986.wav', 'Gujarathi1990.wav', 'Gujarathi1992.wav', 'Gujarathi1994.wav', 'Gujarathi2002.wav', 'Gujarathi2003.wav', 'Gujarathi2005.wav', 'Gujarathi2006.wav', 'Gujarathi2007.wav', 'Gujarathi2009.wav', 'Gujarathi2013.wav', 'Gujarathi2015.wav', 'Gujarathi2020.wav', 'Gujarathi2021.wav', 'Gujarathi2028.wav', 'Gujarathi2122.wav', 'Gujarathi2126.wav', 'Gujarathi2132.wav', 'Gujarathi2143.wav', 'Gujarathi2146.wav', 'Gujarathi2157.wav', 'Gujarathi2162.wav', 'Gujarathi2165.wav', 'Gujarathi2167.wav', 'Gujarathi2168.wav', 'Gujarathi2173.wav', 'Gujarathi2174.wav', 'Gujarathi2177.wav', 'Gujarathi2178.wav', 'Gujarathi2185.wav', 'Gujarathi2187.wav', 'Gujarathi2193.wav', 'Gujarathi2196.wav', 'Gujarathi2212.wav', 'Gujarathi2231.wav', 'Gujarathi2240.wav', 'Gujarathi2245.wav', 'Gujarathi2247.wav', 'Gujarathi2248.wav', 'Gujarathi2250.wav', 'Gujarathi2252.wav', 'Gujarathi2254.wav', 'Gujarathi2259.wav', 'Gujarathi2261.wav', 'Gujarathi2262.wav', 'Gujarathi2267.wav', 'Gujarathi2268.wav', 'Gujarathi2270.wav', 'Gujarathi2271.wav', 'Gujarathi2277.wav', 'Gujarathi2278.wav', 'Gujarathi2282.wav', 'Gujarathi2284.wav', 'Gujarathi2296.wav', 'Gujarathi2299.wav', 'Gujarathi2304.wav', 'Gujarathi2305.wav', 'Gujarathi2309.wav', 'Gujarathi2319.wav', 'Gujarathi2328.wav', 'Gujarathi2329.wav', 'Gujarathi2330.wav', 'Gujarathi2332.wav', 'Gujarathi2352.wav', 'Gujarathi2357.wav', 'Gujarathi2363.wav', 'Gujarathi2366.wav', 'Gujarathi2375.wav', 'Gujarathi2378.wav', 'Gujarathi2399.wav', 'Gujarathi2401.wav', 'Gujarathi2411.wav', 'Gujarathi2415.wav', 'Gujarathi2438.wav', 'Gujarathi2441.wav', 'Gujarathi2450.wav', 'Gujarathi2452.wav', 'Gujarathi2466.wav', 'Gujarathi2488.wav', 'Gujarathi2492.wav', 'Gujarathi2495.wav', 'Gujarathi2499.wav', 'Gujarathi2503.wav', 'Gujarathi2505.wav', 'Gujarathi2506.wav', 'Gujarathi2512.wav', 'Gujarathi2516.wav', 'Gujarathi2521.wav', 'Gujarathi2522.wav', 'Gujarathi2525.wav', 'Gujarathi2534.wav', 'Gujarathi2537.wav', 'Gujarathi2542.wav', 'Gujarathi2544.wav', 'Gujarathi2546.wav', 'Gujarathi2549.wav', 'Gujarathi2550.wav', 'Gujarathi2556.wav', 'Gujarathi2560.wav', 'Gujarathi2563.wav', 'Gujarathi2568.wav', 'Gujarathi2569.wav', 'Gujarathi2576.wav', 'Gujarathi2584.wav', 'Gujarathi2586.wav', 'Gujarathi2594.wav', 'Gujarathi2595.wav', 'Gujarathi2596.wav', 'Gujarathi2599.wav', 'Gujarathi2603.wav', 'Gujarathi2605.wav', 'Gujarathi2607.wav', 'Gujarathi2608.wav', 'Gujarathi2615.wav', 'Gujarathi2616.wav', 'Gujarathi2619.wav', 'Gujarathi2621.wav', 'Gujarathi2623.wav', 'Gujarathi2874.wav', 'Gujarathi2959.wav', 'Gujarathi3099.wav', 'Gujarathi3114.wav', 'Gujarathi3128.wav', 'Gujarathi3129.wav', 'Gujarathi3131.wav', 'Gujarathi3136.wav', 'Gujarathi3163.wav', 'Gujarathi3170.wav', 'Gujarathi3194.wav', 'Gujarathi3210.wav', 'Gujarathi3246.wav', 'Gujarathi3296.wav', 'Gujarathi3324.wav', 'Gujarathi3350.wav', 'Gujarathi3405.wav', 'Tamil74.wav', 'Tamil75.wav', 'Tamil89.wav', 'Tamil92.wav', 'Tamil104.wav', 'Tamil105.wav', 'Tamil113.wav', 'Tamil114.wav', 'Tamil115.wav', 'Tamil119.wav', 'Tamil121.wav', 'Tamil131.wav', 'Tamil136.wav', 'Tamil139.wav', 'Tamil142.wav', 'Tamil145.wav', 'Tamil146.wav', 'Tamil158.wav', 'Tamil162.wav', 'Tamil168.wav', 'Tamil172.wav', 'Tamil178.wav', 'Tamil180.wav', 'Tamil181.wav', 'Tamil189.wav', 'Tamil221.wav', 'Tamil232.wav', 'Tamil236.wav', 'Tamil250.wav', 'Tamil292.wav', 'Tamil296.wav', 'Tamil335.wav', 'Tamil359.wav', 'Tamil364.wav', 'Tamil386.wav', 'Tamil394.wav', 'Tamil404.wav', 'Tamil408.wav', 'Tamil409.wav', 'Tamil430.wav', 'Tamil457.wav', 'Tamil469.wav', 'Tamil487.wav', 'Tamil507.wav', 'Tamil511.wav', 'Tamil536.wav', 'Tamil538.wav', 'Tamil539.wav', 'Tamil540.wav', 'Tamil541.wav', 'Tamil542.wav', 'Tamil543.wav', 'Tamil547.wav', 'Tamil549.wav', 'Tamil552.wav', 'Tamil553.wav', 'Tamil555.wav', 'Tamil557.wav', 'Tamil559.wav', 'Tamil560.wav', 'Tamil561.wav', 'Tamil563.wav', 'Tamil565.wav', 'Tamil568.wav', 'Tamil572.wav', 'Tamil573.wav', 'Tamil575.wav', 'Tamil577.wav', 'Tamil578.wav', 'Tamil579.wav', 'Tamil580.wav', 'Tamil583.wav', 'Tamil587.wav', 'Tamil588.wav', 'Tamil589.wav', 'Tamil591.wav', 'Tamil594.wav', 'Tamil595.wav', 'Tamil596.wav', 'Tamil597.wav', 'Tamil612.wav', 'Tamil614.wav', 'Tamil633.wav', 'Tamil639.wav', 'Tamil648.wav', 'Tamil693.wav', 'Tamil697.wav', 'Tamil699.wav', 'Tamil703.wav', 'Tamil709.wav', 'Tamil717.wav', 'Tamil723.wav', 'Tamil769.wav', 'Tamil772.wav', 'Tamil779.wav', 'Tamil889.wav', 'Tamil891.wav', 'Tamil900.wav', 'Tamil912.wav', 'Tamil920.wav', 'Tamil926.wav', 'Tamil944.wav', 'Tamil951.wav', 'Tamil953.wav', 'Tamil957.wav', 'Tamil966.wav', 'Tamil972.wav', 'Tamil1012.wav', 'Tamil1014.wav', 'Tamil1018.wav', 'Tamil1019.wav', 'Tamil1022.wav', 'Tamil1023.wav', 'Tamil1026.wav', 'Tamil1032.wav', 'Tamil1046.wav', 'Tamil1051.wav', 'Tamil1054.wav', 'Tamil1065.wav', 'Tamil1067.wav', 'Tamil1073.wav', 'Tamil1082.wav', 'Tamil1087.wav', 'Tamil1089.wav', 'Tamil1092.wav', 'Tamil1098.wav', 'Tamil1102.wav', 'Tamil1105.wav', 'Tamil1106.wav', 'Tamil1107.wav', 'Tamil1111.wav', 'Tamil1117.wav', 'Tamil1119.wav', 'Tamil1121.wav', 'Tamil1123.wav', 'Tamil1128.wav', 'Tamil1131.wav', 'Tamil1132.wav', 'Tamil1134.wav', 'Tamil1141.wav', 'Tamil1150.wav', 'Tamil1156.wav', 'Tamil1157.wav', 'Tamil1161.wav', 'Tamil1163.wav', 'Tamil1164.wav', 'Tamil1166.wav', 'Tamil1170.wav', 'Tamil1172.wav', 'Tamil1173.wav', 'Tamil1196.wav', 'Tamil1233.wav', 'Tamil1354.wav', 'Tamil1356.wav', 'Tamil1364.wav', 'Tamil1370.wav', 'Tamil1375.wav', 'Tamil1384.wav', 'Tamil1385.wav', 'Tamil1387.wav', 'Tamil1390.wav', 'Tamil1398.wav', 'Tamil1399.wav', 'Tamil1403.wav', 'Tamil1405.wav', 'Tamil1406.wav', 'Tamil1420.wav', 'Tamil1422.wav', 'Tamil1425.wav', 'Tamil1438.wav', 'Tamil1444.wav', 'Tamil1457.wav', 'Tamil1506.wav', 'Tamil1529.wav', 'Tamil1541.wav', 'Tamil1543.wav', 'Tamil1570.wav', 'Tamil1573.wav', 'Tamil1575.wav', 'Tamil1589.wav', 'Tamil1667.wav', 'Tamil1692.wav', 'Tamil1699.wav', 'Tamil1700.wav', 'Tamil1701.wav', 'Tamil1705.wav', 'Tamil1724.wav', 'Tamil1729.wav', 'Tamil1738.wav', 'Tamil1740.wav', 'Tamil1742.wav', 'Tamil1745.wav', 'Tamil1747.wav', 'Tamil1753.wav', 'Tamil1755.wav', 'Tamil1762.wav', 'Tamil1764.wav', 'Tamil1767.wav', 'Tamil1770.wav', 'Tamil1779.wav', 'Tamil1787.wav', 'Tamil1797.wav', 'Tamil1799.wav', 'Tamil1815.wav', 'Tamil1820.wav', 'Tamil1825.wav', 'Tamil1826.wav', 'Tamil1830.wav', 'Tamil1833.wav', 'Tamil1838.wav', 'Tamil1840.wav', 'Tamil1842.wav', 'Tamil1847.wav', 'Tamil1849.wav', 'Tamil1858.wav', 'Tamil1860.wav', 'Tamil1863.wav', 'Tamil1872.wav', 'Tamil1878.wav', 'Tamil1888.wav', 'Tamil1894.wav', 'Tamil1895.wav', 'Tamil1912.wav', 'Tamil1914.wav', 'Tamil1946.wav', 'Tamil1947.wav', 'Tamil1949.wav', 'Tamil1963.wav', 'Tamil1973.wav', 'Tamil1974.wav', 'Tamil1977.wav', 'Tamil1979.wav', 'Tamil1994.wav', 'Tamil2018.wav', 'Tamil2032.wav', 'Tamil2044.wav', 'Tamil2046.wav', 'Tamil2051.wav', 'Tamil2055.wav', 'Tamil2056.wav', 'Tamil2057.wav', 'Tamil2059.wav', 'Tamil2060.wav', 'Tamil2063.wav', 'Tamil2067.wav', 'Tamil2084.wav', 'Tamil2094.wav', 'Tamil2101.wav', 'Tamil2140.wav', 'Tamil2190.wav', 'Tamil2197.wav', 'Tamil2198.wav', 'Tamil2204.wav', 'Tamil2211.wav', 'Tamil2215.wav', 'Tamil2227.wav', 'Tamil2249.wav', 'Tamil2256.wav', 'Tamil2257.wav', 'Tamil2260.wav', 'Tamil2273.wav', 'Tamil2293.wav', 'Tamil2299.wav', 'Tamil2303.wav', 'Tamil2315.wav', 'Tamil2316.wav', 'Tamil2346.wav', 'Tamil2348.wav', 'Tamil2361.wav', 'Tamil2374.wav', 'Tamil2387.wav', 'Tamil2389.wav', 'Tamil2395.wav', 'Tamil2407.wav', 'Tamil2408.wav', 'Tamil2427.wav', 'Tamil2457.wav', 'Tamil2460.wav', 'Tamil2467.wav', 'Tamil2470.wav', 'Tamil2471.wav', 'Tamil2472.wav', 'Tamil2479.wav', 'Tamil2485.wav', 'Tamil2495.wav', 'Tamil2497.wav', 'Tamil2501.wav', 'Tamil2503.wav', 'Tamil2504.wav', 'Tamil2506.wav', 'Tamil2508.wav', 'Tamil2509.wav', 'Tamil2511.wav', 'Tamil2512.wav', 'Tamil2513.wav', 'Tamil2514.wav', 'Tamil2516.wav', 'Tamil2519.wav', 'Tamil2520.wav', 'Tamil2521.wav', 'Tamil2528.wav', 'Tamil2529.wav', 'Tamil2533.wav', 'Tamil2534.wav', 'Tamil2535.wav', 'Tamil2536.wav', 'Tamil2540.wav', 'Tamil2545.wav', 'Tamil2547.wav', 'Tamil2550.wav', 'Tamil2551.wav', 'Tamil2552.wav', 'Tamil2556.wav', 'Tamil2557.wav', 'Tamil2558.wav', 'Tamil2562.wav', 'Tamil2563.wav', 'Tamil2564.wav', 'Tamil2565.wav', 'Tamil2684.wav', 'Tamil2690.wav', 'Tamil2695.wav', 'Tamil2706.wav', 'Tamil2713.wav', 'Tamil2720.wav', 'Tamil2721.wav', 'Tamil2723.wav', 'Tamil2729.wav', 'Tamil2754.wav', 'Tamil2766.wav', 'Tamil2769.wav', 'Tamil2776.wav', 'Tamil2805.wav', 'Tamil2806.wav', 'Tamil2807.wav', 'Tamil2810.wav', 'Tamil2812.wav', 'Tamil2819.wav', 'Tamil2825.wav', 'Tamil2828.wav', 'Tamil2829.wav', 'Tamil2830.wav', 'Tamil2834.wav', 'Tamil2840.wav', 'Tamil2842.wav', 'Tamil2845.wav', 'Tamil2848.wav', 'Tamil2852.wav', 'Tamil2853.wav', 'Tamil2858.wav', 'Tamil2862.wav', 'Tamil2881.wav', 'Tamil2889.wav', 'Tamil2890.wav', 'Tamil2897.wav', 'Tamil2898.wav', 'Tamil2901.wav', 'Tamil2902.wav', 'Tamil2915.wav', 'Tamil2924.wav', 'Tamil2928.wav', 'Tamil2931.wav', 'Tamil2936.wav', 'Tamil2959.wav', 'Tamil2974.wav', 'Tamil2983.wav', 'Tamil2987.wav', 'Tamil3002.wav', 'Tamil3006.wav', 'Tamil3016.wav', 'Tamil3057.wav', 'Tamil3105.wav', 'Tamil3128.wav', 'Tamil3253.wav', 'Tamil3305.wav', 'Tamil3314.wav', 'Tamil3320.wav', 'Tamil3325.wav', 'Tamil3330.wav', 'Tamil3380.wav']\n"
          ],
          "name": "stdout"
        }
      ]
    },
    {
      "cell_type": "code",
      "metadata": {
        "id": "CSE9aC3uZXCt",
        "colab_type": "code",
        "colab": {}
      },
      "source": [
        "less_list"
      ],
      "execution_count": null,
      "outputs": []
    },
    {
      "cell_type": "code",
      "metadata": {
        "id": "4nfeWHVjE7_K",
        "colab_type": "code",
        "colab": {}
      },
      "source": [
        "#mode:- 'Train' or 'Test'\n",
        "def final_data(input_data,mode):\n",
        "  data_dic = np.zeros((30796,199,12))\n",
        "  data_tar = np.zeros((30796))\n",
        "  index = 0\n",
        "  for filename in input_data:\n",
        "    val = int(input_data[filename])-1\n",
        "    folder_name = languages_list[val]\n",
        "    subfolder_name = folder_name+'_'+mode+'/'\n",
        "    rate,signal = wav.read('/content/Languages/'+folder_name+'/'+subfolder_name+filename)\n",
        "    i=0\n",
        "    while((i+2)*rate<len(signal)+1):\n",
        "      sig_t = signal[i*rate:(i+2)*rate]  \n",
        "      data_dic[index]=(mfcc(sig_t,samplerate=rate,winlen=frame_size,winstep=frame_stride,\n",
        "                          numcep=num_ceps,nfft=NFFT,preemph=pre_emphasis,ceplifter=cep_lifter,\n",
        "                          winfunc=np.hamming))\n",
        "    #data_dic.append(mfcc_out)\n",
        "      data_tar[index]=int(input_data[filename])\n",
        "      index+=1\n",
        "      i+=2\n",
        "  return data_dic,data_tar\n",
        "\n"
      ],
      "execution_count": null,
      "outputs": []
    },
    {
      "cell_type": "code",
      "metadata": {
        "id": "HBrb6afnEJFZ",
        "colab_type": "code",
        "colab": {}
      },
      "source": [
        "input_data_output_dict,input_data_output_tar=final_data(training_dictionary,'Train')"
      ],
      "execution_count": null,
      "outputs": []
    },
    {
      "cell_type": "markdown",
      "metadata": {
        "id": "GXNT19PIIPnf",
        "colab_type": "text"
      },
      "source": [
        "Checking the type of the Data"
      ]
    },
    {
      "cell_type": "code",
      "metadata": {
        "id": "AJGobZR6LrDC",
        "colab_type": "code",
        "colab": {
          "base_uri": "https://localhost:8080/",
          "height": 34
        },
        "outputId": "caecf843-1cdd-4fe9-efcc-809aa3474e18"
      },
      "source": [
        "type(input_data_output_dict)\n",
        "type(input_data_output_tar)"
      ],
      "execution_count": null,
      "outputs": [
        {
          "output_type": "execute_result",
          "data": {
            "text/plain": [
              "numpy.ndarray"
            ]
          },
          "metadata": {
            "tags": []
          },
          "execution_count": 158
        }
      ]
    },
    {
      "cell_type": "markdown",
      "metadata": {
        "id": "P-JhpOa9JIuH",
        "colab_type": "text"
      },
      "source": [
        "We interested as 1 0 0 0 for telugu\n",
        "                 0 1 0 0 for Bengali\n",
        "                 0 0 1 0 for Gujarathi\n",
        "                 0 0 0 1 for Tamil"
      ]
    },
    {
      "cell_type": "code",
      "metadata": {
        "id": "5ZG7sc5o4snH",
        "colab_type": "code",
        "colab": {}
      },
      "source": [
        "tarModified = np.zeros((30796,4))\n",
        "iter = 0\n",
        "for i in input_data_output_tar:\n",
        "  index = int(i)\n",
        "  tarModified[iter][index-1] = 1\n",
        "  iter += 1"
      ],
      "execution_count": null,
      "outputs": []
    },
    {
      "cell_type": "code",
      "metadata": {
        "id": "VZJUDQGaJzTb",
        "colab_type": "code",
        "colab": {
          "base_uri": "https://localhost:8080/",
          "height": 136
        },
        "outputId": "fae48a17-5717-4eef-994c-41a0cd97b86d"
      },
      "source": [
        "tarModified"
      ],
      "execution_count": null,
      "outputs": [
        {
          "output_type": "execute_result",
          "data": {
            "text/plain": [
              "array([[1., 0., 0., 0.],\n",
              "       [1., 0., 0., 0.],\n",
              "       [1., 0., 0., 0.],\n",
              "       ...,\n",
              "       [0., 0., 0., 1.],\n",
              "       [0., 0., 0., 1.],\n",
              "       [0., 0., 0., 1.]])"
            ]
          },
          "metadata": {
            "tags": []
          },
          "execution_count": 160
        }
      ]
    },
    {
      "cell_type": "code",
      "metadata": {
        "id": "gYf3q6TJJ1LX",
        "colab_type": "code",
        "colab": {
          "base_uri": "https://localhost:8080/",
          "height": 34
        },
        "outputId": "74ea9e05-1dcb-406c-9e91-71bd05e27855"
      },
      "source": [
        "input_data_output_dict.shape"
      ],
      "execution_count": null,
      "outputs": [
        {
          "output_type": "execute_result",
          "data": {
            "text/plain": [
              "(30796, 199, 12)"
            ]
          },
          "metadata": {
            "tags": []
          },
          "execution_count": 162
        }
      ]
    },
    {
      "cell_type": "code",
      "metadata": {
        "id": "UyWuJs5YKQQs",
        "colab_type": "code",
        "colab": {}
      },
      "source": [
        "X_train_reshaped = input_data_output_dict.reshape(input_data_output_dict.shape[0],199,12,1)\n"
      ],
      "execution_count": null,
      "outputs": []
    },
    {
      "cell_type": "code",
      "metadata": {
        "id": "uDOWF9WRK6fL",
        "colab_type": "code",
        "colab": {
          "base_uri": "https://localhost:8080/",
          "height": 51
        },
        "outputId": "1c18e2a9-164f-40a9-906d-6180d3975353"
      },
      "source": [
        "print(X_train_reshaped.shape)\n",
        "print(tarModified.shape)"
      ],
      "execution_count": null,
      "outputs": [
        {
          "output_type": "stream",
          "text": [
            "(30796, 199, 12, 1)\n",
            "(30796, 4)\n"
          ],
          "name": "stdout"
        }
      ]
    },
    {
      "cell_type": "markdown",
      "metadata": {
        "id": "n96UOKz-Lrjw",
        "colab_type": "text"
      },
      "source": [
        "Preparing the Test Data"
      ]
    },
    {
      "cell_type": "code",
      "metadata": {
        "id": "Ppx_hvZiMrwc",
        "colab_type": "code",
        "colab": {}
      },
      "source": [
        ""
      ],
      "execution_count": null,
      "outputs": []
    },
    {
      "cell_type": "code",
      "metadata": {
        "colab_type": "code",
        "id": "YiacAug-MsFN",
        "colab": {}
      },
      "source": [
        "#mode:- 'Train' or 'Test'\n",
        "def final_test_data(input_data,mode):\n",
        "  data_dic = np.zeros((7342,199,12))\n",
        "  data_tar = np.zeros((7342))\n",
        "  index = 0\n",
        "  for filename in input_data:\n",
        "    val = int(input_data[filename])-1\n",
        "    folder_name = languages_list[val]\n",
        "    subfolder_name = folder_name+'_'+mode+'/'\n",
        "    rate,signal = wav.read('/content/Languages/'+folder_name+'/'+subfolder_name+filename)\n",
        "    i=0\n",
        "    while((i+2)*rate<len(signal)+1):\n",
        "      sig_t = signal[i*rate:(i+2)*rate]  \n",
        "      data_dic[index]=mfcc(sig_t,samplerate=rate,winlen=frame_size,winstep=frame_stride,\n",
        "                          numcep=num_ceps,nfft=NFFT,preemph=pre_emphasis,ceplifter=cep_lifter,\n",
        "                          winfunc=np.hamming)\n",
        "    #data_dic.append(mfcc_out)\n",
        "      data_tar[index] = int(input_data[filename])\n",
        "      index+=1\n",
        "      i+=2\n",
        "  return data_dic,data_tar\n",
        "\n"
      ],
      "execution_count": null,
      "outputs": []
    },
    {
      "cell_type": "code",
      "metadata": {
        "id": "HrdoNSfeK8tU",
        "colab_type": "code",
        "colab": {}
      },
      "source": [
        "test_data_output_dict,test_data_output_tar = final_test_data(testing_dictionary,'Test')"
      ],
      "execution_count": null,
      "outputs": []
    },
    {
      "cell_type": "code",
      "metadata": {
        "id": "7Pc7ouynMJbL",
        "colab_type": "code",
        "colab": {
          "base_uri": "https://localhost:8080/",
          "height": 51
        },
        "outputId": "21de41e7-4729-4fc2-a04b-a48a62ebfecb"
      },
      "source": [
        "print(test_data_output_dict.shape)\n",
        "print(test_data_output_tar.shape)"
      ],
      "execution_count": null,
      "outputs": [
        {
          "output_type": "stream",
          "text": [
            "(7342, 199, 12)\n",
            "(7342,)\n"
          ],
          "name": "stdout"
        }
      ]
    },
    {
      "cell_type": "code",
      "metadata": {
        "id": "hsDpoEvOMfNv",
        "colab_type": "code",
        "colab": {
          "base_uri": "https://localhost:8080/",
          "height": 34
        },
        "outputId": "651b6650-e66b-47fb-e9d3-106ff3460bbf"
      },
      "source": [
        "X_test_reshaped = test_data_output_dict.reshape(test_data_output_dict.shape[0],199,12,1)\n",
        "print(X_test_reshaped.shape)"
      ],
      "execution_count": null,
      "outputs": [
        {
          "output_type": "stream",
          "text": [
            "(7342, 199, 12, 1)\n"
          ],
          "name": "stdout"
        }
      ]
    },
    {
      "cell_type": "code",
      "metadata": {
        "id": "UFV8FOXUOvVv",
        "colab_type": "code",
        "colab": {}
      },
      "source": [
        "test_tarModified = np.zeros((7342,4))\n",
        "iter = 0\n",
        "for i in test_data_output_tar:\n",
        "  index = int(i)\n",
        "  test_tarModified[iter][index-1] = 1\n",
        "  iter += 1"
      ],
      "execution_count": null,
      "outputs": []
    },
    {
      "cell_type": "code",
      "metadata": {
        "id": "jLBfXDDsPfxd",
        "colab_type": "code",
        "colab": {
          "base_uri": "https://localhost:8080/",
          "height": 34
        },
        "outputId": "e516c414-e27a-459f-a6ff-5df4c872981f"
      },
      "source": [
        "print(test_tarModified.shape)"
      ],
      "execution_count": null,
      "outputs": [
        {
          "output_type": "stream",
          "text": [
            "(7342, 4)\n"
          ],
          "name": "stdout"
        }
      ]
    },
    {
      "cell_type": "markdown",
      "metadata": {
        "id": "1PdCOo8CPr4I",
        "colab_type": "text"
      },
      "source": [
        "Dimensions of Training and Testing"
      ]
    },
    {
      "cell_type": "code",
      "metadata": {
        "id": "_58EVFvjPn0z",
        "colab_type": "code",
        "colab": {
          "base_uri": "https://localhost:8080/",
          "height": 85
        },
        "outputId": "3cb4ba90-659f-4b2d-f496-f0ea3b63ed20"
      },
      "source": [
        "print(X_train_reshaped.shape)\n",
        "print(tarModified.shape)\n",
        "print(X_test_reshaped.shape)\n",
        "print(test_tarModified.shape)"
      ],
      "execution_count": null,
      "outputs": [
        {
          "output_type": "stream",
          "text": [
            "(30796, 199, 12, 1)\n",
            "(30796, 4)\n",
            "(7342, 199, 12, 1)\n",
            "(7342, 4)\n"
          ],
          "name": "stdout"
        }
      ]
    },
    {
      "cell_type": "markdown",
      "metadata": {
        "id": "M3qFe6vvQN5r",
        "colab_type": "text"
      },
      "source": [
        "Training "
      ]
    },
    {
      "cell_type": "code",
      "metadata": {
        "id": "0M3qmQhyP-5_",
        "colab_type": "code",
        "colab": {}
      },
      "source": [
        "from keras.layers import Convolution2D, MaxPooling2D\n",
        "from keras.layers.convolutional import Conv2D\n",
        "from keras.optimizers import Adam\n",
        "from keras import applications\n",
        "from keras.layers import Dense, Dropout, Activation, Flatten, Add, BatchNormalization,AveragePooling2D\n",
        "from keras.layers import GlobalAveragePooling2D,Dropout,Dense\n",
        "from keras.models import Model,Sequential\n"
      ],
      "execution_count": null,
      "outputs": []
    },
    {
      "cell_type": "code",
      "metadata": {
        "id": "SOjjscISQQqj",
        "colab_type": "code",
        "colab": {}
      },
      "source": [
        "model = Sequential()\n",
        "model.add(Conv2D(100,kernel_size=(3, 3),activation='relu',input_shape=(199,12,1)))\n",
        "model.add(Dropout(0.25))\n",
        "model.add(Dense(50, activation='relu'))\n",
        "model.add(Dense(25,activation='relu'))\n",
        "model.add(Dense(15,activation='relu'))\n",
        "model.add(Dense(10,activation='relu'))\n",
        "model.add(Flatten())\n",
        "model.add(Dense(4,activation='softmax'))\n",
        "adam=Adam(lr=0.0001)\n",
        "model.compile(optimizer=adam,loss='categorical_crossentropy',metrics=['accuracy'])"
      ],
      "execution_count": null,
      "outputs": []
    },
    {
      "cell_type": "code",
      "metadata": {
        "id": "AJlEZYnmQRcm",
        "colab_type": "code",
        "colab": {
          "base_uri": "https://localhost:8080/",
          "height": 751
        },
        "outputId": "762007f7-8103-4b28-8355-d75cbdc53398"
      },
      "source": [
        "model.fit(X_train_reshaped,tarModified,epochs=20,validation_data=(X_test_reshaped,test_tarModified))\n"
      ],
      "execution_count": null,
      "outputs": [
        {
          "output_type": "stream",
          "text": [
            "Train on 30796 samples, validate on 7342 samples\n",
            "Epoch 1/20\n",
            "30796/30796 [==============================] - 202s 7ms/step - loss: 1.1524 - accuracy: 0.4949 - val_loss: 1.0964 - val_accuracy: 0.5215\n",
            "Epoch 2/20\n",
            "30796/30796 [==============================] - 203s 7ms/step - loss: 0.8523 - accuracy: 0.6506 - val_loss: 1.3083 - val_accuracy: 0.4691\n",
            "Epoch 3/20\n",
            "30796/30796 [==============================] - 200s 7ms/step - loss: 0.7396 - accuracy: 0.6947 - val_loss: 1.3630 - val_accuracy: 0.4580\n",
            "Epoch 4/20\n",
            "30796/30796 [==============================] - 200s 7ms/step - loss: 0.6813 - accuracy: 0.7240 - val_loss: 1.4607 - val_accuracy: 0.4645\n",
            "Epoch 5/20\n",
            "30796/30796 [==============================] - 200s 6ms/step - loss: 0.6375 - accuracy: 0.7402 - val_loss: 1.6551 - val_accuracy: 0.4378\n",
            "Epoch 6/20\n",
            "30796/30796 [==============================] - 199s 6ms/step - loss: 0.6072 - accuracy: 0.7530 - val_loss: 1.4562 - val_accuracy: 0.4875\n",
            "Epoch 7/20\n",
            "30796/30796 [==============================] - 198s 6ms/step - loss: 0.5770 - accuracy: 0.7649 - val_loss: 1.4526 - val_accuracy: 0.4958\n",
            "Epoch 8/20\n",
            "30796/30796 [==============================] - 199s 6ms/step - loss: 0.5516 - accuracy: 0.7771 - val_loss: 1.5753 - val_accuracy: 0.4615\n",
            "Epoch 9/20\n",
            "30796/30796 [==============================] - 199s 6ms/step - loss: 0.5299 - accuracy: 0.7858 - val_loss: 1.4654 - val_accuracy: 0.4989\n",
            "Epoch 10/20\n",
            "30796/30796 [==============================] - 199s 6ms/step - loss: 0.5102 - accuracy: 0.7958 - val_loss: 1.6362 - val_accuracy: 0.4662\n",
            "Epoch 11/20\n",
            "30796/30796 [==============================] - 198s 6ms/step - loss: 0.4915 - accuracy: 0.8009 - val_loss: 1.5780 - val_accuracy: 0.4887\n",
            "Epoch 12/20\n",
            "30796/30796 [==============================] - 197s 6ms/step - loss: 0.4724 - accuracy: 0.8093 - val_loss: 1.6473 - val_accuracy: 0.4766\n",
            "Epoch 13/20\n",
            "30796/30796 [==============================] - 197s 6ms/step - loss: 0.4579 - accuracy: 0.8158 - val_loss: 1.5677 - val_accuracy: 0.5053\n",
            "Epoch 14/20\n",
            "30796/30796 [==============================] - 198s 6ms/step - loss: 0.4397 - accuracy: 0.8235 - val_loss: 1.7266 - val_accuracy: 0.4847\n",
            "Epoch 15/20\n",
            "30796/30796 [==============================] - 197s 6ms/step - loss: 0.4252 - accuracy: 0.8313 - val_loss: 1.8147 - val_accuracy: 0.4760\n",
            "Epoch 16/20\n",
            "30796/30796 [==============================] - 197s 6ms/step - loss: 0.4096 - accuracy: 0.8374 - val_loss: 1.8742 - val_accuracy: 0.4728\n",
            "Epoch 17/20\n",
            "30796/30796 [==============================] - 197s 6ms/step - loss: 0.3960 - accuracy: 0.8435 - val_loss: 1.8452 - val_accuracy: 0.4768\n",
            "Epoch 18/20\n",
            "30796/30796 [==============================] - 196s 6ms/step - loss: 0.3802 - accuracy: 0.8485 - val_loss: 1.8374 - val_accuracy: 0.4764\n",
            "Epoch 19/20\n",
            "30796/30796 [==============================] - 195s 6ms/step - loss: 0.3665 - accuracy: 0.8523 - val_loss: 1.8633 - val_accuracy: 0.4847\n",
            "Epoch 20/20\n",
            "30796/30796 [==============================] - 196s 6ms/step - loss: 0.3520 - accuracy: 0.8615 - val_loss: 1.9766 - val_accuracy: 0.4828\n"
          ],
          "name": "stdout"
        },
        {
          "output_type": "execute_result",
          "data": {
            "text/plain": [
              "<keras.callbacks.callbacks.History at 0x7f4808289be0>"
            ]
          },
          "metadata": {
            "tags": []
          },
          "execution_count": 188
        }
      ]
    },
    {
      "cell_type": "code",
      "metadata": {
        "id": "93SWiKy6Rc7u",
        "colab_type": "code",
        "colab": {}
      },
      "source": [
        ""
      ],
      "execution_count": null,
      "outputs": []
    }
  ]
}