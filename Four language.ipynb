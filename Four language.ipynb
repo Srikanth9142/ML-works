{
  "nbformat": 4,
  "nbformat_minor": 0,
  "metadata": {
    "colab": {
      "name": "Untitled",
      "provenance": [],
      "collapsed_sections": [],
      "toc_visible": true,
      "authorship_tag": "ABX9TyOjHBPwCeRokCk7Bn4kc9fw",
      "include_colab_link": true
    },
    "kernelspec": {
      "name": "python3",
      "display_name": "Python 3"
    }
  },
  "cells": [
    {
      "cell_type": "markdown",
      "metadata": {
        "id": "view-in-github",
        "colab_type": "text"
      },
      "source": [
        "<a href=\"https://colab.research.google.com/github/Srikanth9142/ML-works/blob/master/Four%20language.ipynb\" target=\"_parent\"><img src=\"https://colab.research.google.com/assets/colab-badge.svg\" alt=\"Open In Colab\"/></a>"
      ]
    },
    {
      "cell_type": "code",
      "metadata": {
        "id": "aaptaagfu_yc",
        "colab_type": "code",
        "colab": {
          "base_uri": "https://localhost:8080/",
          "height": 122
        },
        "outputId": "75098aa1-291e-416d-b647-0de68b809eab"
      },
      "source": [
        "from google.colab import drive\n",
        "drive.mount('/content/drive',force_remount=True)\n"
      ],
      "execution_count": 1,
      "outputs": [
        {
          "output_type": "stream",
          "text": [
            "Go to this URL in a browser: https://accounts.google.com/o/oauth2/auth?client_id=947318989803-6bn6qk8qdgf4n4g3pfee6491hc0brc4i.apps.googleusercontent.com&redirect_uri=urn%3aietf%3awg%3aoauth%3a2.0%3aoob&response_type=code&scope=email%20https%3a%2f%2fwww.googleapis.com%2fauth%2fdocs.test%20https%3a%2f%2fwww.googleapis.com%2fauth%2fdrive%20https%3a%2f%2fwww.googleapis.com%2fauth%2fdrive.photos.readonly%20https%3a%2f%2fwww.googleapis.com%2fauth%2fpeopleapi.readonly\n",
            "\n",
            "Enter your authorization code:\n",
            "··········\n",
            "Mounted at /content/drive\n"
          ],
          "name": "stdout"
        }
      ]
    },
    {
      "cell_type": "code",
      "metadata": {
        "id": "hhDMZiAJyH6S",
        "colab_type": "code",
        "colab": {}
      },
      "source": [
        "#not working\n",
        "!unzip -uq 'drive/My Drive/copyclassifiers/Languages.zip' -d 'drive/My Drive/copyclassifiers/Dataset' "
      ],
      "execution_count": null,
      "outputs": []
    },
    {
      "cell_type": "code",
      "metadata": {
        "id": "wGCeHQnZyrC8",
        "colab_type": "code",
        "colab": {
          "base_uri": "https://localhost:8080/",
          "height": 34
        },
        "outputId": "5b30363e-4a4d-4652-94a4-f389badfa221"
      },
      "source": [
        "!unzip -q 'drive/My Drive/copyclassifiers/Languages.zip'\n",
        "%ls"
      ],
      "execution_count": null,
      "outputs": [
        {
          "output_type": "stream",
          "text": [
            "\u001b[0m\u001b[01;34mdrive\u001b[0m/  \u001b[01;34mLanguages\u001b[0m/  \u001b[01;34msample_data\u001b[0m/\n"
          ],
          "name": "stdout"
        }
      ]
    },
    {
      "cell_type": "code",
      "metadata": {
        "id": "iM27IWc-sX1c",
        "colab_type": "code",
        "colab": {
          "base_uri": "https://localhost:8080/",
          "height": 35
        },
        "outputId": "0c63fcfd-d7ae-48d2-ba9b-2e487e0fd373"
      },
      "source": [
        "pwd"
      ],
      "execution_count": null,
      "outputs": [
        {
          "output_type": "execute_result",
          "data": {
            "application/vnd.google.colaboratory.intrinsic+json": {
              "type": "string"
            },
            "text/plain": [
              "'/content/Languages'"
            ]
          },
          "metadata": {
            "tags": []
          },
          "execution_count": 94
        }
      ]
    },
    {
      "cell_type": "code",
      "metadata": {
        "id": "xIpUQ13e2chd",
        "colab_type": "code",
        "colab": {
          "base_uri": "https://localhost:8080/",
          "height": 51
        },
        "outputId": "e90d6f4b-7e10-4b83-8400-31130045c27e"
      },
      "source": [
        "cd Languages/"
      ],
      "execution_count": null,
      "outputs": [
        {
          "output_type": "stream",
          "text": [
            "[Errno 2] No such file or directory: 'Languages/'\n",
            "/content/Languages\n"
          ],
          "name": "stdout"
        }
      ]
    },
    {
      "cell_type": "code",
      "metadata": {
        "id": "N8dyh2Im2ypP",
        "colab_type": "code",
        "colab": {
          "base_uri": "https://localhost:8080/",
          "height": 190
        },
        "outputId": "4a427b56-0a0c-4725-db12-261363b615ee"
      },
      "source": [
        "!pip install python_speech_features"
      ],
      "execution_count": null,
      "outputs": [
        {
          "output_type": "stream",
          "text": [
            "Collecting python_speech_features\n",
            "  Downloading https://files.pythonhosted.org/packages/ff/d1/94c59e20a2631985fbd2124c45177abaa9e0a4eee8ba8a305aa26fc02a8e/python_speech_features-0.6.tar.gz\n",
            "Building wheels for collected packages: python-speech-features\n",
            "  Building wheel for python-speech-features (setup.py) ... \u001b[?25l\u001b[?25hdone\n",
            "  Created wheel for python-speech-features: filename=python_speech_features-0.6-cp36-none-any.whl size=5887 sha256=dcc12276b3e1d8491c8f5046598bc17c3527d070c79c59d95c82b98170dcfd1a\n",
            "  Stored in directory: /root/.cache/pip/wheels/3c/42/7c/f60e9d1b40015cd69b213ad90f7c18a9264cd745b9888134be\n",
            "Successfully built python-speech-features\n",
            "Installing collected packages: python-speech-features\n",
            "Successfully installed python-speech-features-0.6\n"
          ],
          "name": "stdout"
        }
      ]
    },
    {
      "cell_type": "markdown",
      "metadata": {
        "id": "5i-9NFC13LnJ",
        "colab_type": "text"
      },
      "source": [
        "Imports"
      ]
    },
    {
      "cell_type": "code",
      "metadata": {
        "id": "GE3JzywQ3EAM",
        "colab_type": "code",
        "colab": {}
      },
      "source": [
        "from python_speech_features import mfcc,delta,logfbank\n",
        "import numpy\n",
        "import scipy.io.wavfile\n",
        "import matplotlib.pyplot as plt\n",
        "import matplotlib.cm as cm\n",
        "import numpy as np\n",
        "import wave\n",
        "import contextlib\n",
        "from scipy.fftpack import dct\n",
        "import scipy.io.wavfile as wav\n",
        "import os\n",
        "import csv"
      ],
      "execution_count": null,
      "outputs": []
    },
    {
      "cell_type": "markdown",
      "metadata": {
        "id": "O-Sa-mUe4MXe",
        "colab_type": "text"
      },
      "source": [
        "some constants\n"
      ]
    },
    {
      "cell_type": "code",
      "metadata": {
        "id": "iiFS-3C-3M_4",
        "colab_type": "code",
        "colab": {}
      },
      "source": [
        "pre_emphasis = 0.97\n",
        "frame_size = 0.025\n",
        "frame_stride = 0.01\n",
        "NFFT = 512\n",
        "nfilt = 40\n",
        "num_ceps = 12\n",
        "cep_lifter =22"
      ],
      "execution_count": null,
      "outputs": []
    },
    {
      "cell_type": "markdown",
      "metadata": {
        "id": "yaKBrhzN4UB4",
        "colab_type": "text"
      },
      "source": [
        "This fn returns the length of audio clip passed to it"
      ]
    },
    {
      "cell_type": "code",
      "metadata": {
        "id": "H8p_8FLM4QND",
        "colab_type": "code",
        "colab": {}
      },
      "source": [
        "def length_audio(folder_name,file_name):\n",
        "  file_path='/content/Languages/'+str(folder_name)+'/'+str(folder_name)+'_Train/'+str(filename)\n",
        "  sample_rate, signal = scipy.io.wavfile.read(file_path)\n",
        "  with contextlib.closing(wave.open(file_path,'r')) as f:\n",
        "      frames = f.getnframes()\n",
        "      rate = f.getframerate()\n",
        "      duration = frames / float(rate)\n",
        "  return int(duration)"
      ],
      "execution_count": null,
      "outputs": []
    },
    {
      "cell_type": "code",
      "metadata": {
        "id": "8d0dVNKr41R7",
        "colab_type": "code",
        "colab": {}
      },
      "source": [
        "telugu_train_list = os.listdir('/content/Languages/Telugu/Telugu_Train')\n",
        "bengali_train_list = os.listdir('/content/Languages/Bengali/Bengali_Train')\n",
        "gujarathi_train_list = os.listdir('/content/Languages/Gujarathi/Gujarathi_Train')\n",
        "tamil_train_list = os.listdir('/content/Languages/Tamil/Tamil_Train')\n"
      ],
      "execution_count": null,
      "outputs": []
    },
    {
      "cell_type": "markdown",
      "metadata": {
        "id": "c23PwZDt7Qvf",
        "colab_type": "text"
      },
      "source": [
        "Checking Number of files in Each Language (Training)"
      ]
    },
    {
      "cell_type": "code",
      "metadata": {
        "id": "cEaiMqL66JMV",
        "colab_type": "code",
        "colab": {
          "base_uri": "https://localhost:8080/",
          "height": 85
        },
        "outputId": "3f1b39e2-b91f-4a37-eb60-829d076430ae"
      },
      "source": [
        "print(\"Telugu: \"+str(len(telugu_train_list))+\" Audios\")\n",
        "print(\"Bengali: \"+str(len(bengali_train_list))+\" Audios\")\n",
        "print(\"Gujarathi: \"+str(len(gujarathi_train_list))+\" Audios\")\n",
        "print(\"Tamil: \"+str(len(tamil_train_list))+\" Audios\")"
      ],
      "execution_count": null,
      "outputs": [
        {
          "output_type": "stream",
          "text": [
            "Telugu: 3600 Audios\n",
            "Bengali: 2700 Audios\n",
            "Gujarathi: 3472 Audios\n",
            "Tamil: 3500 Audios\n"
          ],
          "name": "stdout"
        }
      ]
    },
    {
      "cell_type": "code",
      "metadata": {
        "id": "lWVA5jdeFluI",
        "colab_type": "code",
        "colab": {}
      },
      "source": [
        "telugu_test_list = os.listdir('/content/Languages/Telugu/Telugu_Test')\n",
        "bengali_test_list = os.listdir('/content/Languages/Bengali/Bengali_Test')\n",
        "gujarathi_test_list = os.listdir('/content/Languages/Gujarathi/Gujarathi_Test')\n",
        "tamil_test_list = os.listdir('/content/Languages/Tamil/Tamil_Test')\n"
      ],
      "execution_count": null,
      "outputs": []
    },
    {
      "cell_type": "markdown",
      "metadata": {
        "id": "k8WA3jCXL6nl",
        "colab_type": "text"
      },
      "source": [
        "Checking Number of files in Each Language(Test)"
      ]
    },
    {
      "cell_type": "code",
      "metadata": {
        "id": "OVji_92XL3on",
        "colab_type": "code",
        "colab": {
          "base_uri": "https://localhost:8080/",
          "height": 85
        },
        "outputId": "af90a00a-5ec1-4b69-9213-da51f3fef29c"
      },
      "source": [
        "print(\"Telugu: \"+str(len(telugu_test_list))+\" Audios\")\n",
        "print(\"Bengali: \"+str(len(bengali_test_list))+\" Audios\")\n",
        "print(\"Gujarathi: \"+str(len(gujarathi_test_list))+\" Audios\")\n",
        "print(\"Tamil: \"+str(len(tamil_test_list))+\" Audios\")"
      ],
      "execution_count": null,
      "outputs": [
        {
          "output_type": "stream",
          "text": [
            "Telugu: 848 Audios\n",
            "Bengali: 557 Audios\n",
            "Gujarathi: 800 Audios\n",
            "Tamil: 791 Audios\n"
          ],
          "name": "stdout"
        }
      ]
    },
    {
      "cell_type": "markdown",
      "metadata": {
        "id": "xO4b-l8HRxkg",
        "colab_type": "text"
      },
      "source": [
        "Load the training.csv as training_dictionary"
      ]
    },
    {
      "cell_type": "code",
      "metadata": {
        "id": "J6U7NMliMHRc",
        "colab_type": "code",
        "colab": {}
      },
      "source": [
        "training_dictionary = {}\n",
        "reader = csv.reader(open('/content/drive/My Drive/copyclassifiers/training.csv','r'))\n",
        "for k,v in reader:\n",
        "  training_dictionary[k]=v\n",
        "del training_dictionary['language']"
      ],
      "execution_count": null,
      "outputs": []
    },
    {
      "cell_type": "markdown",
      "metadata": {
        "id": "pLg57ZG3S1pO",
        "colab_type": "text"
      },
      "source": [
        "Load the testing.csv as testing_dictionary"
      ]
    },
    {
      "cell_type": "code",
      "metadata": {
        "id": "kvYEFG91Stjk",
        "colab_type": "code",
        "colab": {}
      },
      "source": [
        "testing_dictionary = {}\n",
        "reader = csv.reader(open('/content/drive/My Drive/copyclassifiers/testing.csv','r'))\n",
        "for k,v in reader:\n",
        "  testing_dictionary[k]=v\n",
        "del testing_dictionary['language']"
      ],
      "execution_count": null,
      "outputs": []
    },
    {
      "cell_type": "markdown",
      "metadata": {
        "id": "ngtIs4wDTN1P",
        "colab_type": "text"
      },
      "source": [
        "checking length of the audio\n",
        "### Data Observation"
      ]
    },
    {
      "cell_type": "code",
      "metadata": {
        "id": "lX9Za1NJTJFP",
        "colab_type": "code",
        "colab": {
          "base_uri": "https://localhost:8080/",
          "height": 102
        },
        "outputId": "8c9e493e-d4e7-49b6-dc81-a2e52a367db1"
      },
      "source": [
        "greater_count = 0\n",
        "lesser_count = 0\n",
        "equal_count = 0\n",
        "min_length=100\n",
        "max_length=0\n",
        "less_list=[]\n",
        "maxi_audio=''\n",
        "mini_audio=''\n",
        "three_sec_audio=[]\n",
        "two_sec_audio=[]\n",
        "languages_list = ['Telugu','Bengali','Gujarathi','Tamil']\n",
        "language_contents = [3600,2700,3472,3500]\n",
        "for i in range(len(languages_list)):\n",
        "  for j in range(1,language_contents[i]+1):\n",
        "    filename = languages_list[i]+str(j)+'.wav'\n",
        "    audio_length = length_audio(languages_list[i],filename)\n",
        "    if(audio_length<min_length):\n",
        "      min_length=audio_length\n",
        "      mini_audio=filename\n",
        "    if(audio_length>max_length):\n",
        "      max_length=audio_length\n",
        "      maxi_audio = filename\n",
        "    if(audio_length>2):\n",
        "      greater_count+=1\n",
        "      if(audio_length==3):\n",
        "        three_sec_audio.append(filename)\n",
        "    elif(audio_length<2):\n",
        "      lesser_count+=1\n",
        "      less_list.append(filename)\n",
        "    else:\n",
        "      equal_count+=1\n",
        "      two_sec_audio.append(filename)\n",
        "\n",
        "print(\"Files More than 2 sec: \"+str(greater_count))\n",
        "print(\"Files Less than 2 sec: \"+str(lesser_count))\n",
        "print(\"Files Equal to 2 sec: \"+str(equal_count))\n",
        "print(\"Minimum: \"+str(mini_audio)+' '+str(min_length)+' sec')\n",
        "print(\"Maximum: \"+str(maxi_audio)+' '+str(max_length)+' sec ')\n"
      ],
      "execution_count": null,
      "outputs": [
        {
          "output_type": "stream",
          "text": [
            "Files More than 2 sec: 12309\n",
            "Files Less than 2 sec: 53\n",
            "Files Equal to 2 sec: 910\n",
            "Minimum: Telugu516.wav 1 sec\n",
            "Maximum: Gujarathi1026.wav 20 sec \n"
          ],
          "name": "stdout"
        }
      ]
    },
    {
      "cell_type": "code",
      "metadata": {
        "id": "4nfeWHVjE7_K",
        "colab_type": "code",
        "colab": {}
      },
      "source": [
        "#mode:- 'Train' or 'Test'\n",
        "def final_data(input_data,mode):\n",
        "  data_dic = np.zeros((30796,199,12))\n",
        "  data_tar = np.zeros((30796))\n",
        "  index = 0\n",
        "  for filename in input_data:\n",
        "    val = int(input_data[filename])-1\n",
        "    folder_name = languages_list[val]\n",
        "    subfolder_name = folder_name+'_'+mode+'/'\n",
        "    rate,signal = wav.read('/content/Languages/'+folder_name+'/'+subfolder_name+filename)\n",
        "    i=0\n",
        "    while((i+2)*rate<len(signal)+1):\n",
        "      sig_t = signal[i*rate:(i+2)*rate]  \n",
        "      data_dic[index]=(mfcc(sig_t,samplerate=rate,winlen=frame_size,winstep=frame_stride,\n",
        "                          numcep=num_ceps,nfft=NFFT,preemph=pre_emphasis,ceplifter=cep_lifter,\n",
        "                          winfunc=np.hamming))\n",
        "    #data_dic.append(mfcc_out)\n",
        "      data_tar[index]=int(input_data[filename])\n",
        "      index+=1\n",
        "      i+=2\n",
        "  return data_dic,data_tar\n",
        "\n"
      ],
      "execution_count": null,
      "outputs": []
    },
    {
      "cell_type": "code",
      "metadata": {
        "id": "HBrb6afnEJFZ",
        "colab_type": "code",
        "colab": {}
      },
      "source": [
        "input_data_output_dict,input_data_output_tar=final_data(training_dictionary,'Train')"
      ],
      "execution_count": null,
      "outputs": []
    },
    {
      "cell_type": "markdown",
      "metadata": {
        "id": "GXNT19PIIPnf",
        "colab_type": "text"
      },
      "source": [
        "Checking the type of the Data"
      ]
    },
    {
      "cell_type": "code",
      "metadata": {
        "id": "AJGobZR6LrDC",
        "colab_type": "code",
        "colab": {
          "base_uri": "https://localhost:8080/",
          "height": 34
        },
        "outputId": "caecf843-1cdd-4fe9-efcc-809aa3474e18"
      },
      "source": [
        "type(input_data_output_dict)\n",
        "type(input_data_output_tar)"
      ],
      "execution_count": null,
      "outputs": [
        {
          "output_type": "execute_result",
          "data": {
            "text/plain": [
              "numpy.ndarray"
            ]
          },
          "metadata": {
            "tags": []
          },
          "execution_count": 158
        }
      ]
    },
    {
      "cell_type": "markdown",
      "metadata": {
        "id": "P-JhpOa9JIuH",
        "colab_type": "text"
      },
      "source": [
        "We interested as 1 0 0 0 for telugu\n",
        "                 0 1 0 0 for Bengali\n",
        "                 0 0 1 0 for Gujarathi\n",
        "                 0 0 0 1 for Tamil"
      ]
    },
    {
      "cell_type": "code",
      "metadata": {
        "id": "5ZG7sc5o4snH",
        "colab_type": "code",
        "colab": {}
      },
      "source": [
        "tarModified = np.zeros((30796,4))\n",
        "iter = 0\n",
        "for i in input_data_output_tar:\n",
        "  index = int(i)\n",
        "  tarModified[iter][index-1] = 1\n",
        "  iter += 1"
      ],
      "execution_count": null,
      "outputs": []
    },
    {
      "cell_type": "code",
      "metadata": {
        "id": "VZJUDQGaJzTb",
        "colab_type": "code",
        "colab": {
          "base_uri": "https://localhost:8080/",
          "height": 136
        },
        "outputId": "fae48a17-5717-4eef-994c-41a0cd97b86d"
      },
      "source": [
        "tarModified"
      ],
      "execution_count": null,
      "outputs": [
        {
          "output_type": "execute_result",
          "data": {
            "text/plain": [
              "array([[1., 0., 0., 0.],\n",
              "       [1., 0., 0., 0.],\n",
              "       [1., 0., 0., 0.],\n",
              "       ...,\n",
              "       [0., 0., 0., 1.],\n",
              "       [0., 0., 0., 1.],\n",
              "       [0., 0., 0., 1.]])"
            ]
          },
          "metadata": {
            "tags": []
          },
          "execution_count": 160
        }
      ]
    },
    {
      "cell_type": "code",
      "metadata": {
        "id": "gYf3q6TJJ1LX",
        "colab_type": "code",
        "colab": {
          "base_uri": "https://localhost:8080/",
          "height": 34
        },
        "outputId": "74ea9e05-1dcb-406c-9e91-71bd05e27855"
      },
      "source": [
        "input_data_output_dict.shape"
      ],
      "execution_count": null,
      "outputs": [
        {
          "output_type": "execute_result",
          "data": {
            "text/plain": [
              "(30796, 199, 12)"
            ]
          },
          "metadata": {
            "tags": []
          },
          "execution_count": 162
        }
      ]
    },
    {
      "cell_type": "code",
      "metadata": {
        "id": "UyWuJs5YKQQs",
        "colab_type": "code",
        "colab": {}
      },
      "source": [
        "X_train_reshaped = input_data_output_dict.reshape(input_data_output_dict.shape[0],199,12,1)\n"
      ],
      "execution_count": null,
      "outputs": []
    },
    {
      "cell_type": "code",
      "metadata": {
        "id": "uDOWF9WRK6fL",
        "colab_type": "code",
        "colab": {
          "base_uri": "https://localhost:8080/",
          "height": 51
        },
        "outputId": "1c18e2a9-164f-40a9-906d-6180d3975353"
      },
      "source": [
        "print(X_train_reshaped.shape)\n",
        "print(tarModified.shape)"
      ],
      "execution_count": null,
      "outputs": [
        {
          "output_type": "stream",
          "text": [
            "(30796, 199, 12, 1)\n",
            "(30796, 4)\n"
          ],
          "name": "stdout"
        }
      ]
    },
    {
      "cell_type": "markdown",
      "metadata": {
        "id": "n96UOKz-Lrjw",
        "colab_type": "text"
      },
      "source": [
        "Preparing the Test Data"
      ]
    },
    {
      "cell_type": "code",
      "metadata": {
        "id": "Ppx_hvZiMrwc",
        "colab_type": "code",
        "colab": {}
      },
      "source": [
        ""
      ],
      "execution_count": null,
      "outputs": []
    },
    {
      "cell_type": "code",
      "metadata": {
        "colab_type": "code",
        "id": "YiacAug-MsFN",
        "colab": {}
      },
      "source": [
        "#mode:- 'Train' or 'Test'\n",
        "def final_test_data(input_data,mode):\n",
        "  data_dic = np.zeros((7342,199,12))\n",
        "  data_tar = np.zeros((7342))\n",
        "  index = 0\n",
        "  for filename in input_data:\n",
        "    val = int(input_data[filename])-1\n",
        "    folder_name = languages_list[val]\n",
        "    subfolder_name = folder_name+'_'+mode+'/'\n",
        "    rate,signal = wav.read('/content/Languages/'+folder_name+'/'+subfolder_name+filename)\n",
        "    i=0\n",
        "    while((i+2)*rate<len(signal)+1):\n",
        "      sig_t = signal[i*rate:(i+2)*rate]  \n",
        "      data_dic[index]=mfcc(sig_t,samplerate=rate,winlen=frame_size,winstep=frame_stride,\n",
        "                          numcep=num_ceps,nfft=NFFT,preemph=pre_emphasis,ceplifter=cep_lifter,\n",
        "                          winfunc=np.hamming)\n",
        "    #data_dic.append(mfcc_out)\n",
        "      data_tar[index] = int(input_data[filename])\n",
        "      index+=1\n",
        "      i+=2\n",
        "  return data_dic,data_tar\n",
        "\n"
      ],
      "execution_count": null,
      "outputs": []
    },
    {
      "cell_type": "code",
      "metadata": {
        "id": "HrdoNSfeK8tU",
        "colab_type": "code",
        "colab": {}
      },
      "source": [
        "test_data_output_dict,test_data_output_tar = final_test_data(testing_dictionary,'Test')"
      ],
      "execution_count": null,
      "outputs": []
    },
    {
      "cell_type": "code",
      "metadata": {
        "id": "7Pc7ouynMJbL",
        "colab_type": "code",
        "colab": {
          "base_uri": "https://localhost:8080/",
          "height": 51
        },
        "outputId": "21de41e7-4729-4fc2-a04b-a48a62ebfecb"
      },
      "source": [
        "print(test_data_output_dict.shape)\n",
        "print(test_data_output_tar.shape)"
      ],
      "execution_count": null,
      "outputs": [
        {
          "output_type": "stream",
          "text": [
            "(7342, 199, 12)\n",
            "(7342,)\n"
          ],
          "name": "stdout"
        }
      ]
    },
    {
      "cell_type": "code",
      "metadata": {
        "id": "hsDpoEvOMfNv",
        "colab_type": "code",
        "colab": {
          "base_uri": "https://localhost:8080/",
          "height": 34
        },
        "outputId": "651b6650-e66b-47fb-e9d3-106ff3460bbf"
      },
      "source": [
        "X_test_reshaped = test_data_output_dict.reshape(test_data_output_dict.shape[0],199,12,1)\n",
        "print(X_test_reshaped.shape)"
      ],
      "execution_count": null,
      "outputs": [
        {
          "output_type": "stream",
          "text": [
            "(7342, 199, 12, 1)\n"
          ],
          "name": "stdout"
        }
      ]
    },
    {
      "cell_type": "code",
      "metadata": {
        "id": "UFV8FOXUOvVv",
        "colab_type": "code",
        "colab": {}
      },
      "source": [
        "test_tarModified = np.zeros((7342,4))\n",
        "iter = 0\n",
        "for i in test_data_output_tar:\n",
        "  index = int(i)\n",
        "  test_tarModified[iter][index-1] = 1\n",
        "  iter += 1"
      ],
      "execution_count": null,
      "outputs": []
    },
    {
      "cell_type": "code",
      "metadata": {
        "id": "jLBfXDDsPfxd",
        "colab_type": "code",
        "colab": {
          "base_uri": "https://localhost:8080/",
          "height": 34
        },
        "outputId": "e516c414-e27a-459f-a6ff-5df4c872981f"
      },
      "source": [
        "print(test_tarModified.shape)"
      ],
      "execution_count": null,
      "outputs": [
        {
          "output_type": "stream",
          "text": [
            "(7342, 4)\n"
          ],
          "name": "stdout"
        }
      ]
    },
    {
      "cell_type": "markdown",
      "metadata": {
        "id": "1PdCOo8CPr4I",
        "colab_type": "text"
      },
      "source": [
        "Dimensions of Training and Testing"
      ]
    },
    {
      "cell_type": "code",
      "metadata": {
        "id": "_58EVFvjPn0z",
        "colab_type": "code",
        "colab": {
          "base_uri": "https://localhost:8080/",
          "height": 85
        },
        "outputId": "3cb4ba90-659f-4b2d-f496-f0ea3b63ed20"
      },
      "source": [
        "print(X_train_reshaped.shape)\n",
        "print(tarModified.shape)\n",
        "print(X_test_reshaped.shape)\n",
        "print(test_tarModified.shape)"
      ],
      "execution_count": null,
      "outputs": [
        {
          "output_type": "stream",
          "text": [
            "(30796, 199, 12, 1)\n",
            "(30796, 4)\n",
            "(7342, 199, 12, 1)\n",
            "(7342, 4)\n"
          ],
          "name": "stdout"
        }
      ]
    },
    {
      "cell_type": "markdown",
      "metadata": {
        "id": "M3qFe6vvQN5r",
        "colab_type": "text"
      },
      "source": [
        "Training "
      ]
    },
    {
      "cell_type": "code",
      "metadata": {
        "id": "0M3qmQhyP-5_",
        "colab_type": "code",
        "colab": {}
      },
      "source": [
        "from keras.layers import Convolution2D, MaxPooling2D\n",
        "from keras.layers.convolutional import Conv2D\n",
        "from keras.optimizers import Adam\n",
        "from keras import applications\n",
        "from keras.layers import Dense, Dropout, Activation, Flatten, Add, BatchNormalization,AveragePooling2D\n",
        "from keras.layers import GlobalAveragePooling2D,Dropout,Dense\n",
        "from keras.models import Model,Sequential\n"
      ],
      "execution_count": null,
      "outputs": []
    },
    {
      "cell_type": "code",
      "metadata": {
        "id": "SOjjscISQQqj",
        "colab_type": "code",
        "colab": {}
      },
      "source": [
        "model = Sequential()\n",
        "model.add(Conv2D(100,kernel_size=(3, 3),activation='relu',input_shape=(199,12,1)))\n",
        "model.add(Dropout(0.25))\n",
        "model.add(Dense(50, activation='relu'))\n",
        "model.add(Dense(25,activation='relu'))\n",
        "model.add(Dense(15,activation='relu'))\n",
        "model.add(Dense(10,activation='relu'))\n",
        "model.add(Flatten())\n",
        "model.add(Dense(4,activation='softmax'))\n",
        "adam=Adam(lr=0.0001)\n",
        "model.compile(optimizer=adam,loss='categorical_crossentropy',metrics=['accuracy'])"
      ],
      "execution_count": null,
      "outputs": []
    },
    {
      "cell_type": "code",
      "metadata": {
        "id": "AJlEZYnmQRcm",
        "colab_type": "code",
        "colab": {
          "base_uri": "https://localhost:8080/",
          "height": 751
        },
        "outputId": "762007f7-8103-4b28-8355-d75cbdc53398"
      },
      "source": [
        "model.fit(X_train_reshaped,tarModified,epochs=20,validation_data=(X_test_reshaped,test_tarModified))\n"
      ],
      "execution_count": null,
      "outputs": [
        {
          "output_type": "stream",
          "text": [
            "Train on 30796 samples, validate on 7342 samples\n",
            "Epoch 1/20\n",
            "30796/30796 [==============================] - 202s 7ms/step - loss: 1.1524 - accuracy: 0.4949 - val_loss: 1.0964 - val_accuracy: 0.5215\n",
            "Epoch 2/20\n",
            "30796/30796 [==============================] - 203s 7ms/step - loss: 0.8523 - accuracy: 0.6506 - val_loss: 1.3083 - val_accuracy: 0.4691\n",
            "Epoch 3/20\n",
            "30796/30796 [==============================] - 200s 7ms/step - loss: 0.7396 - accuracy: 0.6947 - val_loss: 1.3630 - val_accuracy: 0.4580\n",
            "Epoch 4/20\n",
            "30796/30796 [==============================] - 200s 7ms/step - loss: 0.6813 - accuracy: 0.7240 - val_loss: 1.4607 - val_accuracy: 0.4645\n",
            "Epoch 5/20\n",
            "30796/30796 [==============================] - 200s 6ms/step - loss: 0.6375 - accuracy: 0.7402 - val_loss: 1.6551 - val_accuracy: 0.4378\n",
            "Epoch 6/20\n",
            "30796/30796 [==============================] - 199s 6ms/step - loss: 0.6072 - accuracy: 0.7530 - val_loss: 1.4562 - val_accuracy: 0.4875\n",
            "Epoch 7/20\n",
            "30796/30796 [==============================] - 198s 6ms/step - loss: 0.5770 - accuracy: 0.7649 - val_loss: 1.4526 - val_accuracy: 0.4958\n",
            "Epoch 8/20\n",
            "30796/30796 [==============================] - 199s 6ms/step - loss: 0.5516 - accuracy: 0.7771 - val_loss: 1.5753 - val_accuracy: 0.4615\n",
            "Epoch 9/20\n",
            "30796/30796 [==============================] - 199s 6ms/step - loss: 0.5299 - accuracy: 0.7858 - val_loss: 1.4654 - val_accuracy: 0.4989\n",
            "Epoch 10/20\n",
            "30796/30796 [==============================] - 199s 6ms/step - loss: 0.5102 - accuracy: 0.7958 - val_loss: 1.6362 - val_accuracy: 0.4662\n",
            "Epoch 11/20\n",
            "30796/30796 [==============================] - 198s 6ms/step - loss: 0.4915 - accuracy: 0.8009 - val_loss: 1.5780 - val_accuracy: 0.4887\n",
            "Epoch 12/20\n",
            "30796/30796 [==============================] - 197s 6ms/step - loss: 0.4724 - accuracy: 0.8093 - val_loss: 1.6473 - val_accuracy: 0.4766\n",
            "Epoch 13/20\n",
            "30796/30796 [==============================] - 197s 6ms/step - loss: 0.4579 - accuracy: 0.8158 - val_loss: 1.5677 - val_accuracy: 0.5053\n",
            "Epoch 14/20\n",
            "30796/30796 [==============================] - 198s 6ms/step - loss: 0.4397 - accuracy: 0.8235 - val_loss: 1.7266 - val_accuracy: 0.4847\n",
            "Epoch 15/20\n",
            "30796/30796 [==============================] - 197s 6ms/step - loss: 0.4252 - accuracy: 0.8313 - val_loss: 1.8147 - val_accuracy: 0.4760\n",
            "Epoch 16/20\n",
            "30796/30796 [==============================] - 197s 6ms/step - loss: 0.4096 - accuracy: 0.8374 - val_loss: 1.8742 - val_accuracy: 0.4728\n",
            "Epoch 17/20\n",
            "30796/30796 [==============================] - 197s 6ms/step - loss: 0.3960 - accuracy: 0.8435 - val_loss: 1.8452 - val_accuracy: 0.4768\n",
            "Epoch 18/20\n",
            "30796/30796 [==============================] - 196s 6ms/step - loss: 0.3802 - accuracy: 0.8485 - val_loss: 1.8374 - val_accuracy: 0.4764\n",
            "Epoch 19/20\n",
            "30796/30796 [==============================] - 195s 6ms/step - loss: 0.3665 - accuracy: 0.8523 - val_loss: 1.8633 - val_accuracy: 0.4847\n",
            "Epoch 20/20\n",
            "30796/30796 [==============================] - 196s 6ms/step - loss: 0.3520 - accuracy: 0.8615 - val_loss: 1.9766 - val_accuracy: 0.4828\n"
          ],
          "name": "stdout"
        },
        {
          "output_type": "execute_result",
          "data": {
            "text/plain": [
              "<keras.callbacks.callbacks.History at 0x7f4808289be0>"
            ]
          },
          "metadata": {
            "tags": []
          },
          "execution_count": 188
        }
      ]
    },
    {
      "cell_type": "code",
      "metadata": {
        "id": "93SWiKy6Rc7u",
        "colab_type": "code",
        "colab": {}
      },
      "source": [
        ""
      ],
      "execution_count": null,
      "outputs": []
    }
  ]
}